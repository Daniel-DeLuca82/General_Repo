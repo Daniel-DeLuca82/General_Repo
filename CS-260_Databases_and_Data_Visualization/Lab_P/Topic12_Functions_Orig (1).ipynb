{
 "cells": [
  {
   "cell_type": "code",
   "execution_count": 12,
   "metadata": {},
   "outputs": [],
   "source": [
    "import numpy as np\n",
    "import matplotlib.pyplot as plt\n",
    "import pandas as pd"
   ]
  },
  {
   "cell_type": "markdown",
   "metadata": {},
   "source": [
    "## First Example of defining a function"
   ]
  },
  {
   "cell_type": "code",
   "execution_count": 8,
   "metadata": {},
   "outputs": [],
   "source": [
    "#Define a function double that takes one input and doubles it\n",
    "def double(my_num):\n",
    "    return my_num * 2\n",
    "\n",
    "   "
   ]
  },
  {
   "cell_type": "code",
   "execution_count": 4,
   "metadata": {},
   "outputs": [
    {
     "data": {
      "text/plain": [
       "30"
      ]
     },
     "execution_count": 4,
     "metadata": {},
     "output_type": "execute_result"
    }
   ],
   "source": [
    "#call it a few times\n",
    "double(15)"
   ]
  },
  {
   "cell_type": "code",
   "execution_count": 5,
   "metadata": {},
   "outputs": [
    {
     "data": {
      "text/plain": [
       "120"
      ]
     },
     "execution_count": 5,
     "metadata": {},
     "output_type": "execute_result"
    }
   ],
   "source": [
    "#double my_var\n",
    "\n",
    "my_var = 60\n",
    "\n",
    "double(my_var)"
   ]
  },
  {
   "cell_type": "code",
   "execution_count": 6,
   "metadata": {},
   "outputs": [
    {
     "ename": "NameError",
     "evalue": "name 'my_num' is not defined",
     "output_type": "error",
     "traceback": [
      "\u001b[1;31m---------------------------------------------------------------------------\u001b[0m",
      "\u001b[1;31mNameError\u001b[0m                                 Traceback (most recent call last)",
      "\u001b[1;32m<ipython-input-6-8e6c679a9c16>\u001b[0m in \u001b[0;36m<module>\u001b[1;34m\u001b[0m\n\u001b[0;32m      1\u001b[0m \u001b[1;31m#What happens if we try to call my_num?  It's a dummy variable.\u001b[0m\u001b[1;33m\u001b[0m\u001b[1;33m\u001b[0m\u001b[1;33m\u001b[0m\u001b[0m\n\u001b[0;32m      2\u001b[0m \u001b[1;33m\u001b[0m\u001b[0m\n\u001b[1;32m----> 3\u001b[1;33m \u001b[0mmy_num\u001b[0m\u001b[1;33m\u001b[0m\u001b[1;33m\u001b[0m\u001b[0m\n\u001b[0m",
      "\u001b[1;31mNameError\u001b[0m: name 'my_num' is not defined"
     ]
    }
   ],
   "source": [
    "#What happens if we try to call my_num?  It's a dummy variable.\n",
    "\n",
    "my_num"
   ]
  },
  {
   "cell_type": "markdown",
   "metadata": {},
   "source": [
    "## Second Example of defining a function"
   ]
  },
  {
   "cell_type": "code",
   "execution_count": 9,
   "metadata": {},
   "outputs": [],
   "source": [
    "#define precent of x out of y  \n",
    "\n",
    "def get_percents(arr):\n",
    "    return np.round(arr/sum(arr) * 100, 2)"
   ]
  },
  {
   "cell_type": "code",
   "execution_count": 13,
   "metadata": {},
   "outputs": [
    {
     "data": {
      "text/plain": [
       "array([14.29, 42.86, 42.86])"
      ]
     },
     "execution_count": 13,
     "metadata": {},
     "output_type": "execute_result"
    }
   ],
   "source": [
    "#Call it a few times\n",
    "get_percents(np.array([5, 15, 15]))"
   ]
  },
  {
   "cell_type": "markdown",
   "metadata": {},
   "source": [
    "## Discussion Question"
   ]
  },
  {
   "cell_type": "code",
   "execution_count": null,
   "metadata": {},
   "outputs": [],
   "source": [
    "#Code the function here"
   ]
  },
  {
   "cell_type": "code",
   "execution_count": null,
   "metadata": {},
   "outputs": [],
   "source": [
    "nums = np.array([7, 10, 5])"
   ]
  },
  {
   "cell_type": "markdown",
   "metadata": {},
   "source": [
    "## Census Example"
   ]
  },
  {
   "cell_type": "markdown",
   "metadata": {},
   "source": [
    "\n",
    "SEX: Total (0)   Male (1) Female (2)\n"
   ]
  },
  {
   "cell_type": "code",
   "execution_count": 14,
   "metadata": {},
   "outputs": [
    {
     "data": {
      "text/html": [
       "<div>\n",
       "<style scoped>\n",
       "    .dataframe tbody tr th:only-of-type {\n",
       "        vertical-align: middle;\n",
       "    }\n",
       "\n",
       "    .dataframe tbody tr th {\n",
       "        vertical-align: top;\n",
       "    }\n",
       "\n",
       "    .dataframe thead th {\n",
       "        text-align: right;\n",
       "    }\n",
       "</style>\n",
       "<table border=\"1\" class=\"dataframe\">\n",
       "  <thead>\n",
       "    <tr style=\"text-align: right;\">\n",
       "      <th></th>\n",
       "      <th>SEX</th>\n",
       "      <th>AGE</th>\n",
       "      <th>CENSUS2010POP</th>\n",
       "      <th>ESTIMATESBASE2010</th>\n",
       "      <th>POPESTIMATE2010</th>\n",
       "      <th>POPESTIMATE2011</th>\n",
       "      <th>POPESTIMATE2012</th>\n",
       "      <th>POPESTIMATE2013</th>\n",
       "      <th>POPESTIMATE2014</th>\n",
       "    </tr>\n",
       "  </thead>\n",
       "  <tbody>\n",
       "    <tr>\n",
       "      <th>0</th>\n",
       "      <td>0</td>\n",
       "      <td>0</td>\n",
       "      <td>3944153</td>\n",
       "      <td>3944160</td>\n",
       "      <td>3951330</td>\n",
       "      <td>3963071</td>\n",
       "      <td>3926665</td>\n",
       "      <td>3945610</td>\n",
       "      <td>3948350</td>\n",
       "    </tr>\n",
       "    <tr>\n",
       "      <th>1</th>\n",
       "      <td>0</td>\n",
       "      <td>1</td>\n",
       "      <td>3978070</td>\n",
       "      <td>3978090</td>\n",
       "      <td>3957888</td>\n",
       "      <td>3966510</td>\n",
       "      <td>3978006</td>\n",
       "      <td>3943077</td>\n",
       "      <td>3962123</td>\n",
       "    </tr>\n",
       "    <tr>\n",
       "      <th>2</th>\n",
       "      <td>0</td>\n",
       "      <td>2</td>\n",
       "      <td>4096929</td>\n",
       "      <td>4096939</td>\n",
       "      <td>4090862</td>\n",
       "      <td>3971573</td>\n",
       "      <td>3979952</td>\n",
       "      <td>3992690</td>\n",
       "      <td>3957772</td>\n",
       "    </tr>\n",
       "    <tr>\n",
       "      <th>3</th>\n",
       "      <td>0</td>\n",
       "      <td>3</td>\n",
       "      <td>4119040</td>\n",
       "      <td>4119051</td>\n",
       "      <td>4111920</td>\n",
       "      <td>4102501</td>\n",
       "      <td>3983049</td>\n",
       "      <td>3992425</td>\n",
       "      <td>4005190</td>\n",
       "    </tr>\n",
       "    <tr>\n",
       "      <th>4</th>\n",
       "      <td>0</td>\n",
       "      <td>4</td>\n",
       "      <td>4063170</td>\n",
       "      <td>4063186</td>\n",
       "      <td>4077552</td>\n",
       "      <td>4122303</td>\n",
       "      <td>4112638</td>\n",
       "      <td>3994047</td>\n",
       "      <td>4003448</td>\n",
       "    </tr>\n",
       "    <tr>\n",
       "      <th>...</th>\n",
       "      <td>...</td>\n",
       "      <td>...</td>\n",
       "      <td>...</td>\n",
       "      <td>...</td>\n",
       "      <td>...</td>\n",
       "      <td>...</td>\n",
       "      <td>...</td>\n",
       "      <td>...</td>\n",
       "      <td>...</td>\n",
       "    </tr>\n",
       "    <tr>\n",
       "      <th>301</th>\n",
       "      <td>2</td>\n",
       "      <td>97</td>\n",
       "      <td>53582</td>\n",
       "      <td>53605</td>\n",
       "      <td>54118</td>\n",
       "      <td>57164</td>\n",
       "      <td>59557</td>\n",
       "      <td>61693</td>\n",
       "      <td>63252</td>\n",
       "    </tr>\n",
       "    <tr>\n",
       "      <th>302</th>\n",
       "      <td>2</td>\n",
       "      <td>98</td>\n",
       "      <td>36641</td>\n",
       "      <td>36675</td>\n",
       "      <td>37533</td>\n",
       "      <td>40110</td>\n",
       "      <td>42876</td>\n",
       "      <td>44703</td>\n",
       "      <td>46536</td>\n",
       "    </tr>\n",
       "    <tr>\n",
       "      <th>303</th>\n",
       "      <td>2</td>\n",
       "      <td>99</td>\n",
       "      <td>26193</td>\n",
       "      <td>26214</td>\n",
       "      <td>26074</td>\n",
       "      <td>27034</td>\n",
       "      <td>29321</td>\n",
       "      <td>31378</td>\n",
       "      <td>32791</td>\n",
       "    </tr>\n",
       "    <tr>\n",
       "      <th>304</th>\n",
       "      <td>2</td>\n",
       "      <td>100</td>\n",
       "      <td>44202</td>\n",
       "      <td>44246</td>\n",
       "      <td>45058</td>\n",
       "      <td>47557</td>\n",
       "      <td>50684</td>\n",
       "      <td>54379</td>\n",
       "      <td>58468</td>\n",
       "    </tr>\n",
       "    <tr>\n",
       "      <th>305</th>\n",
       "      <td>2</td>\n",
       "      <td>999</td>\n",
       "      <td>156964212</td>\n",
       "      <td>156967973</td>\n",
       "      <td>157257573</td>\n",
       "      <td>158426997</td>\n",
       "      <td>159583505</td>\n",
       "      <td>160756163</td>\n",
       "      <td>161920569</td>\n",
       "    </tr>\n",
       "  </tbody>\n",
       "</table>\n",
       "<p>306 rows × 9 columns</p>\n",
       "</div>"
      ],
      "text/plain": [
       "     SEX  AGE  CENSUS2010POP  ESTIMATESBASE2010  POPESTIMATE2010  \\\n",
       "0      0    0        3944153            3944160          3951330   \n",
       "1      0    1        3978070            3978090          3957888   \n",
       "2      0    2        4096929            4096939          4090862   \n",
       "3      0    3        4119040            4119051          4111920   \n",
       "4      0    4        4063170            4063186          4077552   \n",
       "..   ...  ...            ...                ...              ...   \n",
       "301    2   97          53582              53605            54118   \n",
       "302    2   98          36641              36675            37533   \n",
       "303    2   99          26193              26214            26074   \n",
       "304    2  100          44202              44246            45058   \n",
       "305    2  999      156964212          156967973        157257573   \n",
       "\n",
       "     POPESTIMATE2011  POPESTIMATE2012  POPESTIMATE2013  POPESTIMATE2014  \n",
       "0            3963071          3926665          3945610          3948350  \n",
       "1            3966510          3978006          3943077          3962123  \n",
       "2            3971573          3979952          3992690          3957772  \n",
       "3            4102501          3983049          3992425          4005190  \n",
       "4            4122303          4112638          3994047          4003448  \n",
       "..               ...              ...              ...              ...  \n",
       "301            57164            59557            61693            63252  \n",
       "302            40110            42876            44703            46536  \n",
       "303            27034            29321            31378            32791  \n",
       "304            47557            50684            54379            58468  \n",
       "305        158426997        159583505        160756163        161920569  \n",
       "\n",
       "[306 rows x 9 columns]"
      ]
     },
     "execution_count": 14,
     "metadata": {},
     "output_type": "execute_result"
    }
   ],
   "source": [
    "#Read in the 2010 census data\n",
    "census = pd.read_csv(\"NC-EST2014-AGESEX-RES.csv\")\n",
    "census"
   ]
  },
  {
   "cell_type": "code",
   "execution_count": 18,
   "metadata": {},
   "outputs": [
    {
     "data": {
      "text/html": [
       "<div>\n",
       "<style scoped>\n",
       "    .dataframe tbody tr th:only-of-type {\n",
       "        vertical-align: middle;\n",
       "    }\n",
       "\n",
       "    .dataframe tbody tr th {\n",
       "        vertical-align: top;\n",
       "    }\n",
       "\n",
       "    .dataframe thead th {\n",
       "        text-align: right;\n",
       "    }\n",
       "</style>\n",
       "<table border=\"1\" class=\"dataframe\">\n",
       "  <thead>\n",
       "    <tr style=\"text-align: right;\">\n",
       "      <th></th>\n",
       "      <th>SEX</th>\n",
       "      <th>AGE</th>\n",
       "      <th>CENSUS2010POP</th>\n",
       "      <th>ESTIMATESBASE2010</th>\n",
       "      <th>POPESTIMATE2010</th>\n",
       "      <th>POPESTIMATE2011</th>\n",
       "      <th>POPESTIMATE2012</th>\n",
       "      <th>POPESTIMATE2013</th>\n",
       "      <th>POPESTIMATE2014</th>\n",
       "    </tr>\n",
       "  </thead>\n",
       "  <tbody>\n",
       "    <tr>\n",
       "      <th>0</th>\n",
       "      <td>0</td>\n",
       "      <td>0</td>\n",
       "      <td>3944153</td>\n",
       "      <td>3944160</td>\n",
       "      <td>3951330</td>\n",
       "      <td>3963071</td>\n",
       "      <td>3926665</td>\n",
       "      <td>3945610</td>\n",
       "      <td>3948350</td>\n",
       "    </tr>\n",
       "    <tr>\n",
       "      <th>1</th>\n",
       "      <td>0</td>\n",
       "      <td>1</td>\n",
       "      <td>3978070</td>\n",
       "      <td>3978090</td>\n",
       "      <td>3957888</td>\n",
       "      <td>3966510</td>\n",
       "      <td>3978006</td>\n",
       "      <td>3943077</td>\n",
       "      <td>3962123</td>\n",
       "    </tr>\n",
       "    <tr>\n",
       "      <th>2</th>\n",
       "      <td>0</td>\n",
       "      <td>2</td>\n",
       "      <td>4096929</td>\n",
       "      <td>4096939</td>\n",
       "      <td>4090862</td>\n",
       "      <td>3971573</td>\n",
       "      <td>3979952</td>\n",
       "      <td>3992690</td>\n",
       "      <td>3957772</td>\n",
       "    </tr>\n",
       "    <tr>\n",
       "      <th>3</th>\n",
       "      <td>0</td>\n",
       "      <td>3</td>\n",
       "      <td>4119040</td>\n",
       "      <td>4119051</td>\n",
       "      <td>4111920</td>\n",
       "      <td>4102501</td>\n",
       "      <td>3983049</td>\n",
       "      <td>3992425</td>\n",
       "      <td>4005190</td>\n",
       "    </tr>\n",
       "    <tr>\n",
       "      <th>4</th>\n",
       "      <td>0</td>\n",
       "      <td>4</td>\n",
       "      <td>4063170</td>\n",
       "      <td>4063186</td>\n",
       "      <td>4077552</td>\n",
       "      <td>4122303</td>\n",
       "      <td>4112638</td>\n",
       "      <td>3994047</td>\n",
       "      <td>4003448</td>\n",
       "    </tr>\n",
       "    <tr>\n",
       "      <th>...</th>\n",
       "      <td>...</td>\n",
       "      <td>...</td>\n",
       "      <td>...</td>\n",
       "      <td>...</td>\n",
       "      <td>...</td>\n",
       "      <td>...</td>\n",
       "      <td>...</td>\n",
       "      <td>...</td>\n",
       "      <td>...</td>\n",
       "    </tr>\n",
       "    <tr>\n",
       "      <th>96</th>\n",
       "      <td>0</td>\n",
       "      <td>96</td>\n",
       "      <td>95223</td>\n",
       "      <td>95288</td>\n",
       "      <td>97161</td>\n",
       "      <td>101256</td>\n",
       "      <td>105454</td>\n",
       "      <td>109697</td>\n",
       "      <td>121184</td>\n",
       "    </tr>\n",
       "    <tr>\n",
       "      <th>97</th>\n",
       "      <td>0</td>\n",
       "      <td>97</td>\n",
       "      <td>68138</td>\n",
       "      <td>68168</td>\n",
       "      <td>68893</td>\n",
       "      <td>73279</td>\n",
       "      <td>77180</td>\n",
       "      <td>80524</td>\n",
       "      <td>83731</td>\n",
       "    </tr>\n",
       "    <tr>\n",
       "      <th>98</th>\n",
       "      <td>0</td>\n",
       "      <td>98</td>\n",
       "      <td>45900</td>\n",
       "      <td>45938</td>\n",
       "      <td>47037</td>\n",
       "      <td>50665</td>\n",
       "      <td>54530</td>\n",
       "      <td>57453</td>\n",
       "      <td>60185</td>\n",
       "    </tr>\n",
       "    <tr>\n",
       "      <th>99</th>\n",
       "      <td>0</td>\n",
       "      <td>99</td>\n",
       "      <td>32266</td>\n",
       "      <td>32289</td>\n",
       "      <td>32178</td>\n",
       "      <td>33641</td>\n",
       "      <td>36780</td>\n",
       "      <td>39606</td>\n",
       "      <td>41828</td>\n",
       "    </tr>\n",
       "    <tr>\n",
       "      <th>100</th>\n",
       "      <td>0</td>\n",
       "      <td>100</td>\n",
       "      <td>53364</td>\n",
       "      <td>53412</td>\n",
       "      <td>54409</td>\n",
       "      <td>57703</td>\n",
       "      <td>61845</td>\n",
       "      <td>66748</td>\n",
       "      <td>72197</td>\n",
       "    </tr>\n",
       "  </tbody>\n",
       "</table>\n",
       "<p>101 rows × 9 columns</p>\n",
       "</div>"
      ],
      "text/plain": [
       "     SEX  AGE  CENSUS2010POP  ESTIMATESBASE2010  POPESTIMATE2010  \\\n",
       "0      0    0        3944153            3944160          3951330   \n",
       "1      0    1        3978070            3978090          3957888   \n",
       "2      0    2        4096929            4096939          4090862   \n",
       "3      0    3        4119040            4119051          4111920   \n",
       "4      0    4        4063170            4063186          4077552   \n",
       "..   ...  ...            ...                ...              ...   \n",
       "96     0   96          95223              95288            97161   \n",
       "97     0   97          68138              68168            68893   \n",
       "98     0   98          45900              45938            47037   \n",
       "99     0   99          32266              32289            32178   \n",
       "100    0  100          53364              53412            54409   \n",
       "\n",
       "     POPESTIMATE2011  POPESTIMATE2012  POPESTIMATE2013  POPESTIMATE2014  \n",
       "0            3963071          3926665          3945610          3948350  \n",
       "1            3966510          3978006          3943077          3962123  \n",
       "2            3971573          3979952          3992690          3957772  \n",
       "3            4102501          3983049          3992425          4005190  \n",
       "4            4122303          4112638          3994047          4003448  \n",
       "..               ...              ...              ...              ...  \n",
       "96            101256           105454           109697           121184  \n",
       "97             73279            77180            80524            83731  \n",
       "98             50665            54530            57453            60185  \n",
       "99             33641            36780            39606            41828  \n",
       "100            57703            61845            66748            72197  \n",
       "\n",
       "[101 rows x 9 columns]"
      ]
     },
     "execution_count": 18,
     "metadata": {},
     "output_type": "execute_result"
    }
   ],
   "source": [
    "#Choose only the meaningful ages\n",
    "\n",
    "census = census[(census[\"AGE\"] < 999) & (census[\"SEX\"] == 0)]\n",
    "census"
   ]
  },
  {
   "cell_type": "code",
   "execution_count": 19,
   "metadata": {},
   "outputs": [
    {
     "data": {
      "text/plain": [
       "Text(0.5, 1.0, 'Age vs. Population in 2014 (Estimated)')"
      ]
     },
     "execution_count": 19,
     "metadata": {},
     "output_type": "execute_result"
    },
    {
     "data": {
      "image/png": "[encoded data removed]",
      "text/plain": [
       "<Figure size 1440x720 with 1 Axes>"
      ]
     },
     "metadata": {
      "needs_background": "light"
     },
     "output_type": "display_data"
    }
   ],
   "source": [
    "#Create a bar graph of the age information - what do we notice?\n",
    "plt.figure(figsize=(20,10))\n",
    "plt.bar(census['AGE'], census['POPESTIMATE2014'])\n",
    "plt.title(\"Age vs. Population in 2014 (Estimated)\")"
   ]
  },
  {
   "cell_type": "markdown",
   "metadata": {},
   "source": [
    "## Discuss:  Find anything interesting about this graph?"
   ]
  },
  {
   "cell_type": "code",
   "execution_count": 20,
   "metadata": {},
   "outputs": [
    {
     "data": {
      "text/html": [
       "<div>\n",
       "<style scoped>\n",
       "    .dataframe tbody tr th:only-of-type {\n",
       "        vertical-align: middle;\n",
       "    }\n",
       "\n",
       "    .dataframe tbody tr th {\n",
       "        vertical-align: top;\n",
       "    }\n",
       "\n",
       "    .dataframe thead th {\n",
       "        text-align: right;\n",
       "    }\n",
       "</style>\n",
       "<table border=\"1\" class=\"dataframe\">\n",
       "  <thead>\n",
       "    <tr style=\"text-align: right;\">\n",
       "      <th></th>\n",
       "      <th>Person</th>\n",
       "      <th>Age</th>\n",
       "    </tr>\n",
       "  </thead>\n",
       "  <tbody>\n",
       "    <tr>\n",
       "      <th>0</th>\n",
       "      <td>A</td>\n",
       "      <td>17</td>\n",
       "    </tr>\n",
       "    <tr>\n",
       "      <th>1</th>\n",
       "      <td>B</td>\n",
       "      <td>117</td>\n",
       "    </tr>\n",
       "    <tr>\n",
       "      <th>2</th>\n",
       "      <td>C</td>\n",
       "      <td>52</td>\n",
       "    </tr>\n",
       "    <tr>\n",
       "      <th>3</th>\n",
       "      <td>D</td>\n",
       "      <td>100</td>\n",
       "    </tr>\n",
       "    <tr>\n",
       "      <th>4</th>\n",
       "      <td>E</td>\n",
       "      <td>6</td>\n",
       "    </tr>\n",
       "    <tr>\n",
       "      <th>5</th>\n",
       "      <td>F</td>\n",
       "      <td>101</td>\n",
       "    </tr>\n",
       "  </tbody>\n",
       "</table>\n",
       "</div>"
      ],
      "text/plain": [
       "  Person  Age\n",
       "0      A   17\n",
       "1      B  117\n",
       "2      C   52\n",
       "3      D  100\n",
       "4      E    6\n",
       "5      F  101"
      ]
     },
     "execution_count": 20,
     "metadata": {},
     "output_type": "execute_result"
    }
   ],
   "source": [
    "data = {\"Person\": np.array(['A', 'B', 'C', 'D', 'E', 'F']),\n",
    "        \"Age\"   : np.array([17, 117, 52, 100, 6, 101])\n",
    "       }\n",
    "\n",
    "ages = pd.DataFrame(data)\n",
    "ages"
   ]
  },
  {
   "cell_type": "code",
   "execution_count": 21,
   "metadata": {},
   "outputs": [],
   "source": [
    "#make a function to mimic what the census folks did!\n",
    "\n",
    "def get_age_cutoff(age):\n",
    "    return min(age, 100)\n",
    "    "
   ]
  },
  {
   "cell_type": "code",
   "execution_count": 24,
   "metadata": {},
   "outputs": [
    {
     "data": {
      "text/plain": [
       "52"
      ]
     },
     "execution_count": 24,
     "metadata": {},
     "output_type": "execute_result"
    }
   ],
   "source": [
    "#Call it a few times\n",
    "\n",
    "get_age_cutoff(52)"
   ]
  },
  {
   "cell_type": "code",
   "execution_count": 27,
   "metadata": {},
   "outputs": [
    {
     "data": {
      "text/html": [
       "<div>\n",
       "<style scoped>\n",
       "    .dataframe tbody tr th:only-of-type {\n",
       "        vertical-align: middle;\n",
       "    }\n",
       "\n",
       "    .dataframe tbody tr th {\n",
       "        vertical-align: top;\n",
       "    }\n",
       "\n",
       "    .dataframe thead th {\n",
       "        text-align: right;\n",
       "    }\n",
       "</style>\n",
       "<table border=\"1\" class=\"dataframe\">\n",
       "  <thead>\n",
       "    <tr style=\"text-align: right;\">\n",
       "      <th></th>\n",
       "      <th>Person</th>\n",
       "      <th>Age</th>\n",
       "      <th>Age Cutoff</th>\n",
       "    </tr>\n",
       "  </thead>\n",
       "  <tbody>\n",
       "    <tr>\n",
       "      <th>0</th>\n",
       "      <td>A</td>\n",
       "      <td>17</td>\n",
       "      <td>17</td>\n",
       "    </tr>\n",
       "    <tr>\n",
       "      <th>1</th>\n",
       "      <td>B</td>\n",
       "      <td>117</td>\n",
       "      <td>100</td>\n",
       "    </tr>\n",
       "    <tr>\n",
       "      <th>2</th>\n",
       "      <td>C</td>\n",
       "      <td>52</td>\n",
       "      <td>52</td>\n",
       "    </tr>\n",
       "    <tr>\n",
       "      <th>3</th>\n",
       "      <td>D</td>\n",
       "      <td>100</td>\n",
       "      <td>100</td>\n",
       "    </tr>\n",
       "    <tr>\n",
       "      <th>4</th>\n",
       "      <td>E</td>\n",
       "      <td>6</td>\n",
       "      <td>6</td>\n",
       "    </tr>\n",
       "    <tr>\n",
       "      <th>5</th>\n",
       "      <td>F</td>\n",
       "      <td>101</td>\n",
       "      <td>100</td>\n",
       "    </tr>\n",
       "  </tbody>\n",
       "</table>\n",
       "</div>"
      ],
      "text/plain": [
       "  Person  Age  Age Cutoff\n",
       "0      A   17          17\n",
       "1      B  117         100\n",
       "2      C   52          52\n",
       "3      D  100         100\n",
       "4      E    6           6\n",
       "5      F  101         100"
      ]
     },
     "execution_count": 27,
     "metadata": {},
     "output_type": "execute_result"
    }
   ],
   "source": [
    "#Apply the function to the column\n",
    "ages[\"Age Cutoff\"] = ages[\"Age\"].apply(get_age_cutoff)\n",
    "ages"
   ]
  },
  {
   "cell_type": "markdown",
   "metadata": {},
   "source": [
    "## Galton Example"
   ]
  },
  {
   "cell_type": "markdown",
   "metadata": {},
   "source": [
    "Francis Galton on wikipedia:  [Sir Francis Galton](https://en.wikipedia.org/wiki/Francis_Galton)\n",
    "\n",
    "* Charles Darwin's cousin\n",
    "* Interested in how traits were passed down\n",
    "* Eugenics - Wanted to breed superman... "
   ]
  },
  {
   "cell_type": "code",
   "execution_count": null,
   "metadata": {},
   "outputs": [],
   "source": [
    "galton = pd.read_csv ('galton.csv')\n",
    "galton"
   ]
  },
  {
   "cell_type": "markdown",
   "metadata": {},
   "source": [
    "### Discuss what's in the table\n",
    "\n",
    "* Combined mother's and father's heights into 1 number \n",
    "* weighted mother's more (debated)"
   ]
  },
  {
   "cell_type": "markdown",
   "metadata": {},
   "source": [
    "### Our goal:  Can we predict the height of the child based on parent height?"
   ]
  },
  {
   "cell_type": "code",
   "execution_count": null,
   "metadata": {},
   "outputs": [],
   "source": [
    "#Whittle the table down and rename\n",
    "heights = galton[['midparentHeight', 'childHeight']]\n",
    "heights = heights.rename(columns={'midparentHeight': 'MidParent', 'childHeight': 'Child'})\n",
    "heights"
   ]
  },
  {
   "cell_type": "code",
   "execution_count": null,
   "metadata": {},
   "outputs": [],
   "source": [
    "#Scatter plot\n",
    "plt.scatter(heights['MidParent'], heights['Child'], color = 'black')\n",
    "plt.xlabel(\"MidParent Height\")\n",
    "plt.ylabel(\"Child Height\")\n",
    "plt.title(\"Parent Height vs. Mid Parent Height\")"
   ]
  },
  {
   "cell_type": "markdown",
   "metadata": {},
   "source": [
    "### Discuss:  How could we predict the height of a child with parents near 68 in tall?"
   ]
  },
  {
   "cell_type": "code",
   "execution_count": null,
   "metadata": {},
   "outputs": [],
   "source": []
  },
  {
   "cell_type": "code",
   "execution_count": null,
   "metadata": {},
   "outputs": [],
   "source": []
  },
  {
   "cell_type": "code",
   "execution_count": null,
   "metadata": {},
   "outputs": [],
   "source": []
  },
  {
   "cell_type": "code",
   "execution_count": null,
   "metadata": {},
   "outputs": [],
   "source": []
  },
  {
   "cell_type": "code",
   "execution_count": null,
   "metadata": {},
   "outputs": [],
   "source": []
  },
  {
   "cell_type": "code",
   "execution_count": null,
   "metadata": {},
   "outputs": [],
   "source": []
  },
  {
   "cell_type": "code",
   "execution_count": null,
   "metadata": {},
   "outputs": [],
   "source": []
  },
  {
   "cell_type": "code",
   "execution_count": null,
   "metadata": {},
   "outputs": [],
   "source": []
  },
  {
   "cell_type": "code",
   "execution_count": null,
   "metadata": {},
   "outputs": [],
   "source": [
    "plt.scatter(heights['MidParent'], heights['Child'], color = 'black')\n",
    "plt.xlabel(\"MidParent Height\")\n",
    "plt.ylabel(\"Child Height\")\n",
    "plt.title(\"Parent Height vs. Mid Parent Height\")\n",
    "avg_child_near_68 = 66.2  # I know this based on later work\n",
    "\n",
    "plt.plot([67.5, 67.5], [50,80], color = 'orange', linewidth=3)\n",
    "plt.plot([68.5, 68.5], [50,80], color = 'orange', linewidth=3)\n",
    "plt.plot(68, avg_child_near_68, marker='o', markersize = 5, color = 'orange')"
   ]
  },
  {
   "cell_type": "code",
   "execution_count": null,
   "metadata": {},
   "outputs": [],
   "source": [
    "#Calculate the actual average"
   ]
  },
  {
   "cell_type": "code",
   "execution_count": null,
   "metadata": {},
   "outputs": [],
   "source": [
    "#Create a function to do this for any age!"
   ]
  },
  {
   "cell_type": "code",
   "execution_count": null,
   "metadata": {},
   "outputs": [],
   "source": [
    "#TEST YOUR FUNCTION ON SOMETHING YOU KNOW"
   ]
  },
  {
   "cell_type": "code",
   "execution_count": null,
   "metadata": {},
   "outputs": [],
   "source": [
    "#Predict child height for parents with heiht 72 inches"
   ]
  },
  {
   "cell_type": "code",
   "execution_count": null,
   "metadata": {},
   "outputs": [],
   "source": [
    "#Predict Child Heights for all children in the data frame!"
   ]
  },
  {
   "cell_type": "code",
   "execution_count": null,
   "metadata": {},
   "outputs": [],
   "source": [
    "#Scatter plot both the actual child height and predicted child heights!\n",
    "plt.scatter(heights['MidParent'], heights['Child'], color = 'black')\n",
    "#????\n",
    "plt.xlabel(\"MidParent Height\")\n",
    "plt.ylabel(\"Child Height\")\n",
    "plt.legend(['Actual', 'Predicted'])\n",
    "plt.title(\"Parent Height vs. Mid Parent Height\")"
   ]
  },
  {
   "cell_type": "markdown",
   "metadata": {},
   "source": [
    "## You just discovered a ????   (And so did Galton when he did this)"
   ]
  },
  {
   "cell_type": "markdown",
   "metadata": {},
   "source": [
    "## We also just used a Machine Learning Technique called ???"
   ]
  }
 ],
 "metadata": {
  "kernelspec": {
   "display_name": "Python 3 (ipykernel)",
   "language": "python",
   "name": "python3"
  },
  "language_info": {
   "codemirror_mode": {
    "name": "ipython",
    "version": 3
   },
   "file_extension": ".py",
   "mimetype": "text/x-python",
   "name": "python",
   "nbconvert_exporter": "python",
   "pygments_lexer": "ipython3",
   "version": "3.9.7"
  }
 },
 "nbformat": 4,
 "nbformat_minor": 4
}
