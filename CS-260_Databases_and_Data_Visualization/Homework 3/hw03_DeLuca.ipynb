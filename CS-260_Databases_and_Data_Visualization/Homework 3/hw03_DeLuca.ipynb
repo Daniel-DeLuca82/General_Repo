{
 "cells": [
  {
   "cell_type": "markdown",
   "metadata": {},
   "source": [
    "### *“People ask me all the time: ‘What is it like to be a woman at Google?’* \n",
    "\n",
    "### *I’m not a woman at Google, I’m a geek at Google. And being a geek is just great. I’m a geek, I like to code, I even like to use spreadsheets when I cook.”* \n",
    "\n",
    "### **-Marissa Mayer**"
   ]
  },
  {
   "cell_type": "markdown",
   "metadata": {},
   "source": [
    "----\n",
    "\n",
    "## YOUR NAME HERE: Daniel DeLuca\n",
    "\n",
    "----"
   ]
  },
  {
   "cell_type": "markdown",
   "metadata": {
    "tags": []
   },
   "source": [
    "# Homework 3: Reviewing Tables/DataFrames\n",
    "\n",
    "Covers material from Ch 6 in the text."
   ]
  },
  {
   "cell_type": "code",
   "execution_count": null,
   "metadata": {
    "collapsed": false,
    "jupyter": {
     "outputs_hidden": false
    }
   },
   "outputs": [],
   "source": [
    "#Please import the 2 packages you need for working with tables and data frames here\n",
    "import pandas as pd\n",
    "import numpy as np"
   ]
  },
  {
   "cell_type": "markdown",
   "metadata": {},
   "source": [
    "## A. Differences between Universities"
   ]
  },
  {
   "cell_type": "markdown",
   "metadata": {},
   "source": [
    "Suppose you're choosing a university to attend, and you'd like to *quantify* how *dissimilar* any two universities are.  You rate each university you're considering on several numerical traits.  You decide on a very detailed list of 1000 traits, and you measure all of them!  Some examples:\n",
    "\n",
    "* The cost to attend (per year)\n",
    "* The average Yelp review of nearby Thai restaurants\n",
    "* The USA Today ranking of the Medical school\n",
    "* The USA Today ranking of the Engineering school\n",
    "\n",
    "You decide that the dissimilarity between two universities is the *total* of the differences in their traits.  That is, the dissimilarity is:\n",
    "\n",
    "* the **sum** of\n",
    "* the absolute values of\n",
    "* the 1000 differences in their trait values."
   ]
  },
  {
   "cell_type": "markdown",
   "metadata": {},
   "source": [
    "### **Question 1.** \n",
    "\n",
    "A) In the next cell, load the School1.csv\\School2.csv data, which contain 1000 trait values for 2 schools. "
   ]
  },
  {
   "cell_type": "code",
   "execution_count": null,
   "metadata": {
    "collapsed": false,
    "jupyter": {
     "outputs_hidden": false
    }
   },
   "outputs": [],
   "source": [
    "school1 = pd.read_csv(\"School1.csv\")\n",
    "school2 = pd.read_csv('School2.csv')"
   ]
  },
  {
   "cell_type": "markdown",
   "metadata": {},
   "source": [
    "B)  Compute the dissimilarity (according to the  method described above) between School1 and School2.  \n",
    "\n",
    "Call your answer `dissimilarity`.  Use a single line of code to compute the dissimilarity answer."
   ]
  },
  {
   "cell_type": "code",
   "execution_count": null,
   "metadata": {},
   "outputs": [],
   "source": [
    "dissimilarity = abs(school1['Trait value'] - school2['Trait value']).sum()\n",
    "dissimilarity"
   ]
  },
  {
   "cell_type": "markdown",
   "metadata": {},
   "source": [
    "Double-click __here__ for the correct answer.\n",
    "\n",
    "<!-- 14060.55870...\n",
    "-->"
   ]
  },
  {
   "cell_type": "markdown",
   "metadata": {},
   "source": [
    "### **Question 2.** \n",
    "\n",
    "Why do we sum up the absolute values of the differences in trait values, rather than just summing up the differences?"
   ]
  },
  {
   "cell_type": "markdown",
   "metadata": {},
   "source": [
    "We sum up the absolute values to prevent negative numbers from influencing the answer."
   ]
  },
  {
   "cell_type": "markdown",
   "metadata": {},
   "source": [
    "---"
   ]
  },
  {
   "cell_type": "markdown",
   "metadata": {},
   "source": [
    "##### Weighing the traits\n",
    "After computing dissimilarities between several schools, you notice a problem with your method: the scale of the traits matters a lot.\n",
    "\n",
    "Since schools cost tens of thousands of dollars to attend, the cost-to-attend trait is always a much bigger *number* than most other traits.  That makes it affect the dissimilarity a lot more than other traits.  Two schools that differ in cost-to-attend by \\\\$900, but are otherwise identical, get a dissimilarity of 900.  But two schools that differ in graduation rate by .9 (a huge difference!), but are otherwise identical, get a dissimilarity of only .9.\n",
    "\n",
    "One way to fix this problem is to assign different \"weights\" to different traits.  For example, we could fix the problem above by multiplying the difference in the cost-to-attend traits by .001, so that a difference of \\\\$900 in cost-to-attend results in a dissimilarity of $ 900 \\times .001 $, or $ .9 $.\n",
    "\n",
    "Here's a revised method that does that for every trait:\n",
    "\n",
    "1. For each trait, subtract the two schools' trait values.\n",
    "2. Then take the absolute value of that difference.\n",
    "3. *Now multiply that absolute value by a trait-specific number, like .001 or 2.*\n",
    "4. Now sum the 1000 resulting numbers.\n",
    "\n",
    "### **Question 3.** \n",
    "\n",
    "Suppose you've already decided on a weight for each trait. You saved the weights in a ``weights.csv`` file. \n",
    "\n",
    "Load them into a table called `weights` in the cell below. "
   ]
  },
  {
   "cell_type": "code",
   "execution_count": null,
   "metadata": {},
   "outputs": [],
   "source": [
    "weights = pd.read_csv('weights.csv')\n",
    "weights"
   ]
  },
  {
   "cell_type": "markdown",
   "metadata": {},
   "source": [
    "---"
   ]
  },
  {
   "cell_type": "markdown",
   "metadata": {},
   "source": [
    "### **Question 4.**  ?\n",
    "\n",
    "Now use the revised method to compute a revised dissimilarity between School 1 and School 2.\n",
    "\n",
    "*Hint:* Using array arithmetic, your answer should be almost as short as in question 1."
   ]
  },
  {
   "cell_type": "code",
   "execution_count": null,
   "metadata": {
    "collapsed": false,
    "jupyter": {
     "outputs_hidden": false
    }
   },
   "outputs": [],
   "source": [
    "revised_dissimilarity =  abs(school1['Trait value'] - school2['Trait value']).sum()\n",
    "revised_dissimilarity "
   ]
  },
  {
   "cell_type": "markdown",
   "metadata": {},
   "source": [
    "Double-click __here__ for the correct answer.\n",
    "\n",
    "<!-- 505.98313211...\n",
    "-->"
   ]
  },
  {
   "cell_type": "markdown",
   "metadata": {},
   "source": [
    "---\n",
    "\n",
    "## B. Little Women\n",
    "\n",
    "Recall from our first week that we considered a plot that compares the number of characters to the number of periods in each chapter of Little Women.  Each point represents one chapter.\n",
    "\n",
    "<img src=\"https://github.com/kathleen-ryan-DeSales/CS250/blob/main/pictures/little_women.png?raw=true\">"
   ]
  },
  {
   "cell_type": "markdown",
   "metadata": {},
   "source": [
    "### **Question 5.**\n",
    "\n",
    "To generate the above graph, we started with the data in the table below.  \n",
    "\n",
    "Show the first 10 rows using the ``head`` function so that you can succintly see what's in the table."
   ]
  },
  {
   "cell_type": "code",
   "execution_count": null,
   "metadata": {},
   "outputs": [],
   "source": [
    "lw_df = pd.read_csv(\"little_women.csv\")  \n",
    "\n",
    "lw_df.head(10)"
   ]
  },
  {
   "cell_type": "markdown",
   "metadata": {},
   "source": [
    "### **Question 6.**\n",
    "\n",
    "To generate the above graph, we need to compute the number of characters per period in each chapter.  Add a column to the ``lw_df`` called ``Chars Per Period`` with this information."
   ]
  },
  {
   "cell_type": "code",
   "execution_count": null,
   "metadata": {},
   "outputs": [],
   "source": [
    "lw_df['Chars Per Period'] = lw_df['Chapter Length'] / lw_df['Number of Periods']\n",
    "\n",
    "lw_df  #Print the table out and see your change!"
   ]
  },
  {
   "cell_type": "markdown",
   "metadata": {},
   "source": [
    "### **Question 7.**\n",
    "\n",
    "Find highest proportion of characrters per period of all chapters."
   ]
  },
  {
   "cell_type": "code",
   "execution_count": null,
   "metadata": {},
   "outputs": [],
   "source": [
    "lw_df['Chars Per Period'].max()\n",
    "\n",
    "most_chars_per_period = lw_df['Chars Per Period'].max()\n",
    "most_chars_per_period  #This variable should contain your inal answer"
   ]
  },
  {
   "cell_type": "markdown",
   "metadata": {},
   "source": [
    "### **Question 8.**\n",
    "\n",
    "Without hard coding, find the chapter with the lowest proportion of characters per period."
   ]
  },
  {
   "cell_type": "code",
   "execution_count": null,
   "metadata": {},
   "outputs": [],
   "source": [
    "... #More code here\n",
    "\n",
    "min_chars = lw_df['Chars Per Period'].min()\n",
    "\n",
    "chapter_least_chars_per_period = lw_df[lw_df['Chars Per Period'] == min_chars]['Chapter']\n",
    " \n",
    "chapter_least_chars_per_period  #This variable should contain your final answer"
   ]
  },
  {
   "cell_type": "markdown",
   "metadata": {},
   "source": [
    "### **Question 9.**\n",
    "\n",
    "Find the average and standard deviation of the characters per period for the chapters in little women."
   ]
  },
  {
   "cell_type": "code",
   "execution_count": null,
   "metadata": {},
   "outputs": [],
   "source": [
    "mean_chars_per_period = lw_df['Chars Per Period'].mean()\n",
    "std_chars_per_period = lw_df['Chars Per Period'].std()\n",
    "\n",
    "mean_chars_per_period, std_chars_per_period  #These variables should contain your final answer"
   ]
  },
  {
   "cell_type": "markdown",
   "metadata": {},
   "source": [
    "---\n",
    "\n",
    "## C. World Populations\n",
    "\n",
    "\n",
    "Let's Review basic ``where`` clauses.\n"
   ]
  },
  {
   "cell_type": "markdown",
   "metadata": {},
   "source": [
    "### **Question 10.**\n",
    "\n",
    "a) Read in the world_population.csv below. The table has a single column with the world population in each year from 1950-2015 (as [estimated](http://www.census.gov/population/international/data/worldpop/table_population.php) by the US Census Bureau)."
   ]
  },
  {
   "cell_type": "code",
   "execution_count": null,
   "metadata": {
    "collapsed": false,
    "jupyter": {
     "outputs_hidden": false
    }
   },
   "outputs": [],
   "source": [
    "#Read in table\n",
    "population_table = pd.read_csv('world_population.csv')\n",
    "population_table"
   ]
  },
  {
   "cell_type": "markdown",
   "metadata": {},
   "source": [
    "### **Question 11.**\n",
    "\n",
    "Using ``arange``, create a column called \"Year\" in the table that shows the years.  The first row is 1950 and the last row is 2015."
   ]
  },
  {
   "cell_type": "code",
   "execution_count": null,
   "metadata": {},
   "outputs": [],
   "source": [
    "#Create the Years Column here\n",
    "population_table['Year'] = np.arange(1950 , 2016 , 1)\n",
    "\n",
    "population_table"
   ]
  },
  {
   "cell_type": "markdown",
   "metadata": {},
   "source": [
    "### **Question 12.**\n",
    "\n",
    "Use boolean indexing (so create a \"where\" clause) to answer this question:  In what year did world population cross 6 billion?"
   ]
  },
  {
   "cell_type": "code",
   "execution_count": null,
   "metadata": {},
   "outputs": [],
   "source": [
    "six_bil = population_table[population_table['Population'] > 6000000000]\n",
    "six_bil"
   ]
  },
  {
   "cell_type": "code",
   "execution_count": null,
   "metadata": {
    "collapsed": false,
    "jupyter": {
     "outputs_hidden": false
    }
   },
   "outputs": [],
   "source": [
    "#do some work first - Add as many lines/cells as you need\n",
    "\n",
    "yr_over_6bil = six_bil['Year'].iloc[1]  #To get credit, this  variable should contain your \n",
    "                     #FINAL ANSWER so don't use it for other variable names\n",
    "yr_over_6bil "
   ]
  },
  {
   "cell_type": "markdown",
   "metadata": {},
   "source": [
    "---"
   ]
  },
  {
   "cell_type": "markdown",
   "metadata": {},
   "source": [
    "## D. Creating your own csv of data\n",
    "\n",
    "Let's load in data that you yourself have created."
   ]
  },
  {
   "cell_type": "markdown",
   "metadata": {},
   "source": [
    "\n",
    "### **Question 13.**\n",
    "\n",
    "Create your own CSV file called `my_data_yourlastname.txt` inside the same folder as this lab's folder.  Your file have **two columns** and **four rows**, and one of the rows should contain column headers. It can have whatever values you want.  \n",
    "\n",
    "NOTE:  \n",
    "\n",
    "* Even though it is marked as a `.txt` file, you can just add commas to designate columns and it will be loaded in like a csv. \n",
    "\n",
    "* To create the file, go to the folder containing this lab and right click to select \"New -> Text File\".  Then rename the file `my_data.txt`.  \n",
    "\n",
    "Below, load the file into a dataframe called `my_data`."
   ]
  },
  {
   "cell_type": "code",
   "execution_count": null,
   "metadata": {
    "collapsed": false,
    "jupyter": {
     "outputs_hidden": false
    }
   },
   "outputs": [],
   "source": [
    "# Load your table here and make sure it's printed out without an error!\n",
    "my_data = pd.read_csv('my_data_DeLuca.txt')\n",
    "my_data"
   ]
  },
  {
   "cell_type": "markdown",
   "metadata": {},
   "source": [
    "---"
   ]
  },
  {
   "cell_type": "markdown",
   "metadata": {},
   "source": [
    "## E. Creating tables from scratch within Jupyter Notebooks\n",
    "\n",
    "Let's review creating tables from scratch from within a notebook file."
   ]
  },
  {
   "cell_type": "markdown",
   "metadata": {},
   "source": [
    "### **Question 14.**\n",
    "\n",
    "In the cell below, create a table `top_10_movies` with 2 columns: \"Rating\" and \"Name\" which have the data below.  These data corresponds to the [IMDb](imdb.com) ratings of 8 movies.  \n",
    "* 9.2, 9.2, 9., 8.9, 8.9, 8.9, 8.9, 8.9, 8.9, 8.8\n",
    "* These movies:\n",
    "        'The Shawshank Redemption (1994)',\n",
    "        'The Godfather (1972)',\n",
    "        'The Godfather: Part II (1974)',\n",
    "        'Pulp Fiction (1994)',\n",
    "        \"Schindler's List (1993)\",\n",
    "        'The Lord of the Rings: The Return of the King (2003)',\n",
    "        '12 Angry Men (1957)',\n",
    "        'The Dark Knight (2008)',\n",
    "        'Il buono, il brutto, il cattivo (1966)',\n",
    "        'The Lord of the Rings: The Fellowship of the Ring (2001)'\n"
   ]
  },
  {
   "cell_type": "code",
   "execution_count": 188,
   "metadata": {
    "collapsed": false,
    "jupyter": {
     "outputs_hidden": false
    }
   },
   "outputs": [
    {
     "data": {
      "text/html": [
       "<div>\n",
       "<style scoped>\n",
       "    .dataframe tbody tr th:only-of-type {\n",
       "        vertical-align: middle;\n",
       "    }\n",
       "\n",
       "    .dataframe tbody tr th {\n",
       "        vertical-align: top;\n",
       "    }\n",
       "\n",
       "    .dataframe thead th {\n",
       "        text-align: right;\n",
       "    }\n",
       "</style>\n",
       "<table border=\"1\" class=\"dataframe\">\n",
       "  <thead>\n",
       "    <tr style=\"text-align: right;\">\n",
       "      <th></th>\n",
       "      <th>Rating</th>\n",
       "      <th>Name</th>\n",
       "    </tr>\n",
       "  </thead>\n",
       "  <tbody>\n",
       "    <tr>\n",
       "      <th>0</th>\n",
       "      <td>9.2</td>\n",
       "      <td>The Shawshank Redemption (1994)</td>\n",
       "    </tr>\n",
       "    <tr>\n",
       "      <th>1</th>\n",
       "      <td>9.2</td>\n",
       "      <td>The Godfather (1972)</td>\n",
       "    </tr>\n",
       "    <tr>\n",
       "      <th>2</th>\n",
       "      <td>9.0</td>\n",
       "      <td>The Godfather: Part II (1974)</td>\n",
       "    </tr>\n",
       "    <tr>\n",
       "      <th>3</th>\n",
       "      <td>8.9</td>\n",
       "      <td>Pulp Fiction (1994)</td>\n",
       "    </tr>\n",
       "    <tr>\n",
       "      <th>4</th>\n",
       "      <td>8.9</td>\n",
       "      <td>Schindler's List (1993)</td>\n",
       "    </tr>\n",
       "    <tr>\n",
       "      <th>5</th>\n",
       "      <td>8.9</td>\n",
       "      <td>The Lord of the Rings: The Return of the King ...</td>\n",
       "    </tr>\n",
       "    <tr>\n",
       "      <th>6</th>\n",
       "      <td>8.9</td>\n",
       "      <td>12 Angry Men (1957)</td>\n",
       "    </tr>\n",
       "    <tr>\n",
       "      <th>7</th>\n",
       "      <td>8.9</td>\n",
       "      <td>The Dark Knight (2008)</td>\n",
       "    </tr>\n",
       "    <tr>\n",
       "      <th>8</th>\n",
       "      <td>8.9</td>\n",
       "      <td>Il buono, il brutto, il cattivo (1966)</td>\n",
       "    </tr>\n",
       "    <tr>\n",
       "      <th>9</th>\n",
       "      <td>8.8</td>\n",
       "      <td>The Lord of the Rings: The Fellowship of the R...</td>\n",
       "    </tr>\n",
       "  </tbody>\n",
       "</table>\n",
       "</div>"
      ],
      "text/plain": [
       "   Rating                                               Name\n",
       "0     9.2                    The Shawshank Redemption (1994)\n",
       "1     9.2                               The Godfather (1972)\n",
       "2     9.0                      The Godfather: Part II (1974)\n",
       "3     8.9                                Pulp Fiction (1994)\n",
       "4     8.9                            Schindler's List (1993)\n",
       "5     8.9  The Lord of the Rings: The Return of the King ...\n",
       "6     8.9                                12 Angry Men (1957)\n",
       "7     8.9                             The Dark Knight (2008)\n",
       "8     8.9             Il buono, il brutto, il cattivo (1966)\n",
       "9     8.8  The Lord of the Rings: The Fellowship of the R..."
      ]
     },
     "execution_count": 188,
     "metadata": {},
     "output_type": "execute_result"
    }
   ],
   "source": [
    "#Add as many lines as you need to do this.\n",
    "\n",
    "top_10_movies = pd.DataFrame()\n",
    "top_10_movies['Rating'] = np.array([9.2,9.2,9,8.9,8.9,8.9,8.9,8.9,8.9,8.8])\n",
    "top_10_movies['Name'] = np.array(['The Shawshank Redemption (1994)', 'The Godfather (1972)', 'The Godfather: Part II (1974)','Pulp Fiction (1994)', \"Schindler's List (1993)\", 'The Lord of the Rings: The Return of the King (2003)', '12 Angry Men (1957)', 'The Dark Knight (2008)', 'Il buono, il brutto, il cattivo (1966)', 'The Lord of the Rings: The Fellowship of the Ring (2001)'])\n",
    "top_10_movies  #Should contain your table"
   ]
  },
  {
   "cell_type": "markdown",
   "metadata": {
    "jupyter": {
     "outputs_hidden": false
    }
   },
   "source": [
    "---"
   ]
  },
  {
   "cell_type": "markdown",
   "metadata": {},
   "source": [
    "## F. IMDb Data\n",
    "\n",
    "Now let's load in more IMDb data!"
   ]
  },
  {
   "cell_type": "markdown",
   "metadata": {},
   "source": [
    "### **Question 15.**\n",
    "\n",
    "a) The file `imdb.csv` contains a table of information about the 250 highest-rated movies on IMDb.  Load it as a table called `imdb`."
   ]
  },
  {
   "cell_type": "code",
   "execution_count": null,
   "metadata": {
    "collapsed": false,
    "jupyter": {
     "outputs_hidden": false
    }
   },
   "outputs": [],
   "source": [
    "#Read the file in here.\n",
    "imdb = pd.read_csv('imdb.csv')\n",
    "imdb"
   ]
  },
  {
   "cell_type": "markdown",
   "metadata": {},
   "source": [
    "Notice this table is big enough that only a few of its rows are displayed, but the others are still there.  10 are shown, so there are 250 movies total."
   ]
  },
  {
   "cell_type": "markdown",
   "metadata": {},
   "source": [
    "### **Question 16.**\n",
    "\n",
    "In the next cell, find the highest rating in the database **without** hardcoding."
   ]
  },
  {
   "cell_type": "code",
   "execution_count": 189,
   "metadata": {},
   "outputs": [
    {
     "data": {
      "text/plain": [
       "'The Godfather (1972)'"
      ]
     },
     "execution_count": 189,
     "metadata": {},
     "output_type": "execute_result"
    }
   ],
   "source": [
    "#Add lines here\n",
    "top_ratings = imdb.sort_values('Rating' , ascending = False)\n",
    "highest_rating =  top_ratings['Title'].iloc[0]\n",
    "highest_rating "
   ]
  },
  {
   "cell_type": "markdown",
   "metadata": {},
   "source": [
    "### **Question 17.**\n",
    "\n",
    "Now find how many movies had the highest rating **without** hardcoding."
   ]
  },
  {
   "cell_type": "code",
   "execution_count": null,
   "metadata": {},
   "outputs": [],
   "source": []
  },
  {
   "cell_type": "code",
   "execution_count": null,
   "metadata": {},
   "outputs": [],
   "source": [
    "#Add as many lines/cells as you need\n",
    "num_with_highest_rating = top_ratings[top_ratings['Rating'] == 9.2]\n",
    "\n",
    "num_with_highest_rating  #Must contain your final answer"
   ]
  },
  {
   "cell_type": "markdown",
   "metadata": {},
   "source": [
    "### **Question 18.**\n",
    "\n",
    "In the cell below, sort your data from highest to lowest, as to confirm your answer above."
   ]
  },
  {
   "cell_type": "code",
   "execution_count": null,
   "metadata": {
    "collapsed": false,
    "jupyter": {
     "outputs_hidden": false
    }
   },
   "outputs": [],
   "source": [
    "#Your code here\n",
    "imdb.sort_values('Rating' , ascending = False)"
   ]
  },
  {
   "cell_type": "markdown",
   "metadata": {},
   "source": [
    "### **Question 19.**\n",
    "\n",
    "Now find all movie names **(so just the movie names and no other details)** with the LOWEST rating.  "
   ]
  },
  {
   "cell_type": "code",
   "execution_count": null,
   "metadata": {
    "collapsed": false,
    "jupyter": {
     "outputs_hidden": false
    }
   },
   "outputs": [],
   "source": [
    "lowest_rating = imdb.sort_values('Rating' , ascending = True)  #HINT:  First find the lowest rating\n",
    "\n",
    "\n",
    "#Then find the movies with that lowest rating:\n",
    "lowest_titles = lowest_rating[lowest_rating['Rating'] == 8.0]['Title']\n",
    "lowest_titles\n"
   ]
  },
  {
   "cell_type": "markdown",
   "metadata": {},
   "source": [
    "e) Now create a version of `imdb` that's sorted chronologically, with the earliest movies first.  Call it `imdb_by_year`."
   ]
  },
  {
   "cell_type": "code",
   "execution_count": null,
   "metadata": {},
   "outputs": [],
   "source": [
    "imdb_by_year = imdb.sort_values('Year' , ascending = True)\n",
    "\n",
    "imdb_by_year #print it out to see!"
   ]
  },
  {
   "cell_type": "markdown",
   "metadata": {},
   "source": [
    "### **Question 20.**\n",
    "\n",
    "What's the title of the earliest movie in the dataset? Write code in the cell below to decide.  \n",
    "\n",
    "**Do not hardcode.**\n",
    "\n",
    "**Show just the title and no other info.**"
   ]
  },
  {
   "cell_type": "code",
   "execution_count": null,
   "metadata": {},
   "outputs": [],
   "source": [
    "earliest_movie_title = imdb_by_year.iloc[0]['Title']\n",
    "earliest_movie_title"
   ]
  },
  {
   "cell_type": "markdown",
   "metadata": {},
   "source": [
    "---"
   ]
  },
  {
   "cell_type": "markdown",
   "metadata": {},
   "source": [
    "You're ready for more!"
   ]
  },
  {
   "cell_type": "markdown",
   "metadata": {},
   "source": [
    "---\n",
    "\n",
    "### **Question 21.**\n",
    "\n",
    "Suppose you're interested in movies from the 1940s.  Set ``forties`` to a subtable containing only the movies from 1940s."
   ]
  },
  {
   "cell_type": "code",
   "execution_count": null,
   "metadata": {
    "collapsed": false,
    "jupyter": {
     "outputs_hidden": false
    }
   },
   "outputs": [],
   "source": [
    "#Your code here - Add as many lines/cells as you need\n",
    "fortie = imdb[imdb['Year'] > 1939]\n",
    "forties = fortie[fortie['Year'] < 1950]\n",
    "forties #SHould print out your final answer"
   ]
  },
  {
   "cell_type": "markdown",
   "metadata": {},
   "source": [
    "### **Question 22.**\n",
    "\n",
    "Create a table called `nineties` containing the movies that came out in the 1990s. "
   ]
  },
  {
   "cell_type": "code",
   "execution_count": null,
   "metadata": {},
   "outputs": [],
   "source": [
    "#Your code here - Add as many lines/cells as you need\n",
    "nine = imdb[imdb['Year'] > 1989]\n",
    "nineties = nine[nine['Year'] <2000]\n",
    "\n",
    "nineties #SHould print out your final answer"
   ]
  },
  {
   "cell_type": "markdown",
   "metadata": {},
   "source": [
    "### **Question 23.**\n",
    "\n",
    "How does the average and standard deviation of the movie ratings from the 40s and 90s compare? \n",
    "\n",
    "Use the ``describe`` function to help you assess this quickly.\n",
    "\n",
    "The syntax for ``describe`` is as you would expect:   ``table[\"column_name\"].describe().``"
   ]
  },
  {
   "cell_type": "code",
   "execution_count": null,
   "metadata": {},
   "outputs": [],
   "source": [
    "#Call describe on forties here.\n",
    "forties['Rating'].describe()"
   ]
  },
  {
   "cell_type": "code",
   "execution_count": null,
   "metadata": {},
   "outputs": [],
   "source": [
    "#Call describe on nineties here.\n",
    "nineties['Rating'].describe()"
   ]
  },
  {
   "cell_type": "markdown",
   "metadata": {},
   "source": [
    "Looking at the output of describe, answer below these 3 questions:\n",
    "\n",
    "    A. Did the 90s or 40s have a higher average rating?\n",
    "    The 90s had the higher average rating at 8.35\n",
    "    \n",
    "    B. You should see that the 90s movie ratings are more spread out from the mean on average?  How am I making this decision ased on the results of the describe function?\n",
    "    This descision is being made off of the standard deviation (std) value. The std value of the 90s is higher then the std values of the 40s\n",
    "    \n",
    "    C. Why is it sensible that the movie ratings in the 90s would show more variation from the mean than from those in the 40s?  Give a reason based on your world view.\n",
    "    There were many more movies during the nineties with varaitons in quality.\n",
    "    "
   ]
  },
  {
   "cell_type": "markdown",
   "metadata": {},
   "source": [
    "*A.  Your Answer Here:*  The 90s had the higher average rating at 8.35\n",
    "\n",
    "*B.  Your Answer Here* This descision is being made off of the standard deviation (std) value. The std value of the 90s is higher then the std values of the 40s\n",
    "\n",
    "*C.  Your Answer Here* There were many more movies during the nineties with varaitons in quality and World War 2 could have influenced ratings of movies in the 40s.\n"
   ]
  },
  {
   "cell_type": "markdown",
   "metadata": {},
   "source": [
    "---\n",
    "\n",
    "### **Question 24.**\n",
    "\n",
    "Now find all the movies with more than 1 million votes on IMDb."
   ]
  },
  {
   "cell_type": "code",
   "execution_count": null,
   "metadata": {
    "collapsed": false,
    "jupyter": {
     "outputs_hidden": false
    }
   },
   "outputs": [],
   "source": [
    "#You got this!  Add as many lines as you need\n",
    "\n",
    "\n",
    "movies_lots_of_votes = imdb[imdb['Votes'] > 999999]\n",
    "movies_lots_of_votes #Should print out your final answer"
   ]
  },
  {
   "cell_type": "markdown",
   "metadata": {},
   "source": [
    "### **Question 25.**\n",
    "\n",
    "Now find how many movies there were with a rating higher than 8.5.  \n",
    "\n",
    "Start by creating a table called really_highly_rated containing all movies with a rating higher than 8.5"
   ]
  },
  {
   "cell_type": "code",
   "execution_count": null,
   "metadata": {
    "collapsed": false,
    "jupyter": {
     "outputs_hidden": false
    }
   },
   "outputs": [],
   "source": [
    "#Add as many lines/cells here\n",
    "\n",
    "really_highly_rated = imdb[imdb['Rating'] >8.5]\n",
    "\n",
    "num_really_highly_rated = really_highly_rated['Title'].count()\n",
    "num_really_highly_rated  #Should print out final answer"
   ]
  },
  {
   "cell_type": "markdown",
   "metadata": {},
   "source": [
    "### **Question 26.**\n",
    "\n",
    "Find the average rating for movies released in the 20th century and the average rating for movies released in the 21st century.\n",
    "\n",
    "**Note:** Our `imdb` dataset includes 250 of the best-rated movies ever made.  There are millions of movies, and most are not represented in this dataset.  So whatever you find will be true only among these, not among movies in general."
   ]
  },
  {
   "cell_type": "code",
   "execution_count": null,
   "metadata": {},
   "outputs": [],
   "source": [
    "where_20th_century = imdb[imdb['Year'] < 2000]\n",
    "average_20th_century_rating = where_20th_century['Rating'].mean()\n",
    "\n",
    "where_21st_century = imdb[imdb['Year'] > 1999]\n",
    "average_21st_century_rating = where_21st_century['Rating'].mean()\n",
    "\n",
    "print(\"Average 20th century rating:\", average_20th_century_rating)\n",
    "print(\"Average 21st century rating:\", average_21st_century_rating)"
   ]
  },
  {
   "cell_type": "markdown",
   "metadata": {},
   "source": [
    "### **Question 27.**\n",
    "\n",
    "Below, determine how many rows and columns there are in the imdb dataset without hardcoding."
   ]
  },
  {
   "cell_type": "code",
   "execution_count": null,
   "metadata": {
    "collapsed": false,
    "jupyter": {
     "outputs_hidden": false
    }
   },
   "outputs": [],
   "source": [
    "num_movies_in_dataset = len(imdb) #Don't hardcode\n",
    "num_columns_in_dataset =  len(imdb.columns) #Don't hardcode\n",
    "print(\"Number of Movies:\", num_movies_in_dataset, \"Number of Columns:\", num_columns_in_dataset)"
   ]
  },
  {
   "cell_type": "markdown",
   "metadata": {},
   "source": [
    "### **Question 28.**\n",
    "\n",
    "Now find the *proportion* of movies in the dataset that were released in the 20th century, and the proportion from the 21st century.\n",
    "\n",
    "*Hint:* The *proportion* is a synonym for *percentage* but often we leave the proportion as number between 0 and 1 (so 0.15 instead of 15%.)\n",
    "\n",
    "*Hint:* If you do this correctly, you should get:\n",
    "\n",
    "    Proportion in 20th century: 0.684\n",
    "    Proportion in 21st century: 0.316"
   ]
  },
  {
   "cell_type": "code",
   "execution_count": null,
   "metadata": {},
   "outputs": [],
   "source": [
    "#Add code here if you need\n",
    "\n",
    "proportion_in_20th_century = len(where_20th_century['Year']) / len(imdb)\n",
    "proportion_in_21st_century = len(where_21st_century['Year']) / len(imdb)\n",
    "\n",
    "print(\"Proportion in 20th century:\", proportion_in_20th_century)\n",
    "print(\"Proportion in 21st century:\", proportion_in_21st_century)"
   ]
  },
  {
   "cell_type": "markdown",
   "metadata": {},
   "source": [
    "---"
   ]
  },
  {
   "cell_type": "markdown",
   "metadata": {},
   "source": [
    "### **Question 29.**\n",
    "\n",
    "a) Here's a challenge: Find the number of movies that came out in *even* years.\n",
    "\n",
    "*Hint:* The operator `%` computes the remainder when dividing by a number.  So `5 % 2` is 1 and `6 % 2` is 0.  A number is even if the remainder is 0 when you divide by 2.\n",
    "\n",
    "*Hint 2:* `%` can be used on arrays, operating elementwise like `+` or `*`.  So `make_array(5, 6, 7) % 2` is `array([1, 0, 1])`.\n",
    "\n",
    "*Hint 3:* Create a column called \"Year Remainder\" that's the remainder when each movie's release year is divided by 2.  Then use boolean indexing to find rows where that new column is equal to 0. "
   ]
  },
  {
   "cell_type": "code",
   "execution_count": null,
   "metadata": {
    "for_assignment_type": "student"
   },
   "outputs": [],
   "source": [
    "# You can approach this however you like but you'll need some steps before you set the num_even_year_movies variable.\n",
    "\n",
    "imdb['Year Remainder'] = imdb['Year'] % 2\n",
    "num_even_year_movies = len(imdb[imdb['Year Remainder'] ==0])\n",
    "num_even_year_movies"
   ]
  },
  {
   "cell_type": "markdown",
   "metadata": {},
   "source": [
    "b) Use the ``not`` operator (~) to find the mean now select all odd years and find the mean rating of these movies."
   ]
  },
  {
   "cell_type": "code",
   "execution_count": null,
   "metadata": {},
   "outputs": [],
   "source": [
    "# You must use ~ to get points for doing this.\n",
    "odd_year_movies_mean = imdb[imdb['Year Remainder'] != 0].mean()['Rating']\n",
    "odd_year_movies_mean"
   ]
  },
  {
   "cell_type": "markdown",
   "metadata": {},
   "source": [
    "---\n"
   ]
  },
  {
   "cell_type": "markdown",
   "metadata": {},
   "source": [
    "### **Question 30.**\n",
    "\n",
    "There are 7 movies that contain the word \"man\".  \n",
    "\n",
    "Recall: Look at this [this website](https://www.tutorialspoint.com/python_pandas/python_pandas_working_with_text_data.htm) for  ``str`` functions that could help.\n",
    "\n",
    "Your answer should appear as:\n",
    "\n",
    "|     | Votes  | Rating | Title                                   | Year |\n",
    "|-----|--------|--------|-----------------------------------------|------|\n",
    "|   4 | 145514 |    8.2 |                 The Elephant Man (1980) | 1980 |\n",
    "|   7 | 850601 |    8.3 |                    Batman Begins (2005) | 2005 |\n",
    "|  51 |  87437 |    8.0 |                    Roman Holiday (1953) | 1953 |\n",
    "|  92 |  49135 |    8.0 | The Man Who Shot Liberty Valance (1962) | 1962 |\n",
    "| 122 | 138240 |    8.0 |                          Yip Man (2008) | 2008 |\n",
    "| 206 | 583004 |    8.0 |                  The Truman Show (1998) | 1998 |\n",
    "| 215 | 101785 |    8.3 |                    The Third Man (1949) | 1949 |"
   ]
  },
  {
   "cell_type": "code",
   "execution_count": null,
   "metadata": {},
   "outputs": [],
   "source": [
    "#Add as much code as you need here\n",
    "\n",
    "\n",
    "movies_with_man = imdb[(imdb['Title'].str.contains(\"Man\")) | (imdb['Title'].str.contains(\"man\"))]\n",
    "movies_with_man"
   ]
  },
  {
   "cell_type": "markdown",
   "metadata": {},
   "source": [
    "---"
   ]
  },
  {
   "cell_type": "markdown",
   "metadata": {},
   "source": [
    "## G. Farmers Markets\n",
    "\n",
    "Let's change gears and work with a new data set.\n",
    "\n",
    "The table `farmers_markets.csv` contains data on farmers' markets in the United States.  (The data are collected [by the USDA]([dataset](https://apps.ams.usda.gov/FarmersMarketsExport/ExcelExport.aspx)).)  Each row represents one such market.\n",
    "\n",
    "You'll notice that it has a large number of columns in it!\n",
    "\n",
    "Load the dataset into a table.  Call it `farmers_markets`."
   ]
  },
  {
   "cell_type": "code",
   "execution_count": null,
   "metadata": {},
   "outputs": [],
   "source": [
    "farmers_markets = pd.read_csv(\"farmers_markets.csv\")\n",
    "farmers_markets"
   ]
  },
  {
   "cell_type": "markdown",
   "metadata": {},
   "source": [
    "### **Question 31.**\n",
    "\n",
    "Find the number of rows and columns in the table."
   ]
  },
  {
   "cell_type": "code",
   "execution_count": null,
   "metadata": {
    "collapsed": false,
    "jupyter": {
     "outputs_hidden": false
    }
   },
   "outputs": [],
   "source": [
    "num_farmers_markets_rows = len(farmers_markets)\n",
    "num_farmers_markets_columns = len(farmers_markets.columns)\n",
    "print(\"The table has\", num_farmers_markets_columns, \"columns and \", num_farmers_markets_rows, \"rows in it!\")"
   ]
  },
  {
   "cell_type": "markdown",
   "metadata": {},
   "source": [
    "### Learning How to \"Whittle Down\" The Columns\n",
    "\n",
    "Most of the columns are about particular products -- whether the market sells tofu, pet food, etc.  If we're not interested in that stuff, it just makes the table difficult to read.  This comes up more than you might think.\n",
    "\n",
    "In such situations, we can pare down the columns of a table to the ones we need.  If we just want to select one column, we would just use this notation:  ``imdb[\"Year\"]``.  However, when we select more than one columns, we need to pass in the list of columns ``[\"Year\", \"Decade\"]`` and this means we have double hard brackets. \n",
    "\n",
    "For example, the value of `imdb[[\"Year\", \"Decade\"]]` is a table with only the years and decades of each movie in `imdb`.  \n",
    "\n",
    "### **Question 32.**\n",
    "\n",
    "Create a table from our new ``farmers_markets`` dataframe that has only the name, city, state, latitude ('y'), and longitude ('x') of each market.  Call that new table `farmers_markets_locations`."
   ]
  },
  {
   "cell_type": "code",
   "execution_count": null,
   "metadata": {
    "collapsed": false,
    "jupyter": {
     "outputs_hidden": false
    }
   },
   "outputs": [],
   "source": [
    "farmers_markets_locations = farmers_markets[[\"MarketName\",\"city\",\"State\",\"y\",\"x\"]]\n",
    "farmers_markets_locations"
   ]
  },
  {
   "cell_type": "markdown",
   "metadata": {},
   "source": [
    "### **Question 33.**\n",
    "\n",
    "Find the average latitude ('y') and average longitude ('x') of the farmers' markets in the table below."
   ]
  },
  {
   "cell_type": "code",
   "execution_count": null,
   "metadata": {
    "collapsed": false,
    "for_assignment_type": "student",
    "jupyter": {
     "outputs_hidden": false
    }
   },
   "outputs": [],
   "source": [
    "average_latitude = farmers_markets_locations['y'].mean()\n",
    "average_longitude = farmers_markets_locations['x'].mean()\n",
    "print(\"The average of US farmers' markets' coordinates is located at (\", average_latitude, \",\", average_longitude, \")\")"
   ]
  },
  {
   "cell_type": "markdown",
   "metadata": {},
   "source": [
    "### **Question 34.**\n",
    "\n",
    "Make a table of the 5 northernmost farmers' markets in `farmers_markets_locations`.  Call it `northern_markets`.  It should include the same columns as `farmers_markets_locations`."
   ]
  },
  {
   "cell_type": "code",
   "execution_count": null,
   "metadata": {},
   "outputs": [],
   "source": [
    "#Add more code here if you prefer to take more than one line to accomplish the task.\n",
    "\n",
    "northern_markets = farmers_markets_locations.sort_values('y' , ascending = False)\n",
    "northern_markets.head(5)"
   ]
  },
  {
   "cell_type": "markdown",
   "metadata": {},
   "source": [
    "### **Question 35.**\n",
    "\n",
    "Make a table of the farmers' markets in Allentown, Pennyslvania.  **Do not assume that only PA has a city named Allentown when designing your where clause.** \n",
    "\n",
    "Your table should include the same columns as `farmers_markets_locations`."
   ]
  },
  {
   "cell_type": "code",
   "execution_count": null,
   "metadata": {},
   "outputs": [],
   "source": [
    "#Add more code here if you prefer to take more than one line to accomplish the task.\n",
    "allentown_markets = farmers_markets_locations[(farmers_markets_locations['city'] == \"Allentown\") & (farmers_markets_locations['State'] == \"Pennsylvania\")]\n",
    "allentown_markets"
   ]
  },
  {
   "cell_type": "markdown",
   "metadata": {},
   "source": [
    "---\n",
    "\n",
    "You're done!  Congrats!  \n",
    "\n",
    "**Be sure to submit both of these files:**\n",
    "* **the ``my_data_yourlastname.txt`` file** \n",
    "* **this ``ipynb`` file.**"
   ]
  }
 ],
 "metadata": {
  "kernelspec": {
   "display_name": "Python 3 (ipykernel)",
   "language": "python",
   "name": "python3"
  },
  "language_info": {
   "codemirror_mode": {
    "name": "ipython",
    "version": 3
   },
   "file_extension": ".py",
   "mimetype": "text/x-python",
   "name": "python",
   "nbconvert_exporter": "python",
   "pygments_lexer": "ipython3",
   "version": "3.9.7"
  }
 },
 "nbformat": 4,
 "nbformat_minor": 4
}
