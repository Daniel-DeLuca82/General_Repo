{
 "cells": [
  {
   "cell_type": "markdown",
   "metadata": {},
   "source": [
    "## <span style=\"color:red\">Your Name:  Daniel DeLuca  </span>"
   ]
  },
  {
   "cell_type": "markdown",
   "metadata": {},
   "source": [
    "---\n",
    "# Homework 1: Python and Jupyter Notebook Basics\n",
    "\n",
    "Directly sharing answers is not okay, but discussing problems with the professor or with other students is encouraged.  \n",
    "\n",
    "Related Reading:  Textbook Chapters 1, 3, 4"
   ]
  },
  {
   "cell_type": "markdown",
   "metadata": {},
   "source": [
    "---\n",
    "## **Question 1!!!!!!!!!!!!!!!!!!!** \n",
    "\n",
    "The following markdown cell contains an italcized sentence that lists out some columns in a data set.   Update the cell so that the list appears in a bulleted list."
   ]
  },
  {
   "cell_type": "markdown",
   "metadata": {},
   "source": [
    "*My data set has these columns: \n",
    "* patient name, \n",
    "* height, weight,\n",
    "* blood pressure, \n",
    "* cholesterol.*"
   ]
  },
  {
   "cell_type": "markdown",
   "metadata": {},
   "source": [
    "---\n",
    "## **Question 2!!!!!!!!!!!!!!!!!!!** \n",
    "\n",
    "Using the variables shown in the code cell below, complete the **single** print statement below so that the cell outputs this sentence:\n",
    "\n",
    "*The girl is 64 inches tall and weights 128 pounds.*"
   ]
  },
  {
   "cell_type": "code",
   "execution_count": 9,
   "metadata": {},
   "outputs": [
    {
     "name": "stdout",
     "output_type": "stream",
     "text": [
      "The girl 64  inches tall and weighs  128   pounds\n"
     ]
    }
   ],
   "source": [
    "height = 64\n",
    "weight = 128\n",
    "\n",
    "print(\"The girl\", height,\" inches tall and weighs \",weight,\"  pounds\")  #The numbers 64 and 128 should not appear on this line\n",
    "            #Your answer should only have one print statement."
   ]
  },
  {
   "cell_type": "markdown",
   "metadata": {},
   "source": [
    "---\n",
    "## **Question 3!!!!!!!!!!!!!!!!!!!** \n",
    "\n",
    "A student added 3 numbers to report the sum.  Fix the common mistake that the student made below."
   ]
  },
  {
   "cell_type": "code",
   "execution_count": 11,
   "metadata": {},
   "outputs": [
    {
     "data": {
      "text/plain": [
       "22.4"
      ]
     },
     "execution_count": 11,
     "metadata": {},
     "output_type": "execute_result"
    }
   ],
   "source": [
    "price1 = 10.20\n",
    "price2 = 3.45\n",
    "price3 = 8.75\n",
    "\n",
    "total = price1 + price2 + price3\n",
    "\n",
    "total"
   ]
  },
  {
   "cell_type": "markdown",
   "metadata": {},
   "source": [
    "---\n",
    "## **Question 4!!!!!!!!!!!!!!!!!!!** \n",
    "\n",
    "Mini madlib:  Replace the ellipsis to give each variable a string value.  Then using a **single** print statement and **string concatenation**, update the print statement to show `activity_you_like` instead of `YYYY` and place_you_like instead of `XXXX`.   "
   ]
  },
  {
   "cell_type": "code",
   "execution_count": 29,
   "metadata": {},
   "outputs": [
    {
     "name": "stdout",
     "output_type": "stream",
     "text": [
      "I like to go to  go fishing in order to  the beach\n"
     ]
    }
   ],
   "source": [
    "activity_you_like = \"go fishing\"\n",
    "\n",
    "place_you_like = \"the beach\"\n",
    "\n",
    "print(\"I like to go to \",activity_you_like,\"in order to \",place_you_like,) \n"
   ]
  },
  {
   "cell_type": "code",
   "execution_count": null,
   "metadata": {},
   "outputs": [],
   "source": []
  },
  {
   "cell_type": "markdown",
   "metadata": {},
   "source": [
    "---\n",
    "## **Question 5!!!!!!!!!!!!!!!!!!!** \n",
    "\n",
    "Replace the ???'s with your answer below. Feel free to check them by creating a code cell below!\n",
    "\n",
    "31 % 4 = 3\n",
    "\n",
    "`10 / (3 + 7) = 1\n",
    "\n",
    "`10 // 3 + 7  = 10\n",
    "\n",
    "`2 * -1 ** 4  = -2\n",
    "\n",
    "`27 ** (1/3)  = 3\n",
    "\n"
   ]
  },
  {
   "cell_type": "code",
   "execution_count": 38,
   "metadata": {},
   "outputs": [
    {
     "data": {
      "text/plain": [
       "3"
      ]
     },
     "execution_count": 38,
     "metadata": {},
     "output_type": "execute_result"
    }
   ],
   "source": [
    "x = 31 % 4\n",
    "y = 10 / (3+7)\n",
    "z = 10 // 3+7\n",
    "a = 2 * -1 ** 4\n",
    "27 ** (1/3)\n",
    "31 % 4\n"
   ]
  },
  {
   "cell_type": "markdown",
   "metadata": {},
   "source": [
    "---\n",
    "## **Question 6!!!!!!!!!!!!!!!!!!!** \n",
    "\n",
    "Way back when you learned the Pythagorean Theorem, which says that given side lengths $a,b,c$ of a triangle where $c$ is the hypotenuse, \n",
    "\n",
    "$$a^2+b^2 = c^2.$$\n",
    "\n",
    "Using only code in the code cell below (so no calculator and no google), answer this question.  \n",
    "\n",
    "A triangle has a hypotenuse of length 5 and also a side length of 2.  What is the length of the last side?\n",
    "\n",
    "*HINTS:\n",
    " * Your answer should not be based on approximations.  So for example, if $\\pi$ were part of the answer, it should not be substituted with 3.14.\n",
    " * The final numerical answer should be 4.582575... if you get this right."
   ]
  },
  {
   "cell_type": "code",
   "execution_count": 39,
   "metadata": {},
   "outputs": [],
   "source": []
  },
  {
   "cell_type": "code",
   "execution_count": 46,
   "metadata": {},
   "outputs": [
    {
     "data": {
      "text/plain": [
       "4.58257569495584"
      ]
     },
     "execution_count": 46,
     "metadata": {},
     "output_type": "execute_result"
    }
   ],
   "source": [
    "#Feel free to add more lines of code if needed.\n",
    "\n",
    "side_a = 2 ** 2\n",
    "side_c = 5 ** 2\n",
    "last_side =   (side_c - side_a) ** (1/2)\n",
    "\n",
    "last_side"
   ]
  },
  {
   "cell_type": "markdown",
   "metadata": {},
   "source": [
    "---\n",
    "\n",
    "## Breaking Down Expressions\n"
   ]
  },
  {
   "cell_type": "markdown",
   "metadata": {},
   "source": [
    "The most important idea in Computer Science is that complicated, useful things can be built by putting together simple parts according to simple rules.  Python code is an important example of this principle.  Once you understand the basic rules, you can code with confidence.  These exercises are designed to give you some practice with those rules.\n",
    "\n",
    "First, a brief review of subexpressions.\n",
    "\n",
    "You can take any Python expression that has a value and combine it with other expressions.  For example, you can combine two number-valued expressions by putting a `+` between them to add their values together.  This forms a new, larger expression called a *compound expression*.  The expressions that were combined together are called *subexpressions*.\n",
    "\n",
    "You can tell if something is a subexpression by checking whether it would make sense to write it in a line by itself.  For example, in the expression `2 * 3`, `2` is a subexpression, but `2 *` isn't, because `2 *` isn't a valid expression.  (Try executing it!)"
   ]
  },
  {
   "cell_type": "markdown",
   "metadata": {},
   "source": [
    "## **Question 7!!!!!!!!!!!!!!!!!!!** \n",
    "\n",
    "List all the subexpressions of the following expression:\n",
    "\n",
    "    2 + 3\n",
    "    \n",
    "Put each subexpression on its own line in the next cell.\n",
    "\n",
    "*Hint:* There are two of them."
   ]
  },
  {
   "cell_type": "code",
   "execution_count": 47,
   "metadata": {},
   "outputs": [
    {
     "data": {
      "text/plain": [
       "3"
      ]
     },
     "execution_count": 47,
     "metadata": {},
     "output_type": "execute_result"
    }
   ],
   "source": [
    "2\n",
    "3"
   ]
  },
  {
   "cell_type": "markdown",
   "metadata": {},
   "source": [
    "## **Question 8!!!!!!!!!!!!!!!!!!!**  \n",
    "\n",
    "Consider the following expression:\n",
    "\n",
    "    (1 + 2) * ((3 / 4) ** 5)\n",
    "\n",
    "Here is a list of almost all the subexpressions of that expression.  One is missing.\n",
    "\n",
    "1. `1`\n",
    "2. `2`\n",
    "3. `3`\n",
    "4. `4`\n",
    "5. `5`\n",
    "6. `(1 + 2)`\n",
    "7. `((3 / 4) ** 5)`\n",
    "\n",
    "In the next cell, write the missing expression."
   ]
  },
  {
   "cell_type": "code",
   "execution_count": 50,
   "metadata": {
    "collapsed": false,
    "jupyter": {
     "outputs_hidden": false
    }
   },
   "outputs": [
    {
     "data": {
      "text/plain": [
       "0.75"
      ]
     },
     "execution_count": 50,
     "metadata": {},
     "output_type": "execute_result"
    }
   ],
   "source": [
    "(3/4)"
   ]
  },
  {
   "cell_type": "markdown",
   "metadata": {},
   "source": [
    "## **Question 9!!!!!!!!!!!!!!!!!!!** \n",
    "\n",
    "List all the subexpressions of the following expression:\n",
    "\n",
    "    (((2**3) / 4) / 5) - 6\n",
    "\n",
    "Put each subexpression on its own line in the next cell."
   ]
  },
  {
   "cell_type": "code",
   "execution_count": 58,
   "metadata": {},
   "outputs": [
    {
     "ename": "SyntaxError",
     "evalue": "unexpected EOF while parsing (Temp/ipykernel_44588/2177709642.py, line 8)",
     "output_type": "error",
     "traceback": [
      "\u001b[1;36m  File \u001b[1;32m\"C:\\Users\\dande\\AppData\\Local\\Temp/ipykernel_44588/2177709642.py\"\u001b[1;36m, line \u001b[1;32m8\u001b[0m\n\u001b[1;33m    ((2**3) /5)\u001b[0m\n\u001b[1;37m               ^\u001b[0m\n\u001b[1;31mSyntaxError\u001b[0m\u001b[1;31m:\u001b[0m unexpected EOF while parsing\n"
     ]
    }
   ],
   "source": [
    "2**3\n",
    "((2**3)/4)\n",
    "(((2**3 / 4 ) / 5)\n",
    "-6\n",
    "((2**3)/ 5)\n",
    "(2**3) - 6\n",
    "((2**3) /4) - 6\n",
    "((2**3) /5) - 6"
   ]
  },
  {
   "cell_type": "markdown",
   "metadata": {},
   "source": [
    "---\n",
    "\n",
    "## Errors in Naming\n"
   ]
  },
  {
   "cell_type": "markdown",
   "metadata": {},
   "source": [
    "## **Question 10!!!!!!!!!!!!!!!!!!!** \n",
    "\n",
    "When you run the following cell, Python will produce an slightly-cryptic error message.  Explain in the text cell below, in your own words, what's wrong with the code.  (Remember, double-click the cell to edit it, and then click the Run button when you're done.)"
   ]
  },
  {
   "cell_type": "code",
   "execution_count": 59,
   "metadata": {
    "collapsed": false,
    "jupyter": {
     "outputs_hidden": false
    }
   },
   "outputs": [
    {
     "ename": "SyntaxError",
     "evalue": "cannot assign to literal (Temp/ipykernel_44588/2912417615.py, line 1)",
     "output_type": "error",
     "traceback": [
      "\u001b[1;36m  File \u001b[1;32m\"C:\\Users\\dande\\AppData\\Local\\Temp/ipykernel_44588/2912417615.py\"\u001b[1;36m, line \u001b[1;32m1\u001b[0m\n\u001b[1;33m    4 = 2 + 2\u001b[0m\n\u001b[1;37m    ^\u001b[0m\n\u001b[1;31mSyntaxError\u001b[0m\u001b[1;31m:\u001b[0m cannot assign to literal\n"
     ]
    }
   ],
   "source": [
    "4 = 2 + 2"
   ]
  },
  {
   "cell_type": "markdown",
   "metadata": {},
   "source": [
    "Phython can not assign a string to a number. This is because in Phython a variable or word must be assigned to string."
   ]
  },
  {
   "cell_type": "markdown",
   "metadata": {},
   "source": [
    "## **Question 11!!!!!!!!!!!!!!!!!!!**  \n",
    "\n",
    "When you run the following cell, Python will produce an slightly-cryptic error message.  **Fix the error,** and then **explain below** in your own words what was wrong with the code."
   ]
  },
  {
   "cell_type": "code",
   "execution_count": 60,
   "metadata": {
    "collapsed": false,
    "jupyter": {
     "outputs_hidden": false
    }
   },
   "outputs": [
    {
     "ename": "SyntaxError",
     "evalue": "invalid syntax (Temp/ipykernel_44588/4108696065.py, line 2)",
     "output_type": "error",
     "traceback": [
      "\u001b[1;36m  File \u001b[1;32m\"C:\\Users\\dande\\AppData\\Local\\Temp/ipykernel_44588/4108696065.py\"\u001b[1;36m, line \u001b[1;32m2\u001b[0m\n\u001b[1;33m    four = two plus two\u001b[0m\n\u001b[1;37m               ^\u001b[0m\n\u001b[1;31mSyntaxError\u001b[0m\u001b[1;31m:\u001b[0m invalid syntax\n"
     ]
    }
   ],
   "source": [
    "two = 2\n",
    "four = two plus two"
   ]
  },
  {
   "cell_type": "code",
   "execution_count": 61,
   "metadata": {},
   "outputs": [
    {
     "data": {
      "text/plain": [
       "4"
      ]
     },
     "execution_count": 61,
     "metadata": {},
     "output_type": "execute_result"
    }
   ],
   "source": [
    "two = 2\n",
    "four = two + two\n",
    "four"
   ]
  },
  {
   "cell_type": "markdown",
   "metadata": {},
   "source": [
    "The error is \"plus\" is written out when a plus sign (+) should be used to combine both strings. "
   ]
  },
  {
   "cell_type": "markdown",
   "metadata": {},
   "source": [
    "---\n",
    "\n",
    "NOW SAVE YOUR FILE.\n",
    "\n",
    "To get credit, submit your file named as hw01_YourLastName.ipynb"
   ]
  }
 ],
 "metadata": {
  "kernelspec": {
   "display_name": "Python 3 (ipykernel)",
   "language": "python",
   "name": "python3"
  },
  "language_info": {
   "codemirror_mode": {
    "name": "ipython",
    "version": 3
   },
   "file_extension": ".py",
   "mimetype": "text/x-python",
   "name": "python",
   "nbconvert_exporter": "python",
   "pygments_lexer": "ipython3",
   "version": "3.9.7"
  }
 },
 "nbformat": 4,
 "nbformat_minor": 4
}
