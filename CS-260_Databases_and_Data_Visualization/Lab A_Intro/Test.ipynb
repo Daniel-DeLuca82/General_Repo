{
 "cells": [
  {
   "cell_type": "markdown",
   "id": "77a940b7-1505-4419-bf54-6a7ad17d718e",
   "metadata": {},
   "source": [
    "Hello everyone\n"
   ]
  },
  {
   "cell_type": "markdown",
   "id": "fc928946-aac9-4905-ba75-3d15b6a62536",
   "metadata": {},
   "source": [
    "# hello Everyone"
   ]
  },
  {
   "cell_type": "markdown",
   "id": "90345ec8-87e8-4cc8-bf7b-78d981e50ab7",
   "metadata": {},
   "source": [
    "## Good Day"
   ]
  },
  {
   "cell_type": "code",
   "execution_count": 1,
   "id": "e4dffb08-97a0-4b16-96a9-0f6fe9c804ce",
   "metadata": {},
   "outputs": [
    {
     "name": "stdout",
     "output_type": "stream",
     "text": [
      "how are you\n"
     ]
    }
   ],
   "source": [
    "print(\"how are you\")"
   ]
  },
  {
   "cell_type": "markdown",
   "id": "21edaa2a-6fd7-4fe3-b14b-3ce4efb77753",
   "metadata": {},
   "source": [
    "# A"
   ]
  },
  {
   "cell_type": "code",
   "execution_count": null,
   "id": "8ad050fc-c341-4d8e-b2dd-b6d124db2a2b",
   "metadata": {},
   "outputs": [],
   "source": [
    "# C"
   ]
  },
  {
   "cell_type": "code",
   "execution_count": null,
   "id": "4667fe88-0da9-4ac4-95a6-a2baa28ef3b8",
   "metadata": {},
   "outputs": [],
   "source": []
  },
  {
   "cell_type": "code",
   "execution_count": null,
   "id": "99875ea3-92b1-4fa6-8fc5-e7d73529580a",
   "metadata": {},
   "outputs": [],
   "source": [
    "# B"
   ]
  },
  {
   "cell_type": "code",
   "execution_count": null,
   "id": "1a49b68b-2c02-4898-a56a-1c36c516b70f",
   "metadata": {},
   "outputs": [],
   "source": []
  }
 ],
 "metadata": {
  "kernelspec": {
   "display_name": "Python 3 (ipykernel)",
   "language": "python",
   "name": "python3"
  },
  "language_info": {
   "codemirror_mode": {
    "name": "ipython",
    "version": 3
   },
   "file_extension": ".py",
   "mimetype": "text/x-python",
   "name": "python",
   "nbconvert_exporter": "python",
   "pygments_lexer": "ipython3",
   "version": "3.9.7"
  }
 },
 "nbformat": 4,
 "nbformat_minor": 5
}
