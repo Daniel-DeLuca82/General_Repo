{
 "cells": [
  {
   "cell_type": "markdown",
   "metadata": {},
   "source": [
    "### *“Any sufficiently advanced technology is indistinguishable from magic.”* \n",
    "\n",
    "*–Arthur C. Clarke*\n",
    "\n",
    "Arthur was a science-fiction writer (he co-wrote the screenplay for the 1968 film *2001: A Space Odyssey*) as well as a science writer, futurist, inventor, undersea explorer, and television series host.  \n",
    "\n",
    "I do hope that after this lab, you find notebooks rather magical!\n",
    "\n",
    "---"
   ]
  },
  {
   "cell_type": "markdown",
   "metadata": {},
   "source": [
    "<span style=\"color:red\">Your Name:  Daniel DeLuca</span>"
   ]
  },
  {
   "cell_type": "markdown",
   "metadata": {},
   "source": [
    "---\n",
    "# Lab A: Introducing Jupyter Notebooks\n",
    "### Giving credit where credit is due:  Thanks to Data8 for the inital version of this lab!\n",
    "---"
   ]
  },
  {
   "cell_type": "markdown",
   "metadata": {},
   "source": [
    "In this lab, you will learn how to navigate a Jupyter Notebook (like this one). Follow the instructions in the notebook to complete the assignment.\n",
    "\n",
    "Get started by reading section 1!\n"
   ]
  },
  {
   "cell_type": "markdown",
   "metadata": {},
   "source": [
    "## Jupyter notebooks\n",
    "This webpage is called a Jupyter notebook. A notebook is a place to write programs and view their results.   \n",
    "\n",
    "## 1 Text cells\n",
    "In a notebook, each rectangle containing text or code is called a *cell*.\n",
    "\n",
    "Text cells (like this one) can be edited by double-clicking on them. They're written in a simple format called [Markdown](http://daringfireball.net/projects/markdown/syntax) to add formatting and section headings.  You don't need to learn a lot of Markdown, but some basic Markdown wil help.\n",
    "\n",
    "After you edit a text cell, select the \"run cell\" button at the top that looks like ▶| to confirm any changes.  \n",
    "\n",
    "<br>"
   ]
  },
  {
   "cell_type": "markdown",
   "metadata": {},
   "source": [
    "---\n",
    "## **Question 1!!!!!!!!!!!!!!!!!!!** \n",
    "\n",
    "This paragraph is in its own text cell.  Try editing it so that **this** sentence is the last sentence in the paragraph, and then select the \"run cell\" ▶| button on the top.  "
   ]
  },
  {
   "cell_type": "markdown",
   "metadata": {
    "tags": [],
    "toc-hr-collapsed": true
   },
   "source": [
    "---\n",
    "\n",
    "## Creating Lists in Markdown cells\n",
    "\n",
    "Like mentioned above, text cells can be formatted with [Markdown](http://daringfireball.net/projects/markdown/syntax).  So for example, I can make words appear in **bold** or in *italics*.  I can also create a list like that below.\n",
    "\n",
    "TO-DO LIST\n",
    "* buy textbooks\n",
    "* pack up belongings\n",
    "* eat mom's last home-cooked meal\n",
    "* drive to college\n",
    "\n",
    "## Creating Headers in Markdown cells\n",
    "\n",
    "Finally, I can create different size headers,  like below.\n",
    "\n",
    "# Header 1 - Biggest\n",
    "## Header 2\n",
    "### Header 3\n",
    "#### Header 4\n",
    "##### Header 5\n",
    "###### Header 6 - Smallest\n",
    "\n",
    "<br> \n",
    "\n",
    "Okay!  Let's get some practice.  Try the question below.  \n",
    "\n",
    "<br><br>"
   ]
  },
  {
   "cell_type": "markdown",
   "metadata": {},
   "source": [
    "---\n",
    "## **Question 2!!!!!!!!!!!!!!!!!!!** \n",
    "\n",
    "Not sure how to do this problem?  Double clicking on the text cells that you just read above will give you examples of how to complete it! \n",
    "\n",
    "Bold this word:  **PYTHON**\n",
    "\n",
    "Italicize this word: *DATA*  \n",
    "\n",
    "### Make this line appear as Header size 3.  \n",
    "\n",
    "Below create a bulleted list of of your top 3 favorite foods.\n",
    "* steak\n",
    "* sushi\n",
    "* chicken\n",
    "\n",
    "FAVORITE FOODS: ???"
   ]
  },
  {
   "cell_type": "markdown",
   "metadata": {},
   "source": [
    "---\n",
    "\n",
    "## 2 Code Cells\n",
    "\n",
    "The following cell is not a markdown cell but a code cell.  So we can write code in it.  We will mainly be using Python.  Double click on the cell below and run it.  What is printed out?"
   ]
  },
  {
   "cell_type": "code",
   "execution_count": 2,
   "metadata": {},
   "outputs": [
    {
     "name": "stdout",
     "output_type": "stream",
     "text": [
      "Hello, World!\n"
     ]
    }
   ],
   "source": [
    "#Run this cell!  What is printed out?\n",
    "print(\"Hello, World!\") "
   ]
  },
  {
   "cell_type": "markdown",
   "metadata": {},
   "source": [
    "You just ran your first Python code in Jupyter Notebook.  Now run the following code cell too! "
   ]
  },
  {
   "cell_type": "code",
   "execution_count": 4,
   "metadata": {},
   "outputs": [
    {
     "name": "stdout",
     "output_type": "stream",
     "text": [
      "👋, 🌏!\n"
     ]
    }
   ],
   "source": [
    "#Run this cell!  What is printed out?\n",
    "print(\"\\N{WAVING HAND SIGN}, \\N{EARTH GLOBE ASIA-AUSTRALIA}!\")"
   ]
  },
  {
   "cell_type": "markdown",
   "metadata": {},
   "source": [
    "The fundamental building block of Python code is an expression. Cells can contain multiple lines with multiple expressions. When you run a cell, the lines of code are executed in the order in which they appear. Every `print` expression prints a line. Run the next cell and notice the order of the output."
   ]
  },
  {
   "cell_type": "code",
   "execution_count": 13,
   "metadata": {},
   "outputs": [
    {
     "name": "stdout",
     "output_type": "stream",
     "text": [
      "First this line,\n",
      "then the whole 🌏!\n",
      "and then this one.\n"
     ]
    }
   ],
   "source": [
    "print(\"First this line,\")\n",
    "print(\"then the whole \\N{EARTH GLOBE ASIA-AUSTRALIA}!\")\n",
    "print(\"and then this one.\")"
   ]
  },
  {
   "cell_type": "markdown",
   "metadata": {
    "jp-MarkdownHeadingCollapsed": true,
    "tags": []
   },
   "source": [
    "\n",
    "## **Question 3!!!!!!!!!!!!!!!!!!!** \n",
    "\n",
    "Change the cell above so that it prints out:\n",
    "\n",
    "print(\"First this line,\")\n",
    "print(\"then the whole /N{EARTH GLOBE ASIA-AUSTRALIA}!\")\n",
    "print(\"and then this one.\")\n",
    "\n",
    "*Hint:* If you're stuck on how to print the Earth symbol, try looking at the print expressions above.\n",
    "<br><br>"
   ]
  },
  {
   "cell_type": "markdown",
   "metadata": {},
   "source": [
    "---\n",
    "## 3 Writing Jupyter notebooks\n",
    "You can use Jupyter notebooks for your own projects or documents. They are among the world's most popular programming environments for data science. When you make your own notebook, you'll need to create your own cells for text and code.\n",
    "\n",
    "To add a cell, select the + button in the menu bar.  A new cell starts out as text.  You can change it to a code cell by selecting it so that it's highlighted, then selecting the drop-down box next to the restart (⟳) button in the menu bar and changing the dropdown with \"Markdown\" to \"Code\". <br><br>"
   ]
  },
  {
   "cell_type": "markdown",
   "metadata": {
    "tags": []
   },
   "source": [
    "---\n",
    "\n",
    "## **Question 4!!!!!!!!!!!!!!!!!!!** \n",
    "\n",
    "Add a code cell below this one.  Write code in it that prints out:\n",
    "   \n",
    "    A whole new cell! \n",
    "    ♪🌏♪\n",
    "\n",
    "(That musical note symbol is like the Earth symbol.  Its long-form name is `\\N{EIGHTH NOTE}`.)\n",
    "\n",
    "Run your cell to verify that it works."
   ]
  },
  {
   "cell_type": "code",
   "execution_count": 14,
   "metadata": {},
   "outputs": [
    {
     "name": "stdout",
     "output_type": "stream",
     "text": [
      "Hello ♪.\n"
     ]
    }
   ],
   "source": [
    "print(\"Hello \\N{eighth note}.\")\n"
   ]
  },
  {
   "cell_type": "markdown",
   "metadata": {},
   "source": [
    "---\n",
    "## 4. Errors\n",
    "Python is a language, and like natural human languages, it has rules.  It differs from natural language in two important ways:\n",
    "1. The rules are *simple*.  You can learn most of them in a few weeks and gain reasonable proficiency with the language in a semester.\n",
    "2. The rules are *rigid*.  If you're proficient in a natural language, you can understand a non-proficient speaker, glossing over small mistakes.  A computer running Python code is not smart enough to do that.\n",
    "\n",
    "Whenever you write code, you'll make mistakes.  When you run a code cell that has errors, Python will sometimes produce error messages to tell you what you did wrong.\n",
    "\n",
    "Errors are okay; even experienced programmers make many errors.  When you make an error, you just have to find the source of the problem, fix it, and move on.\n",
    "\n",
    "We have made an error in the next cell.  Run it and see what happens."
   ]
  },
  {
   "cell_type": "code",
   "execution_count": 15,
   "metadata": {},
   "outputs": [
    {
     "name": "stdout",
     "output_type": "stream",
     "text": [
      "This line is missing something.\n"
     ]
    }
   ],
   "source": [
    "print(\"This line is missing something.\")"
   ]
  },
  {
   "cell_type": "markdown",
   "metadata": {},
   "source": [
    "You should see something like this (minus our annotations):\n",
    "\n",
    "<img src =\"https://raw.githubusercontent.com/kathleen-ryan-DeSales/CS250/main/pictures/LabA_error.jpg\" alt=\"MISSING\"/>\n",
    "\n",
    "The last line of the error output attempts to tell you what went wrong.  The *syntax* of a language is its structure, and this `SyntaxError` tells you that you have created an illegal structure.  \"`EOF`\" means \"end of file,\" so the message is saying Python expected you to write something more (in this case, a right parenthesis) before finishing the cell.\n",
    "\n",
    "There's a lot of terminology in programming languages. You'll learn as you go. If you are ever having trouble understanding an error message, search the discussion forum. If you don't find an answer, post a question about the error yourself."
   ]
  },
  {
   "cell_type": "markdown",
   "metadata": {},
   "source": [
    "---\n",
    "\n",
    "## **Question 5!!!!!!!!!!!!!!!!!!!** \n",
    "\n",
    "Try to fix the code above so that you can run the cell and see the intended message instead of an error. \n",
    "\n",
    "---"
   ]
  },
  {
   "cell_type": "markdown",
   "metadata": {},
   "source": [
    "## 5. The Kernel\n",
    "The kernel is a program that executes the code inside your notebook and outputs the results. In the top right of your window, you can see a circle that indicates the status of your kernel. If the circle is empty (⚪), the kernel is idle and ready to execute code. If the circle is filled in (⚫), the kernel is busy running some code. \n",
    "\n",
    "You may run into problems where your kernel is stuck for an excessive amount of time, your notebook is very slow and unresponsive, or your kernel loses its connection. \n",
    "\n",
    "If this happens, try the following steps:\n",
    "1. At the top of your screen, select **Kernel**, then **Interrupt**.\n",
    "2. If that doesn't help, select **Kernel**, then **Restart**. If you do this, you will have to run your code cells from the start of your notebook up until where you paused your work.\n",
    "3. If that doesn't help, restart your server. First, save your work by selecting **File** at the top left of your screen, then **Save and Checkpoint**. Next, select **Control Panel** at the top right. Choose **Stop My Server** to shut it down, then **My Server** to start it back up. Then, navigate back to the notebook you were working on."
   ]
  },
  {
   "cell_type": "markdown",
   "metadata": {},
   "source": [
    "## 6 So what is a Jupyter Notebook, really?"
   ]
  },
  {
   "cell_type": "markdown",
   "metadata": {},
   "source": [
    "A Jupyter Notebook is a file/notebook that can contain both code and regular text (like this paragraph here!) as well as math formulas, images, links, and more. The fact that a Jupyter Notebook can contains all of these various elements makes it a valuable tool for people, especially when doing data analysis, since the analysis description and the results can be contained in the same document. \n",
    "\n",
    "Every notebook has something called a **kernel**, which acts as the operation part of the notebook. With the kernel, we can execute the lines of code that are in a notebook. When you open a notebook, the kernel associated with that notebook is automatically launched as well. When we execute or run a notebook, the kernel performs the computations and then returns the results. To see when the kernel is running/executing, you can look at the top right hand corner of your notebook, at a circle. If the circle is gray/filled in, the kernel is currently executing cells. If the circle is not filled in, the kernel is not currently executing cells. "
   ]
  },
  {
   "cell_type": "markdown",
   "metadata": {},
   "source": [
    "## 7 Shortcut keys\n",
    "\n",
    "There are a LOT of short cut keys we can use.  Here are the 3 that I use the most."
   ]
  },
  {
   "cell_type": "markdown",
   "metadata": {},
   "source": [
    "When working in a cell, you can type ```Escape + b``` to insert a cell below the one you are working in.  Similarly, you can type ```Escape + a``` to insert a cell below the one you are working in. <br><br>"
   ]
  },
  {
   "cell_type": "markdown",
   "metadata": {},
   "source": [
    "---\n",
    "\n",
    "## **Question 6!!!!!!!!!!!!!!!!!!!** "
   ]
  },
  {
   "cell_type": "code",
   "execution_count": 18,
   "metadata": {},
   "outputs": [
    {
     "name": "stdout",
     "output_type": "stream",
     "text": [
      "ABOVE\n"
     ]
    }
   ],
   "source": [
    "print(\"ABOVE\")"
   ]
  },
  {
   "cell_type": "markdown",
   "metadata": {},
   "source": [
    "Double click on this cell and then use the short cut just describe to add two cells: \n",
    "\n",
    "* One above. By default, it will be a code cell.  In it, print out the phrase \"ABOVE\"\n",
    "* One below. Again, it will be a code cell.  In it, print out the phrase \"BELOW\""
   ]
  },
  {
   "cell_type": "code",
   "execution_count": 17,
   "metadata": {},
   "outputs": [
    {
     "name": "stdout",
     "output_type": "stream",
     "text": [
      "BELOW\n"
     ]
    }
   ],
   "source": [
    "print(\"BELOW\")"
   ]
  },
  {
   "cell_type": "markdown",
   "metadata": {},
   "source": [
    "---"
   ]
  },
  {
   "cell_type": "markdown",
   "metadata": {},
   "source": [
    "<br><br>Since new cells are by default code cells, it's nice to know the shortcut for how to change them to markdown cells.  \n",
    "* ```Escape + m``` changes the cell to a markdown cell \n",
    "* ```Escape + y``` changes the cell to a code cell <br><br>"
   ]
  },
  {
   "cell_type": "markdown",
   "metadata": {},
   "source": [
    "---\n",
    "\n",
    "## **Question 7!!!!!!!!!!!!!!!!!!!** \n",
    "\n",
    "Add a cell below this one and change it to a markdown cell. Use the shortcuts you have learned to do this!  In the cell, write this:  \"Shortcut keys are awesome!\""
   ]
  },
  {
   "cell_type": "markdown",
   "metadata": {},
   "source": [
    "Shortcut keys are awesome!"
   ]
  },
  {
   "cell_type": "markdown",
   "metadata": {},
   "source": [
    "---"
   ]
  },
  {
   "cell_type": "markdown",
   "metadata": {},
   "source": [
    "<br><br>\n",
    "Finally, deleting a cell can be helpful.  To do this, type ```Escape + d + d``` (so escape and then the letter d twice). <br>"
   ]
  },
  {
   "cell_type": "markdown",
   "metadata": {},
   "source": [
    "---\n",
    "\n",
    "## **Question 8!!!!!!!!!!!!!!!!!!!** \n",
    "\n",
    "Delete the cell below. Use the shortcuts you have learned to do this!\n",
    "---"
   ]
  },
  {
   "cell_type": "markdown",
   "metadata": {},
   "source": [
    "---\n",
    "\n",
    "Okay!  You're done!  Submit this!   Your file should be called LabA_IntroNotebooks_YourInitials.ipynb "
   ]
  }
 ],
 "metadata": {
  "kernelspec": {
   "display_name": "Python 3 (ipykernel)",
   "language": "python",
   "name": "python3"
  },
  "language_info": {
   "codemirror_mode": {
    "name": "ipython",
    "version": 3
   },
   "file_extension": ".py",
   "mimetype": "text/x-python",
   "name": "python",
   "nbconvert_exporter": "python",
   "pygments_lexer": "ipython3",
   "version": "3.9.7"
  },
  "toc-autonumbering": false,
  "toc-showcode": false,
  "toc-showtags": true
 },
 "nbformat": 4,
 "nbformat_minor": 4
}
