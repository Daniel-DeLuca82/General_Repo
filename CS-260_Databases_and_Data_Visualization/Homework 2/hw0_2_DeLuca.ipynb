{
 "cells": [
  {
   "cell_type": "markdown",
   "metadata": {},
   "source": [
    "## Your Name:  Daniel DeLuca"
   ]
  },
  {
   "cell_type": "markdown",
   "metadata": {},
   "source": [
    "---\n",
    "# Arrays and Tables\n",
    "\n",
    "Directly sharing answers is not okay, but discussing problems with the professor or with other students is encouraged.  \n",
    "\n",
    "Related Reading:  Textbook Chapters 5 and 6"
   ]
  },
  {
   "cell_type": "markdown",
   "metadata": {},
   "source": [
    "# Homework 2: Arrays and Tables\n",
    "\n",
    "Covers Ch 5 and 6."
   ]
  },
  {
   "cell_type": "code",
   "execution_count": 2,
   "metadata": {
    "collapsed": false,
    "jupyter": {
     "outputs_hidden": false
    }
   },
   "outputs": [],
   "source": [
    "#Please import the 2 packages you need for working with tables and data frames here\n",
    "import numpy as np\n",
    "import pandas as pd"
   ]
  },
  {
   "cell_type": "markdown",
   "metadata": {},
   "source": [
    "## A. Creating Arrays\n"
   ]
  },
  {
   "cell_type": "markdown",
   "metadata": {},
   "source": [
    "---\n",
    "## **Question 1!!!!!!!!!!!!!!!!!!!** \n",
    "\n",
    "Make an array called `weird_numbers` containing the following numbers (in the given order):\n",
    "\n",
    "1. -2\n",
    "2. the sine of 1.2\n",
    "3. 3\n",
    "4. 5 to the power of the cosine of 1.2\n",
    "\n",
    "*Hint:* `sin` and `cos` are functions in the `math` module."
   ]
  },
  {
   "cell_type": "code",
   "execution_count": 30,
   "metadata": {},
   "outputs": [],
   "source": [
    "import math\n",
    "thee = (math.sin(1.2))\n",
    "the = 5**(math.cos(1.2))"
   ]
  },
  {
   "cell_type": "code",
   "execution_count": 31,
   "metadata": {
    "collapsed": false,
    "jupyter": {
     "outputs_hidden": false
    }
   },
   "outputs": [
    {
     "data": {
      "text/plain": [
       "array([-2.        ,  1.79174913,  3.        ,  0.93203909])"
      ]
     },
     "execution_count": 31,
     "metadata": {},
     "output_type": "execute_result"
    }
   ],
   "source": [
    "# Our solution involved one extra line of code before creating\n",
    "# weird_numbers.\n",
    "\n",
    "weird_numbers = np.array([-2, the, 3, thee])\n",
    "weird_numbers"
   ]
  },
  {
   "cell_type": "markdown",
   "metadata": {},
   "source": [
    "---\n",
    "## **Question 2!!!!!!!!!!!!!!!!!!!** \n",
    "\n",
    "Make an array called `book_title_words` containing the following three strings: \"Eats\", \"Shoots\", and \"and Leaves\"."
   ]
  },
  {
   "cell_type": "code",
   "execution_count": 32,
   "metadata": {
    "collapsed": false,
    "jupyter": {
     "outputs_hidden": false
    }
   },
   "outputs": [
    {
     "data": {
      "text/plain": [
       "array(['Eats', 'Shoots', 'Leaves'], dtype='<U6')"
      ]
     },
     "execution_count": 32,
     "metadata": {},
     "output_type": "execute_result"
    }
   ],
   "source": [
    "book_title_words = np.array(['Eats','Shoots','Leaves'])\n",
    "book_title_words"
   ]
  },
  {
   "cell_type": "code",
   "execution_count": null,
   "metadata": {},
   "outputs": [],
   "source": []
  },
  {
   "cell_type": "code",
   "execution_count": null,
   "metadata": {},
   "outputs": [],
   "source": []
  },
  {
   "cell_type": "markdown",
   "metadata": {},
   "source": [
    "Strings have a method called `join`.  `join` takes one argument, an array of strings.  It returns a single string.  Specifically, the value of `a_string.join(an_array)` is a single string that's the [concatenation](https://en.wikipedia.org/wiki/Concatenation) (\"putting together\") of all the strings in `an_array`, **except** `a_string` is inserted in between each string\n",
    "\n",
    "---\n",
    "## **Question 3!!!!!!!!!!!!!!!!!!!** \n",
    "\n",
    "Use the array `book_title_words` and the method `join` to make two strings:\n",
    "\n",
    "1. \"Eats, Shoots, and Leaves\" (call this one `with_commas`)\n",
    "2. \"Eats Shoots and Leaves\" (call this one `without_commas`)\n",
    "\n",
    "*Hint:* If you're not sure what `join` does, first try just calling, for example, `\"foo\".join(book_title_words)` ."
   ]
  },
  {
   "cell_type": "code",
   "execution_count": 36,
   "metadata": {},
   "outputs": [
    {
     "data": {
      "text/plain": [
       "'EatsfooShootsfooLeaves'"
      ]
     },
     "execution_count": 36,
     "metadata": {},
     "output_type": "execute_result"
    }
   ],
   "source": [
    "\"foo\".join(book_title_words)"
   ]
  },
  {
   "cell_type": "code",
   "execution_count": 40,
   "metadata": {
    "collapsed": false,
    "jupyter": {
     "outputs_hidden": false
    }
   },
   "outputs": [
    {
     "name": "stdout",
     "output_type": "stream",
     "text": [
      "with_commas: ['Eats,' 'Shoots,' ' and Leaves']\n",
      "without_commas: Eats, Shoots,  and Leaves\n"
     ]
    }
   ],
   "source": [
    "with_commas = np.array(['Eats,','Shoots,',' and Leaves'])\n",
    "without_commas = \" \".join(with_commas)\n",
    "\n",
    "# These lines are provided just to print out your answers.\n",
    "print('with_commas:', with_commas)\n",
    "print('without_commas:', without_commas)"
   ]
  },
  {
   "cell_type": "markdown",
   "metadata": {},
   "source": [
    "## B. Indexing Arrays\n"
   ]
  },
  {
   "cell_type": "markdown",
   "metadata": {},
   "source": [
    "These exercises give you practice accessing individual elements of arrays.  In Python (and in many programming languages), elements are accessed by *index*, so the first element is the element at index 0.  Unfortunately, this small detail can cause a disproportionate amount of confusion.  So it's useful to practice indexing arrays, even if it's not a particularly important concept."
   ]
  },
  {
   "cell_type": "markdown",
   "metadata": {},
   "source": [
    "---\n",
    "## **Question 4!!!!!!!!!!!!!!!!!!!** \n",
    "\n",
    "The cell below creates an array of some numbers.  Set `third_element` to the third element of `some_numbers`."
   ]
  },
  {
   "cell_type": "code",
   "execution_count": 68,
   "metadata": {
    "collapsed": false,
    "jupyter": {
     "outputs_hidden": false
    }
   },
   "outputs": [
    {
     "ename": "AttributeError",
     "evalue": "'numpy.ndarray' object has no attribute 'loc'",
     "output_type": "error",
     "traceback": [
      "\u001b[1;31m---------------------------------------------------------------------------\u001b[0m",
      "\u001b[1;31mAttributeError\u001b[0m                            Traceback (most recent call last)",
      "\u001b[1;32m~\\AppData\\Local\\Temp/ipykernel_37576/1802573995.py\u001b[0m in \u001b[0;36m<module>\u001b[1;34m\u001b[0m\n\u001b[0;32m      1\u001b[0m \u001b[0msome_numbers\u001b[0m \u001b[1;33m=\u001b[0m \u001b[0mnp\u001b[0m\u001b[1;33m.\u001b[0m\u001b[0marray\u001b[0m\u001b[1;33m(\u001b[0m\u001b[1;33m[\u001b[0m\u001b[1;33m-\u001b[0m\u001b[1;36m1\u001b[0m\u001b[1;33m,\u001b[0m \u001b[1;33m-\u001b[0m\u001b[1;36m3\u001b[0m\u001b[1;33m,\u001b[0m \u001b[1;33m-\u001b[0m\u001b[1;36m6\u001b[0m\u001b[1;33m,\u001b[0m \u001b[1;33m-\u001b[0m\u001b[1;36m10\u001b[0m\u001b[1;33m,\u001b[0m \u001b[1;33m-\u001b[0m\u001b[1;36m15\u001b[0m\u001b[1;33m]\u001b[0m\u001b[1;33m)\u001b[0m\u001b[1;33m\u001b[0m\u001b[1;33m\u001b[0m\u001b[0m\n\u001b[0;32m      2\u001b[0m \u001b[1;33m\u001b[0m\u001b[0m\n\u001b[1;32m----> 3\u001b[1;33m \u001b[0mthird_element\u001b[0m \u001b[1;33m=\u001b[0m \u001b[0msome_numbers\u001b[0m\u001b[1;33m.\u001b[0m\u001b[0mloc\u001b[0m\u001b[1;33m(\u001b[0m\u001b[1;33m-\u001b[0m\u001b[1;36m6\u001b[0m\u001b[1;33m)\u001b[0m\u001b[1;33m\u001b[0m\u001b[1;33m\u001b[0m\u001b[0m\n\u001b[0m\u001b[0;32m      4\u001b[0m \u001b[0mthird_element\u001b[0m\u001b[1;33m\u001b[0m\u001b[1;33m\u001b[0m\u001b[0m\n",
      "\u001b[1;31mAttributeError\u001b[0m: 'numpy.ndarray' object has no attribute 'loc'"
     ]
    }
   ],
   "source": [
    "some_numbers = np.array([-1, -3, -6, -10, -15])\n",
    "\n",
    "third_element = some_numbers.index(-6)\n",
    "third_element"
   ]
  },
  {
   "cell_type": "markdown",
   "metadata": {},
   "source": [
    "---\n",
    "## **Question 5!!!!!!!!!!!!!!!!!!!** \n",
    "\n",
    "By creating a dictionary and converting it to a DataFrame, create a Table where the following column names have the shown values.\n",
    "\n",
    "* ```English_name_for_position``` Column has these strings: ```\"first\", \"second\", \"???\", \"???\", \"fifth\"```\n",
    "* ```Index``` Column has these values:  ```\"???\", \"1\", \"2\", \"???\", \"4\"```\n",
    "* ```Element``` has the numbers in the some_numbers array (Use that array!  Don't hardcode the values here.)\n",
    "\n",
    "Then complete the table by filling in ay question marks with the value that should be there."
   ]
  },
  {
   "cell_type": "code",
   "execution_count": 61,
   "metadata": {
    "collapsed": false,
    "jupyter": {
     "outputs_hidden": false
    }
   },
   "outputs": [
    {
     "data": {
      "text/html": [
       "<div>\n",
       "<style scoped>\n",
       "    .dataframe tbody tr th:only-of-type {\n",
       "        vertical-align: middle;\n",
       "    }\n",
       "\n",
       "    .dataframe tbody tr th {\n",
       "        vertical-align: top;\n",
       "    }\n",
       "\n",
       "    .dataframe thead th {\n",
       "        text-align: right;\n",
       "    }\n",
       "</style>\n",
       "<table border=\"1\" class=\"dataframe\">\n",
       "  <thead>\n",
       "    <tr style=\"text-align: right;\">\n",
       "      <th></th>\n",
       "      <th>English_name_for_position</th>\n",
       "      <th>Index</th>\n",
       "      <th>Element</th>\n",
       "    </tr>\n",
       "  </thead>\n",
       "  <tbody>\n",
       "    <tr>\n",
       "      <th>0</th>\n",
       "      <td>first</td>\n",
       "      <td>???</td>\n",
       "      <td>-1</td>\n",
       "    </tr>\n",
       "    <tr>\n",
       "      <th>1</th>\n",
       "      <td>second</td>\n",
       "      <td>1</td>\n",
       "      <td>-3</td>\n",
       "    </tr>\n",
       "    <tr>\n",
       "      <th>2</th>\n",
       "      <td>???</td>\n",
       "      <td>2</td>\n",
       "      <td>-6</td>\n",
       "    </tr>\n",
       "    <tr>\n",
       "      <th>3</th>\n",
       "      <td>???</td>\n",
       "      <td>???</td>\n",
       "      <td>-10</td>\n",
       "    </tr>\n",
       "    <tr>\n",
       "      <th>4</th>\n",
       "      <td>fifth</td>\n",
       "      <td>4</td>\n",
       "      <td>-15</td>\n",
       "    </tr>\n",
       "  </tbody>\n",
       "</table>\n",
       "</div>"
      ],
      "text/plain": [
       "  English_name_for_position Index  Element\n",
       "0                     first   ???       -1\n",
       "1                    second     1       -3\n",
       "2                       ???     2       -6\n",
       "3                       ???   ???      -10\n",
       "4                     fifth     4      -15"
      ]
     },
     "execution_count": 61,
     "metadata": {},
     "output_type": "execute_result"
    }
   ],
   "source": [
    "elements_of_some_numbers_dict = {\"English_name_for_position\" :np.array(['first','second','???','???','fifth']), \"Index\" :np.array(['???','1','2','???','4']), \"Element\" : (some_numbers)}\n",
    "elements_of_some_numbers_table = pd.DataFrame(elements_of_some_numbers_dict)\n",
    "elements_of_some_numbers_table"
   ]
  },
  {
   "cell_type": "markdown",
   "metadata": {},
   "source": [
    "---\n",
    "## **Question 6!!!!!!!!!!!!!!!!!!!** \n",
    "\n",
    "Use ``shape`` to get the number of rows and columns of the `elements_of_some_numbers_table` dataframe."
   ]
  },
  {
   "cell_type": "code",
   "execution_count": 63,
   "metadata": {},
   "outputs": [
    {
     "data": {
      "text/plain": [
       "((5, 3), (5, 3))"
      ]
     },
     "execution_count": 63,
     "metadata": {},
     "output_type": "execute_result"
    }
   ],
   "source": [
    "num_rows = elements_of_some_numbers_table.shape\n",
    "num_cols = elements_of_some_numbers_table.shape\n",
    "num_rows, num_cols"
   ]
  },
  {
   "cell_type": "markdown",
   "metadata": {},
   "source": [
    "---\n",
    "\n",
    "## **Question 7!!!!!!!!!!!!!!!!!!!** \n",
    "\n",
    "You'll sometimes want to find the *last* element of an array.  Suppose an array has 142 elements.  What is the index of its last element?"
   ]
  },
  {
   "cell_type": "code",
   "execution_count": 64,
   "metadata": {},
   "outputs": [
    {
     "ename": "NameError",
     "evalue": "name 'index' is not defined",
     "output_type": "error",
     "traceback": [
      "\u001b[1;31m---------------------------------------------------------------------------\u001b[0m",
      "\u001b[1;31mNameError\u001b[0m                                 Traceback (most recent call last)",
      "\u001b[1;32m~\\AppData\\Local\\Temp/ipykernel_37576/1960278738.py\u001b[0m in \u001b[0;36m<module>\u001b[1;34m\u001b[0m\n\u001b[1;32m----> 1\u001b[1;33m \u001b[0mindex_of_last_element\u001b[0m \u001b[1;33m=\u001b[0m \u001b[0mindex\u001b[0m\u001b[1;33m(\u001b[0m\u001b[1;36m141\u001b[0m\u001b[1;33m)\u001b[0m\u001b[1;33m\u001b[0m\u001b[1;33m\u001b[0m\u001b[0m\n\u001b[0m",
      "\u001b[1;31mNameError\u001b[0m: name 'index' is not defined"
     ]
    }
   ],
   "source": [
    "index_of_last_element = 141"
   ]
  },
  {
   "cell_type": "markdown",
   "metadata": {},
   "source": [
    "---\n",
    "\n",
    "In the above question, you knew how many elements were in an array (142).\n",
    "\n",
    "More often, however, you don't know the number of elements in an array, that is, its *length*.  (For example, it might be a large dataset you found on the internet.)  \n",
    "\n",
    "Luckily, you can use the `len` function that takes a single argument, an array/list/column, and that returns the `len`gth of the given array (which will be an integer).  \n",
    "\n",
    "The ``len`` function will help you with the next question.\n",
    "\n",
    "---\n",
    "## **Question 8!!!!!!!!!!!!!!!!!!!** \n",
    "\n",
    "Follow the steps below to print out the name of the final president in a list of presidents.\n",
    "\n",
    "* Set the ``presidents_table`` to be a DataFrame with the information in the \"president_births.csv\" file.\n",
    "* Select the contents of the ```Name``` column.\n",
    "* Find the last element in that array.  (It's John F. Kennedy.)  \n",
    "\n",
    "#### Do the last bullet point **without** examining the data manually, ie, don't use index 37!!!\n",
    "#### So if I upload a new csv file with even more rows, I should still get out whoever's name is in the last row when I run your code!!!"
   ]
  },
  {
   "cell_type": "code",
   "execution_count": 91,
   "metadata": {
    "collapsed": false,
    "jupyter": {
     "outputs_hidden": false
    }
   },
   "outputs": [
    {
     "data": {
      "text/plain": [
       "'John F. Kennedy'"
      ]
     },
     "execution_count": 91,
     "metadata": {},
     "output_type": "execute_result"
    }
   ],
   "source": [
    "presidents_table = pd.read_csv(\"president_births.csv\")\n",
    "presidents_names = presidents_table['Name']\n",
    "last_president = presidents_names.iloc[37]\n",
    "last_president\n",
    "\n",
    "#Should print out only the name \"John F. Kennedy\""
   ]
  },
  {
   "cell_type": "markdown",
   "metadata": {},
   "source": [
    "## C. Flipping Coins\n"
   ]
  },
  {
   "cell_type": "markdown",
   "metadata": {},
   "source": [
    "As you're walking Station Ave one afternoon, a shadowy figure steps out from behind a tree and offers you the following game:\n",
    "\n",
    "> \"First, you pay me \\$1 to play.  Then, I'll flip 4 fair coins.  (\"Fair\" means that there's a 50% chance the coin lands heads and a 50% chance it lands tails, and all the coins are independent of each other.)\n",
    "\n",
    "> \"If all of the coins come up heads, then I'll give you \\$10.\"\n",
    "\n",
    "Let's figure out whether this is a good deal.  Answering that question formally requires a little bit of decision theory, which we haven't seen yet, but for now we can at least use a computer to think about how the game works.\n",
    "\n",
    "First, let's think about the outcomes that can happen.  We'll order the coins left to right and denote an outcome by a **string**.  For example, if we get all heads, we'll denote that outcome by `\"HHHH\"`.  If we get tails first and then 3 heads, we'll denote that by `\"THHH\"`.\n",
    "\n",
    "---\n",
    "## **Question 9!!!!!!!!!!!!!!!!!!!** \n",
    "\n",
    "Make an array containing any 3 outcomes that can happen, using this notation.  (The array should contain 3 strings.)  Don't use the examples we've already given!"
   ]
  },
  {
   "cell_type": "code",
   "execution_count": 92,
   "metadata": {
    "collapsed": false,
    "jupyter": {
     "outputs_hidden": false
    }
   },
   "outputs": [],
   "source": [
    "outcomes = np.array(['HHHT','HHTT','HTHH'])"
   ]
  },
  {
   "cell_type": "markdown",
   "metadata": {},
   "source": [
    "A single coin has 2 outcomes, `\"H\"` and `\"T\"`.  When you add a coin to any set of coins, that *multiplies* the number of potential outcomes by 2, because for each potential outcome there was before, there are now 2 potential outcomes: one where the new coin is heads, and one where the new coin is tails.  So if the shadowy figure flips $n$ coins, then there are $2^n$ potential outcomes.\n",
    "\n",
    "---\n",
    "## **Question 10!!!!!!!!!!!!!!!!!!!** \n",
    "\n",
    "Compute the number of outcomes for 4 coins.  **Use the exponentiation (**`**`**) operator.**"
   ]
  },
  {
   "cell_type": "code",
   "execution_count": 93,
   "metadata": {},
   "outputs": [],
   "source": [
    "num_outcomes_4_coins = 2**4"
   ]
  },
  {
   "cell_type": "markdown",
   "metadata": {},
   "source": [
    "You should have found that there were 16 possible outcomes.  Since 1 of them nets you $\\$9$ and the other 15 net you $-\\$1$, if you play 16 games, then on average you'll lose \\$6.  So it's probably not a good idea to play the game.  But this would change if there were more or fewer coins!\n",
    "\n",
    "---\n",
    "## **Question 11!!!!!!!!!!!!!!!!!!!** \n",
    "\n",
    "Suppose the shadowy figure had used a different number of coins.  Compute the number of outcomes for a game with 1 coin, for a game with 2 coins, for a game with 3 coins, and so on, up to 30 coins.  Put the results in an array called `num_outcomes`.  \n",
    "\n",
    "*Hint:* Don't write an expression and copy it 30 times!  Instead, think about the formula for each entry of the array you want, and use array arithmetic to implement that formula."
   ]
  },
  {
   "cell_type": "markdown",
   "metadata": {},
   "source": [
    "Click **here** for another hint \n",
    "\n",
    "<!-- Your answer should look like: array([2, 4, 8, 16, ...])  \n",
    "    and should have length 30, not 29 or 31-->"
   ]
  },
  {
   "cell_type": "code",
   "execution_count": 97,
   "metadata": {
    "collapsed": false,
    "jupyter": {
     "outputs_hidden": false
    }
   },
   "outputs": [
    {
     "data": {
      "text/plain": [
       "array([  1,   4,   9,  16,  25,  36,  49,  64,  81, 100, 121, 144, 169,\n",
       "       196, 225, 256, 289, 324, 361, 400, 441, 484, 529, 576, 625, 676,\n",
       "       729, 784, 841, 900], dtype=int32)"
      ]
     },
     "execution_count": 97,
     "metadata": {},
     "output_type": "execute_result"
    }
   ],
   "source": [
    "num_outcomes = np.arange(1, 31, 1)**2\n",
    "num_outcomes"
   ]
  },
  {
   "cell_type": "markdown",
   "metadata": {},
   "source": [
    "---\n",
    "\n",
    "## D. Tables/DataFrames\n"
   ]
  },
  {
   "cell_type": "markdown",
   "metadata": {},
   "source": [
    "---\n",
    "## **Question 12!!!!!!!!!!!!!!!!!!!** \n",
    "\n",
    "Suppose you have 4 apples, 3 oranges, and 3 pineapples.  (Perhaps you're using Python to solve a high school Algebra problem.)  Create a table/dataframe that contains this information.  It should have two columns: \"fruit_name\" and \"count\".  Give it the name `fruits`.\n",
    "\n",
    "**Notes:** \n",
    "\n",
    "* Use lower-case and singular words for the name of each fruit, like `\"apple\"`.\n",
    "* It's up to you if you want to use a dictionary or not to do this.\n"
   ]
  },
  {
   "cell_type": "code",
   "execution_count": 102,
   "metadata": {
    "collapsed": false,
    "jupyter": {
     "outputs_hidden": false
    }
   },
   "outputs": [
    {
     "data": {
      "text/html": [
       "<div>\n",
       "<style scoped>\n",
       "    .dataframe tbody tr th:only-of-type {\n",
       "        vertical-align: middle;\n",
       "    }\n",
       "\n",
       "    .dataframe tbody tr th {\n",
       "        vertical-align: top;\n",
       "    }\n",
       "\n",
       "    .dataframe thead th {\n",
       "        text-align: right;\n",
       "    }\n",
       "</style>\n",
       "<table border=\"1\" class=\"dataframe\">\n",
       "  <thead>\n",
       "    <tr style=\"text-align: right;\">\n",
       "      <th></th>\n",
       "      <th>fruit_name</th>\n",
       "      <th>count</th>\n",
       "    </tr>\n",
       "  </thead>\n",
       "  <tbody>\n",
       "    <tr>\n",
       "      <th>0</th>\n",
       "      <td>apples</td>\n",
       "      <td>4</td>\n",
       "    </tr>\n",
       "    <tr>\n",
       "      <th>1</th>\n",
       "      <td>oranges</td>\n",
       "      <td>3</td>\n",
       "    </tr>\n",
       "    <tr>\n",
       "      <th>2</th>\n",
       "      <td>pineapples</td>\n",
       "      <td>3</td>\n",
       "    </tr>\n",
       "  </tbody>\n",
       "</table>\n",
       "</div>"
      ],
      "text/plain": [
       "   fruit_name count\n",
       "0      apples     4\n",
       "1     oranges     3\n",
       "2  pineapples     3"
      ]
     },
     "execution_count": 102,
     "metadata": {},
     "output_type": "execute_result"
    }
   ],
   "source": [
    "# Feel free to use however many lines you need here.\n",
    "fruits ={\"fruit_name\" : np.array(['apples','oranges','pineapples']),\"count\" :np.array(['4','3','3'])}\n",
    "fruits_table = pd.DataFrame(fruits)\n",
    "fruits_table"
   ]
  },
  {
   "cell_type": "markdown",
   "metadata": {},
   "source": [
    "---\n",
    "## **Question 13!!!!!!!!!!!!!!!!!!!** \n",
    "\n",
    "The file `inventory.csv` contains information about the inventory at a fruit stand.  Each row represents the contents of one box of fruit.  Load it as a table/dataframe named `inventory`."
   ]
  },
  {
   "cell_type": "code",
   "execution_count": 103,
   "metadata": {
    "collapsed": false,
    "jupyter": {
     "outputs_hidden": false
    }
   },
   "outputs": [
    {
     "data": {
      "text/html": [
       "<div>\n",
       "<style scoped>\n",
       "    .dataframe tbody tr th:only-of-type {\n",
       "        vertical-align: middle;\n",
       "    }\n",
       "\n",
       "    .dataframe tbody tr th {\n",
       "        vertical-align: top;\n",
       "    }\n",
       "\n",
       "    .dataframe thead th {\n",
       "        text-align: right;\n",
       "    }\n",
       "</style>\n",
       "<table border=\"1\" class=\"dataframe\">\n",
       "  <thead>\n",
       "    <tr style=\"text-align: right;\">\n",
       "      <th></th>\n",
       "      <th>box ID</th>\n",
       "      <th>fruit name</th>\n",
       "      <th>count</th>\n",
       "    </tr>\n",
       "  </thead>\n",
       "  <tbody>\n",
       "    <tr>\n",
       "      <th>0</th>\n",
       "      <td>53686</td>\n",
       "      <td>kiwi</td>\n",
       "      <td>45</td>\n",
       "    </tr>\n",
       "    <tr>\n",
       "      <th>1</th>\n",
       "      <td>57181</td>\n",
       "      <td>strawberry</td>\n",
       "      <td>123</td>\n",
       "    </tr>\n",
       "    <tr>\n",
       "      <th>2</th>\n",
       "      <td>25274</td>\n",
       "      <td>apple</td>\n",
       "      <td>20</td>\n",
       "    </tr>\n",
       "    <tr>\n",
       "      <th>3</th>\n",
       "      <td>48800</td>\n",
       "      <td>orange</td>\n",
       "      <td>35</td>\n",
       "    </tr>\n",
       "    <tr>\n",
       "      <th>4</th>\n",
       "      <td>26187</td>\n",
       "      <td>strawberry</td>\n",
       "      <td>255</td>\n",
       "    </tr>\n",
       "    <tr>\n",
       "      <th>5</th>\n",
       "      <td>57930</td>\n",
       "      <td>grape</td>\n",
       "      <td>517</td>\n",
       "    </tr>\n",
       "    <tr>\n",
       "      <th>6</th>\n",
       "      <td>52357</td>\n",
       "      <td>strawberry</td>\n",
       "      <td>102</td>\n",
       "    </tr>\n",
       "    <tr>\n",
       "      <th>7</th>\n",
       "      <td>43566</td>\n",
       "      <td>peach</td>\n",
       "      <td>40</td>\n",
       "    </tr>\n",
       "  </tbody>\n",
       "</table>\n",
       "</div>"
      ],
      "text/plain": [
       "   box ID  fruit name  count\n",
       "0   53686        kiwi     45\n",
       "1   57181  strawberry    123\n",
       "2   25274       apple     20\n",
       "3   48800      orange     35\n",
       "4   26187  strawberry    255\n",
       "5   57930       grape    517\n",
       "6   52357  strawberry    102\n",
       "7   43566       peach     40"
      ]
     },
     "execution_count": 103,
     "metadata": {},
     "output_type": "execute_result"
    }
   ],
   "source": [
    "inventory = pd.read_csv('inventory.csv')\n",
    "inventory"
   ]
  },
  {
   "cell_type": "markdown",
   "metadata": {},
   "source": [
    "---\n",
    "## **Question 14!!!!!!!!!!!!!!!!!!!** \n",
    "\n",
    "Does each box at the fruit stand contain a different fruit, ie, do the boxes contain *unqiue* types of fruit?  \n",
    "\n",
    "While you can analyze the tables to determine this, use code to decide and then write your response in the markdown box below the code.  Sp don't hardcode."
   ]
  },
  {
   "cell_type": "code",
   "execution_count": 110,
   "metadata": {},
   "outputs": [
    {
     "data": {
      "text/plain": [
       "array(['kiwi', 'strawberry', 'apple', 'orange', 'grape', 'peach'],\n",
       "      dtype=object)"
      ]
     },
     "execution_count": 110,
     "metadata": {},
     "output_type": "execute_result"
    }
   ],
   "source": [
    "inventory['fruit name'].unique()"
   ]
  },
  {
   "cell_type": "markdown",
   "metadata": {},
   "source": [
    "Not every box has a unique type of fruit"
   ]
  },
  {
   "cell_type": "markdown",
   "metadata": {},
   "source": [
    "---\n",
    "## **Question 15!!!!!!!!!!!!!!!!!!!** \n",
    "\n",
    "The file `sales.csv` contains the number of fruit sold from each box last Saturday.  It has an extra column called \"price per fruit (\\$)\" that's the price *per item of fruit* for fruit in that box.  The rows are in the same order as the `inventory` table.  Load these data into a table called `sales`."
   ]
  },
  {
   "cell_type": "code",
   "execution_count": 111,
   "metadata": {
    "collapsed": false,
    "jupyter": {
     "outputs_hidden": false
    }
   },
   "outputs": [
    {
     "data": {
      "text/html": [
       "<div>\n",
       "<style scoped>\n",
       "    .dataframe tbody tr th:only-of-type {\n",
       "        vertical-align: middle;\n",
       "    }\n",
       "\n",
       "    .dataframe tbody tr th {\n",
       "        vertical-align: top;\n",
       "    }\n",
       "\n",
       "    .dataframe thead th {\n",
       "        text-align: right;\n",
       "    }\n",
       "</style>\n",
       "<table border=\"1\" class=\"dataframe\">\n",
       "  <thead>\n",
       "    <tr style=\"text-align: right;\">\n",
       "      <th></th>\n",
       "      <th>box ID</th>\n",
       "      <th>fruit name</th>\n",
       "      <th>count sold</th>\n",
       "      <th>price per fruit ($)</th>\n",
       "    </tr>\n",
       "  </thead>\n",
       "  <tbody>\n",
       "    <tr>\n",
       "      <th>0</th>\n",
       "      <td>53686</td>\n",
       "      <td>kiwi</td>\n",
       "      <td>3</td>\n",
       "      <td>0.50</td>\n",
       "    </tr>\n",
       "    <tr>\n",
       "      <th>1</th>\n",
       "      <td>57181</td>\n",
       "      <td>strawberry</td>\n",
       "      <td>101</td>\n",
       "      <td>0.20</td>\n",
       "    </tr>\n",
       "    <tr>\n",
       "      <th>2</th>\n",
       "      <td>25274</td>\n",
       "      <td>apple</td>\n",
       "      <td>0</td>\n",
       "      <td>0.80</td>\n",
       "    </tr>\n",
       "    <tr>\n",
       "      <th>3</th>\n",
       "      <td>48800</td>\n",
       "      <td>orange</td>\n",
       "      <td>35</td>\n",
       "      <td>0.60</td>\n",
       "    </tr>\n",
       "    <tr>\n",
       "      <th>4</th>\n",
       "      <td>26187</td>\n",
       "      <td>strawberry</td>\n",
       "      <td>25</td>\n",
       "      <td>0.15</td>\n",
       "    </tr>\n",
       "    <tr>\n",
       "      <th>5</th>\n",
       "      <td>57930</td>\n",
       "      <td>grape</td>\n",
       "      <td>355</td>\n",
       "      <td>0.06</td>\n",
       "    </tr>\n",
       "    <tr>\n",
       "      <th>6</th>\n",
       "      <td>52357</td>\n",
       "      <td>strawberry</td>\n",
       "      <td>102</td>\n",
       "      <td>0.25</td>\n",
       "    </tr>\n",
       "    <tr>\n",
       "      <th>7</th>\n",
       "      <td>43566</td>\n",
       "      <td>peach</td>\n",
       "      <td>17</td>\n",
       "      <td>0.80</td>\n",
       "    </tr>\n",
       "  </tbody>\n",
       "</table>\n",
       "</div>"
      ],
      "text/plain": [
       "   box ID  fruit name  count sold  price per fruit ($)\n",
       "0   53686        kiwi           3                 0.50\n",
       "1   57181  strawberry         101                 0.20\n",
       "2   25274       apple           0                 0.80\n",
       "3   48800      orange          35                 0.60\n",
       "4   26187  strawberry          25                 0.15\n",
       "5   57930       grape         355                 0.06\n",
       "6   52357  strawberry         102                 0.25\n",
       "7   43566       peach          17                 0.80"
      ]
     },
     "execution_count": 111,
     "metadata": {},
     "output_type": "execute_result"
    }
   ],
   "source": [
    "sales = pd.read_csv('sales.csv')\n",
    "sales"
   ]
  },
  {
   "cell_type": "markdown",
   "metadata": {},
   "source": [
    "---\n",
    "## **Question 16!!!!!!!!!!!!!!!!!!!** \n",
    "\n",
    "How many fruits did the store sell in total on that day?"
   ]
  },
  {
   "cell_type": "code",
   "execution_count": 122,
   "metadata": {
    "collapsed": false,
    "jupyter": {
     "outputs_hidden": false
    }
   },
   "outputs": [
    {
     "data": {
      "text/plain": [
       "638"
      ]
     },
     "execution_count": 122,
     "metadata": {},
     "output_type": "execute_result"
    }
   ],
   "source": [
    "total_fruits_sold = sales['count sold'].sum()\n",
    "total_fruits_sold"
   ]
  },
  {
   "cell_type": "markdown",
   "metadata": {},
   "source": [
    "---\n",
    "## **Question 17!!!!!!!!!!!!!!!!!!!** \n",
    "\n",
    "What was the store's total revenue (the total price of all fruits sold) on that day?\n",
    "\n",
    "*Hint:* If you're stuck, think first about how you would compute the total revenue from just the grape sales."
   ]
  },
  {
   "cell_type": "code",
   "execution_count": 131,
   "metadata": {
    "collapsed": false,
    "jupyter": {
     "outputs_hidden": false
    }
   },
   "outputs": [
    {
     "data": {
      "text/plain": [
       "106.85000000000001"
      ]
     },
     "execution_count": 131,
     "metadata": {},
     "output_type": "execute_result"
    }
   ],
   "source": [
    "total_revenu = (sales['price per fruit ($)'] * sales['count sold'])\n",
    "total_revenue = total_revenu.sum()\n",
    "total_revenue"
   ]
  },
  {
   "cell_type": "markdown",
   "metadata": {},
   "source": [
    "---\n",
    "## **Question 18!!!!!!!!!!!!!!!!!!!** \n",
    "\n",
    "Make a new table called `remaining_inventory`.  It should have the same rows and columns as `inventory`, except that the amount of fruit sold from each box should be subtracted from that box's count, so that the \"count\" is the amount of fruit remaining after Saturday."
   ]
  },
  {
   "cell_type": "code",
   "execution_count": 140,
   "metadata": {
    "collapsed": false,
    "jupyter": {
     "outputs_hidden": false
    }
   },
   "outputs": [
    {
     "data": {
      "text/plain": [
       "0     42\n",
       "1     22\n",
       "2     20\n",
       "3      0\n",
       "4    230\n",
       "5    162\n",
       "6      0\n",
       "7     23\n",
       "dtype: int64"
      ]
     },
     "execution_count": 140,
     "metadata": {},
     "output_type": "execute_result"
    }
   ],
   "source": [
    "#Feel free to use more than one line of code if you need.\n",
    "remaining_inventor = inventory['count'] - sales['count sold']\n",
    "remaining_inventor"
   ]
  },
  {
   "cell_type": "code",
   "execution_count": 139,
   "metadata": {
    "collapsed": false,
    "jupyter": {
     "outputs_hidden": false
    }
   },
   "outputs": [
    {
     "data": {
      "text/html": [
       "<div>\n",
       "<style scoped>\n",
       "    .dataframe tbody tr th:only-of-type {\n",
       "        vertical-align: middle;\n",
       "    }\n",
       "\n",
       "    .dataframe tbody tr th {\n",
       "        vertical-align: top;\n",
       "    }\n",
       "\n",
       "    .dataframe thead th {\n",
       "        text-align: right;\n",
       "    }\n",
       "</style>\n",
       "<table border=\"1\" class=\"dataframe\">\n",
       "  <thead>\n",
       "    <tr style=\"text-align: right;\">\n",
       "      <th></th>\n",
       "      <th>box ID</th>\n",
       "      <th>fruit name</th>\n",
       "      <th>count</th>\n",
       "    </tr>\n",
       "  </thead>\n",
       "  <tbody>\n",
       "    <tr>\n",
       "      <th>0</th>\n",
       "      <td>53686</td>\n",
       "      <td>kiwi</td>\n",
       "      <td>45</td>\n",
       "    </tr>\n",
       "    <tr>\n",
       "      <th>1</th>\n",
       "      <td>57181</td>\n",
       "      <td>strawberry</td>\n",
       "      <td>123</td>\n",
       "    </tr>\n",
       "    <tr>\n",
       "      <th>2</th>\n",
       "      <td>25274</td>\n",
       "      <td>apple</td>\n",
       "      <td>20</td>\n",
       "    </tr>\n",
       "    <tr>\n",
       "      <th>3</th>\n",
       "      <td>48800</td>\n",
       "      <td>orange</td>\n",
       "      <td>35</td>\n",
       "    </tr>\n",
       "    <tr>\n",
       "      <th>4</th>\n",
       "      <td>26187</td>\n",
       "      <td>strawberry</td>\n",
       "      <td>255</td>\n",
       "    </tr>\n",
       "    <tr>\n",
       "      <th>5</th>\n",
       "      <td>57930</td>\n",
       "      <td>grape</td>\n",
       "      <td>517</td>\n",
       "    </tr>\n",
       "    <tr>\n",
       "      <th>6</th>\n",
       "      <td>52357</td>\n",
       "      <td>strawberry</td>\n",
       "      <td>102</td>\n",
       "    </tr>\n",
       "    <tr>\n",
       "      <th>7</th>\n",
       "      <td>43566</td>\n",
       "      <td>peach</td>\n",
       "      <td>40</td>\n",
       "    </tr>\n",
       "  </tbody>\n",
       "</table>\n",
       "</div>"
      ],
      "text/plain": [
       "   box ID  fruit name  count\n",
       "0   53686        kiwi     45\n",
       "1   57181  strawberry    123\n",
       "2   25274       apple     20\n",
       "3   48800      orange     35\n",
       "4   26187  strawberry    255\n",
       "5   57930       grape    517\n",
       "6   52357  strawberry    102\n",
       "7   43566       peach     40"
      ]
     },
     "execution_count": 139,
     "metadata": {},
     "output_type": "execute_result"
    }
   ],
   "source": [
    "remaining_inventory = inventory.replace({'count' : 'remaining_inventor'})\n",
    "remaining_inventory"
   ]
  },
  {
   "cell_type": "code",
   "execution_count": null,
   "metadata": {},
   "outputs": [],
   "source": []
  }
 ],
 "metadata": {
  "kernelspec": {
   "display_name": "Python 3 (ipykernel)",
   "language": "python",
   "name": "python3"
  },
  "language_info": {
   "codemirror_mode": {
    "name": "ipython",
    "version": 3
   },
   "file_extension": ".py",
   "mimetype": "text/x-python",
   "name": "python",
   "nbconvert_exporter": "python",
   "pygments_lexer": "ipython3",
   "version": "3.9.7"
  }
 },
 "nbformat": 4,
 "nbformat_minor": 4
}
