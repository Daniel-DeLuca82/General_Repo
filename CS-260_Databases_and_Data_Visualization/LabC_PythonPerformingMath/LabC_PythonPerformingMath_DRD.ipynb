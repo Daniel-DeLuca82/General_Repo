{
 "cells": [
  {
   "cell_type": "markdown",
   "metadata": {},
   "source": [
    "### *“The travel industry is made up of a myriad supplier data feeds...*\n",
    "\n",
    "### *Python repeatedly has allowed us to access, build and test our in-house communications with hundreds of travel suppliers around the world in a matter of days rather then the months it would have taken using other languages.*\n",
    "\n",
    "### *Since adopting Python two years ago, Python has provided us with a measurable productivity gain that allows us to stay competitive in the online travel space.”* \n",
    "\n",
    "*–Michael Engelhart, CTO of EZTrip.com (2021)*\n",
    "\n",
    "Python is used in EVERY industry!  Even knowing a little can you learn A LOT!\n",
    "\n",
    "---"
   ]
  },
  {
   "cell_type": "markdown",
   "metadata": {},
   "source": [
    "# Your Name: Daniel DeLuca"
   ]
  },
  {
   "cell_type": "markdown",
   "metadata": {},
   "source": [
    "# Lab C: Arithmetic and Basic Math in Python\n"
   ]
  },
  {
   "cell_type": "markdown",
   "metadata": {},
   "source": [
    "The goal of this lab is to get you familiar with the performing basic math in Programming.  Read the lab very carefully, taking care to perform each task as indicated in the code blocks.\n",
    "\n",
    "Parts of this lab were adapted from an IBM course (\"Python for Data Science\") on the Cognitive Class website. Thank you to the original author <a href=\"https://www.linkedin.com/in/joseph-s-50398b136/\" target=\"_blank\">Joseph Santarcangelo</a> who is a Data Scientist at IBM for creating the initial lab. "
   ]
  },
  {
   "cell_type": "markdown",
   "metadata": {},
   "source": [
    "<hr>"
   ]
  },
  {
   "cell_type": "markdown",
   "metadata": {},
   "source": [
    "## 1. Parentheses Matter!"
   ]
  },
  {
   "cell_type": "markdown",
   "metadata": {},
   "source": [
    "Just like in math class, expressions enclosed in parentheses have priority. \n",
    "\n",
    "So the PEMDAS (\"Please excuse my dear Aunt Sally\") rules apply.</p>"
   ]
  },
  {
   "cell_type": "code",
   "execution_count": 1,
   "metadata": {},
   "outputs": [
    {
     "name": "stdout",
     "output_type": "stream",
     "text": [
      "42\n",
      "17\n"
     ]
    }
   ],
   "source": [
    "#Guess at the values of x and y below and then run the cell to checl (Shift+Enter)\n",
    "\n",
    "x = (5 + 2) * 6\n",
    "print(x)\n",
    "\n",
    "y = 5 + 2 * 6\n",
    "print(y)"
   ]
  },
  {
   "cell_type": "markdown",
   "metadata": {},
   "source": [
    "<hr>"
   ]
  },
  {
   "cell_type": "markdown",
   "metadata": {},
   "source": [
    "<h2 id=\"expressions\">2. Integer Division</h2>"
   ]
  },
  {
   "cell_type": "markdown",
   "metadata": {},
   "source": [
    "Remember that ONE SLASH means divide.\n",
    "\n"
   ]
  },
  {
   "cell_type": "code",
   "execution_count": null,
   "metadata": {},
   "outputs": [],
   "source": [
    "# Division operation expression \n",
    "# Guess what the cell below will print out.  Then run it to check your guess. (Shift+Enter)\n",
    "\n",
    "print(18 / 3)\n",
    "print(25 / 6)"
   ]
  },
  {
   "cell_type": "markdown",
   "metadata": {},
   "source": [
    "<p>We can use the double slash for integer division, where the result truncates/drops the decimal portion of the number, like in the examples below."
   ]
  },
  {
   "cell_type": "code",
   "execution_count": 2,
   "metadata": {},
   "outputs": [
    {
     "data": {
      "text/plain": [
       "3"
      ]
     },
     "execution_count": 2,
     "metadata": {},
     "output_type": "execute_result"
    }
   ],
   "source": [
    "# Integer division operation expression:  Run this cell to see what is printed out!  Do you understand why?\n",
    "\n",
    "13 // 4    #This computes how many times 4 goes evenly into 13.  So the remainder is dropped!"
   ]
  },
  {
   "cell_type": "code",
   "execution_count": 3,
   "metadata": {},
   "outputs": [
    {
     "data": {
      "text/plain": [
       "2"
      ]
     },
     "execution_count": 3,
     "metadata": {},
     "output_type": "execute_result"
    }
   ],
   "source": [
    "# Integer division operation expression:  Run this cell to see what is printed out!\n",
    "\n",
    "10 // 5    #This computes how many times 5 goes evenly into 10"
   ]
  },
  {
   "cell_type": "markdown",
   "metadata": {},
   "source": [
    "Let's get some practice.  Guess what will be printed below."
   ]
  },
  {
   "cell_type": "code",
   "execution_count": 4,
   "metadata": {},
   "outputs": [
    {
     "name": "stdout",
     "output_type": "stream",
     "text": [
      "2\n",
      "2.5\n"
     ]
    }
   ],
   "source": [
    "#Guess at what is printed out!  Then run and check!\n",
    "x =  5 // 2 \n",
    "y =  5 /  2\n",
    "print(x)  \n",
    "print(y)"
   ]
  },
  {
   "cell_type": "code",
   "execution_count": 5,
   "metadata": {},
   "outputs": [
    {
     "name": "stdout",
     "output_type": "stream",
     "text": [
      "10\n",
      "10.0\n"
     ]
    }
   ],
   "source": [
    "#Guess at what is printed out!  Then run and check!\n",
    "x =  20 // 2 \n",
    "y =  20 /  2\n",
    "print(x)  #Is x an integer or a float?\n",
    "print(y)  #Is y an integer or a float?\n"
   ]
  },
  {
   "cell_type": "code",
   "execution_count": 6,
   "metadata": {},
   "outputs": [
    {
     "name": "stdout",
     "output_type": "stream",
     "text": [
      "0.2\n",
      "0\n"
     ]
    }
   ],
   "source": [
    "#Guess at what is printed out!  Then run and check!\n",
    "x =  2 / 10 \n",
    "y =  2 //  10\n",
    "\n",
    "print(x)  \n",
    "print(y)"
   ]
  },
  {
   "cell_type": "code",
   "execution_count": 7,
   "metadata": {},
   "outputs": [
    {
     "name": "stdout",
     "output_type": "stream",
     "text": [
      "1.3333333333333333\n",
      "1\n"
     ]
    }
   ],
   "source": [
    "#Guess at what is printed out!  Then run and check!\n",
    "x =  4 / 3 \n",
    "y =  4 //  3\n",
    "\n",
    "print(x)  \n",
    "print(y)"
   ]
  },
  {
   "cell_type": "markdown",
   "metadata": {},
   "source": [
    "---\n",
    "## **Question 2. (Regular Division vs. Integer Division.)!!!!!!!!!!!!!!!!!!!** \n",
    "\n"
   ]
  },
  {
   "cell_type": "markdown",
   "metadata": {},
   "source": [
    "<p>Let's write an expression that calculates how many nickels we would need to make 38 cents.</p>"
   ]
  },
  {
   "cell_type": "code",
   "execution_count": 10,
   "metadata": {},
   "outputs": [
    {
     "name": "stdout",
     "output_type": "stream",
     "text": [
      "7\n"
     ]
    }
   ],
   "source": [
    "# Write your code below. Don't forget to press Shift+Enter to execute the cell\n",
    "x = 38 // 5\n",
    "print(x)\n"
   ]
  },
  {
   "cell_type": "markdown",
   "metadata": {},
   "source": [
    "Double-click __here__ for the solution.\n",
    "\n",
    "<!-- Your answer is below:\n",
    "38 // 5\n",
    "-->"
   ]
  },
  {
   "cell_type": "markdown",
   "metadata": {},
   "source": [
    "<p>John has 3 slices of a pizza pie that was cut into 8 equal slices. Print what percentage of the pie John has.</p>"
   ]
  },
  {
   "cell_type": "code",
   "execution_count": 18,
   "metadata": {},
   "outputs": [
    {
     "name": "stdout",
     "output_type": "stream",
     "text": [
      "37.5%\n"
     ]
    }
   ],
   "source": [
    "# Write your code below. Don't forget to press Shift+Enter to execute the cell\n",
    "slices = 3\n",
    "percentage = slices / 8 * 100\n",
    "print(str(percentage) + \"%\")\n",
    "\n"
   ]
  },
  {
   "cell_type": "markdown",
   "metadata": {},
   "source": [
    "Double-click __here__ for the solution.\n",
    "\n",
    "<!-- Your answer is below:\n",
    "percentage = (3 / 8) * 100\n",
    "\n",
    "print(str(percentage) + \"%\")\n",
    "-->"
   ]
  },
  {
   "cell_type": "markdown",
   "metadata": {},
   "source": [
    "<hr/>"
   ]
  },
  {
   "cell_type": "markdown",
   "metadata": {},
   "source": [
    "## 3. Modulus\n",
    "\n",
    "When using integer division, we often want to know about remainders.\n",
    "\n",
    "So for example  ``17 // 4`` is 4 because 4 divides 17 with a remainder of 1.  So we say ``17 mod 4`` is 1.  \n",
    "\n",
    "Oftentimes programming languages use the percent sign for the modulus symbol (``%``).  \n",
    "\n",
    "Here are some examples:\n",
    "\n",
    "* ``28 % 5 = 3`` since 5 leaves a remainder of 3 when dividing 28\n",
    "* ``24 % 11 = 2`` since 11 leaves a remainder of 2 when dividing 24\n",
    "* ``18 % 6 = 0`` since 6 leaves no remainder when dividing 18"
   ]
  },
  {
   "cell_type": "code",
   "execution_count": 19,
   "metadata": {},
   "outputs": [
    {
     "data": {
      "text/plain": [
       "3"
      ]
     },
     "execution_count": 19,
     "metadata": {},
     "output_type": "execute_result"
    }
   ],
   "source": [
    "#Guess at what is printed out!  Then run and check!\n",
    "x = 28 % 5\n",
    "x"
   ]
  },
  {
   "cell_type": "code",
   "execution_count": 20,
   "metadata": {},
   "outputs": [
    {
     "data": {
      "text/plain": [
       "1"
      ]
     },
     "execution_count": 20,
     "metadata": {},
     "output_type": "execute_result"
    }
   ],
   "source": [
    "#Guess at what is printed out!  Then run and check!\n",
    "x = 36 % 5\n",
    "x"
   ]
  },
  {
   "cell_type": "markdown",
   "metadata": {},
   "source": [
    "---\n",
    "## **Question 3. (Getting Used to Modulus)!!!!!!!!!!!!!!!!!!!** \n",
    "\n"
   ]
  },
  {
   "cell_type": "markdown",
   "metadata": {},
   "source": [
    "You pay a bill of $4.93 using as many quarters as possibles.  Also, you only use quarters and pennies.  How many quarters and pennies do you use?\n",
    "\n",
    "Use the new things you learned in this lab to decide."
   ]
  },
  {
   "cell_type": "code",
   "execution_count": 22,
   "metadata": {},
   "outputs": [
    {
     "data": {
      "text/plain": [
       "(19, 18)"
      ]
     },
     "execution_count": 22,
     "metadata": {},
     "output_type": "execute_result"
    }
   ],
   "source": [
    "# Write your code below. Don't forget to press Shift+Enter to execute the cell\n",
    "\n",
    "quarters = 493// 25 #delete the periods and place your work\n",
    "pennies = 493 % 25\n",
    "quarters, pennies"
   ]
  },
  {
   "cell_type": "markdown",
   "metadata": {},
   "source": [
    "Double-click __here__ for the solution.\n",
    "\n",
    "<!-- Your answer is below:\n",
    "\n",
    "quarters = 493 // 25\n",
    "pennies = 493 % 25  #We essentially want the remainder of 493 cents when dividing by 25. \n",
    "\n",
    "-->"
   ]
  },
  {
   "cell_type": "markdown",
   "metadata": {},
   "source": [
    "---\n",
    "\n",
    "## 4. Exponents \n",
    "\n",
    "How do we take exponents in Python?  For example, you know that the volume of a cube with a side length of $s$ is $ V = s^3 $. Let's look at the following example."
   ]
  },
  {
   "cell_type": "code",
   "execution_count": 23,
   "metadata": {},
   "outputs": [
    {
     "name": "stdout",
     "output_type": "stream",
     "text": [
      "125\n"
     ]
    }
   ],
   "source": [
    "#Say the side length is 5\n",
    "s = 5\n",
    "\n",
    "#Then the volume is:\n",
    "volume = s * s * s\n",
    "print(volume)"
   ]
  },
  {
   "cell_type": "markdown",
   "metadata": {},
   "source": [
    "Another way to raise values to a power is to use ```**```.  In other words:\n",
    "\n",
    "$$x**y\\,\\,\\, = \\,\\,\\, x^y$$  \n",
    "\n",
    "Here are some examples."
   ]
  },
  {
   "cell_type": "code",
   "execution_count": 24,
   "metadata": {},
   "outputs": [
    {
     "data": {
      "text/plain": [
       "8"
      ]
     },
     "execution_count": 24,
     "metadata": {},
     "output_type": "execute_result"
    }
   ],
   "source": [
    "#Take a guess at the value below and then run the cell to check!\n",
    "\n",
    "2**3  #Raises 2 to the 3rd power"
   ]
  },
  {
   "cell_type": "code",
   "execution_count": 25,
   "metadata": {},
   "outputs": [
    {
     "data": {
      "text/plain": [
       "9"
      ]
     },
     "execution_count": 25,
     "metadata": {},
     "output_type": "execute_result"
    }
   ],
   "source": [
    "#Take a guess at the value below and then run the cell to check!\n",
    "3**2"
   ]
  },
  {
   "cell_type": "code",
   "execution_count": 26,
   "metadata": {},
   "outputs": [
    {
     "data": {
      "text/plain": [
       "64"
      ]
     },
     "execution_count": 26,
     "metadata": {},
     "output_type": "execute_result"
    }
   ],
   "source": [
    "#Take a guess at the value below and then run the cell to check!\n",
    "4**3"
   ]
  },
  {
   "cell_type": "code",
   "execution_count": 27,
   "metadata": {},
   "outputs": [
    {
     "data": {
      "text/plain": [
       "3.375"
      ]
     },
     "execution_count": 27,
     "metadata": {},
     "output_type": "execute_result"
    }
   ],
   "source": [
    "#Take a guess at the value below and then run the cell to check!\n",
    "1.5**3"
   ]
  },
  {
   "cell_type": "markdown",
   "metadata": {},
   "source": [
    "Remember that taking squareroot is the same thing as raising to the 1/2 power. \n",
    "\n",
    "So $\\sqrt{x}=x^{1/2}$.\n",
    "\n",
    "This means that we can use double asteriks to compute square roots.  Let's try it!"
   ]
  },
  {
   "cell_type": "code",
   "execution_count": 28,
   "metadata": {},
   "outputs": [
    {
     "data": {
      "text/plain": [
       "8.0"
      ]
     },
     "execution_count": 28,
     "metadata": {},
     "output_type": "execute_result"
    }
   ],
   "source": [
    "#Take a guess at the value below and then run the cell to check!\n",
    "64**0.5"
   ]
  },
  {
   "cell_type": "code",
   "execution_count": 29,
   "metadata": {},
   "outputs": [
    {
     "data": {
      "text/plain": [
       "5.0"
      ]
     },
     "execution_count": 29,
     "metadata": {},
     "output_type": "execute_result"
    }
   ],
   "source": [
    "#Take a guess at the value below and then run the cell to check!\n",
    "25**0.5"
   ]
  },
  {
   "cell_type": "markdown",
   "metadata": {},
   "source": [
    "---\n",
    "\n",
    "## **Question 4A. (Exponents)!!!!!!!!!!!!!!!!!!!** \n",
    "\n",
    "Recall that below, we computed the volume of a cube.  \n",
    "\n",
    "Update this code so that it uses double asteriks to do the cubing."
   ]
  },
  {
   "cell_type": "code",
   "execution_count": 30,
   "metadata": {},
   "outputs": [
    {
     "name": "stdout",
     "output_type": "stream",
     "text": [
      "1000\n"
     ]
    }
   ],
   "source": [
    "#Say the side length is 5\n",
    "s = 10\n",
    "\n",
    "#Then the volume is:\n",
    "volume = s ** 3\n",
    "print(volume)"
   ]
  },
  {
   "cell_type": "markdown",
   "metadata": {},
   "source": [
    "Double-click __here__ for the solution.\n",
    "\n",
    "<!-- \n",
    "volume = s ** 3\n",
    "-->"
   ]
  },
  {
   "cell_type": "markdown",
   "metadata": {},
   "source": [
    "---\n",
    "\n",
    "## **Question 4B. (Square Roots)!!!!!!!!!!!!!!!!!!!** \n",
    "\n",
    "You make remember the quadratic formula, which says that the equation $ax^2+bx+c=0$ has the following solution.  \n",
    "\n",
    "$$x=\\frac{-b\\pm\\sqrt{b^2-4ac}}{2a}$$\n",
    "\n",
    "Write code below so that you find the solution to the equation $2x^2-11x+5=0$.  \n",
    "\n",
    "So in this example, $a=2, b=-11$, and $c = 5$."
   ]
  },
  {
   "cell_type": "code",
   "execution_count": 55,
   "metadata": {
    "tags": []
   },
   "outputs": [
    {
     "ename": "SyntaxError",
     "evalue": "invalid syntax (Temp/ipykernel_7664/792702476.py, line 11)",
     "output_type": "error",
     "traceback": [
      "\u001b[1;36m  File \u001b[1;32m\"C:\\Users\\dande\\AppData\\Local\\Temp/ipykernel_7664/792702476.py\"\u001b[1;36m, line \u001b[1;32m11\u001b[0m\n\u001b[1;33m    x1 =\u001b[0m\n\u001b[1;37m         ^\u001b[0m\n\u001b[1;31mSyntaxError\u001b[0m\u001b[1;31m:\u001b[0m invalid syntax\n"
     ]
    }
   ],
   "source": [
    "#Set up our variables.\n",
    "a = 2\n",
    "b = -11\n",
    "c = 5\n",
    "(11 + (-11 ** - 4 * 2 * 5)*5) / 2 * 2\n",
    "#x1 and x2 are set to 0.  Instead, set x1 and x2 equal to the output of the quadratic equation.\n",
    "#Hint:  Let x1 be equal to the solution when you use the + in the quadratic formula\n",
    "#       Let x2 be equal to the solution when you use the - in the quadratic formula\n",
    "#       Know that to code up -b you need to do -1 * b\n",
    "\n",
    "x1 = \n",
    "x2 = \n",
    "\n",
    "#Print out the resutls\n",
    "print(x1, x2)"
   ]
  },
  {
   "cell_type": "code",
   "execution_count": 56,
   "metadata": {},
   "outputs": [],
   "source": [
    "x1 = (11 + (-11** - 4*2*5) * 0.5) / (2 * 2)"
   ]
  },
  {
   "cell_type": "code",
   "execution_count": 57,
   "metadata": {},
   "outputs": [],
   "source": [
    "x2 = (11 - (-11** - 4*2*5) * 0.5) / (2 * 2)"
   ]
  },
  {
   "cell_type": "code",
   "execution_count": 58,
   "metadata": {},
   "outputs": [
    {
     "name": "stdout",
     "output_type": "stream",
     "text": [
      "2.7499146233180793 2.7500853766819207\n"
     ]
    }
   ],
   "source": [
    "print(x1, x2)"
   ]
  },
  {
   "cell_type": "markdown",
   "metadata": {},
   "source": [
    "Double-click __here__ for the solution.\n",
    "\n",
    "<!-- \n",
    "x1 = (-1 * b + (b**2 - 4*a*c) ** 0.5) / (2*a)\n",
    "x2 = ????? \n",
    "-->"
   ]
  },
  {
   "cell_type": "markdown",
   "metadata": {},
   "source": [
    "<hr>"
   ]
  },
  {
   "cell_type": "markdown",
   "metadata": {},
   "source": [
    "Okay!  You're done Lab C!  Submit this!   Your file should be called LabC_PythonMath_YourInitials.ipynb "
   ]
  },
  {
   "cell_type": "code",
   "execution_count": null,
   "metadata": {},
   "outputs": [],
   "source": []
  },
  {
   "cell_type": "code",
   "execution_count": null,
   "metadata": {},
   "outputs": [],
   "source": []
  },
  {
   "cell_type": "code",
   "execution_count": null,
   "metadata": {},
   "outputs": [],
   "source": []
  }
 ],
 "metadata": {
  "kernelspec": {
   "display_name": "Python 3 (ipykernel)",
   "language": "python",
   "name": "python3"
  },
  "language_info": {
   "codemirror_mode": {
    "name": "ipython",
    "version": 3
   },
   "file_extension": ".py",
   "mimetype": "text/x-python",
   "name": "python",
   "nbconvert_exporter": "python",
   "pygments_lexer": "ipython3",
   "version": "3.9.7"
  }
 },
 "nbformat": 4,
 "nbformat_minor": 4
}
