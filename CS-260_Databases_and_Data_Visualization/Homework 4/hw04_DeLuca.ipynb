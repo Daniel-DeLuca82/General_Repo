{
 "cells": [
  {
   "cell_type": "markdown",
   "metadata": {},
   "source": [
    "YOUR NAME HERE: Daniel DeLuca"
   ]
  },
  {
   "cell_type": "markdown",
   "metadata": {},
   "source": [
    "# Homework 4: Line  Graphs and Scatter Graphs\n",
    "\n",
    "Covers material from Ch 6/7 in the text\n",
    "\n",
    "## All visuals must have axes labels and a title, whether the directions state it or not.  Labels should reflect the units where needed as well.\n",
    "\n",
    "Make sure that the text on the axes labels are present, grammatically correct, capitalized accurately, and make sense."
   ]
  },
  {
   "cell_type": "code",
   "execution_count": null,
   "metadata": {
    "collapsed": false,
    "jupyter": {
     "outputs_hidden": false
    }
   },
   "outputs": [],
   "source": [
    "#Please import the 3 packages you need for working with tables and data frames here\n",
    "import pandas as pd\n",
    "import numpy as np\n",
    "import matplotlib.pyplot as plt\n",
    "#Please write the line that lets you use the 538 style below."
   ]
  },
  {
   "cell_type": "markdown",
   "metadata": {},
   "source": [
    "---\n",
    "## A. Old Faithful"
   ]
  },
  {
   "cell_type": "markdown",
   "metadata": {},
   "source": [
    "It is said that the famous Old Faithful hot water geyser in Yellowstone National park erupts every 44 to 125 minutes (according to [Wikipedia](https://en.wikipedia.org/wiki/Old_Faithful)). People are [often told that the geyser erupts every hour](http://yellowstone.net/geysers/old-faithful/), but that's based on today's data.\n",
    "\n",
    "In this section, we'll consider a classic data set giving recorded times between consecutive eruptions. An interesting problem is to attempt to predict the time of the next eruption. This data is 20 or so years old, but Old Faithful's habits don't change much. \n",
    "\n",
    "Each row in the \"geyser.csv\" file represents an observed eruption of the Old Faithful Geyser in Yellowstone National Park. \n",
    "* The eruptions column represents the duration of the eruption in **minutes**, and \n",
    "* the waiting column represents the duration in **minutes** since the prior eruption.  \n",
    "\n",
    "For example the first eruption lasted 3.6 minutes and occurred 79 minutes after the previous eruption.\n",
    "\n",
    "This data was original published [here](https://bl.ocks.org/) but the primary source is here: Härdle, W. (1991) Smoothing Techniques with Implementation in S. New York: Springer."
   ]
  },
  {
   "cell_type": "code",
   "execution_count": null,
   "metadata": {},
   "outputs": [
    {
     "data": {
      "text/html": [
       "<div>\n",
       "<style scoped>\n",
       "    .dataframe tbody tr th:only-of-type {\n",
       "        vertical-align: middle;\n",
       "    }\n",
       "\n",
       "    .dataframe tbody tr th {\n",
       "        vertical-align: top;\n",
       "    }\n",
       "\n",
       "    .dataframe thead th {\n",
       "        text-align: right;\n",
       "    }\n",
       "</style>\n",
       "<table border=\"1\" class=\"dataframe\">\n",
       "  <thead>\n",
       "    <tr style=\"text-align: right;\">\n",
       "      <th></th>\n",
       "      <th>duration</th>\n",
       "      <th>waiting</th>\n",
       "    </tr>\n",
       "  </thead>\n",
       "  <tbody>\n",
       "    <tr>\n",
       "      <th>0</th>\n",
       "      <td>3.600</td>\n",
       "      <td>79</td>\n",
       "    </tr>\n",
       "    <tr>\n",
       "      <th>1</th>\n",
       "      <td>1.800</td>\n",
       "      <td>54</td>\n",
       "    </tr>\n",
       "    <tr>\n",
       "      <th>2</th>\n",
       "      <td>3.333</td>\n",
       "      <td>74</td>\n",
       "    </tr>\n",
       "    <tr>\n",
       "      <th>3</th>\n",
       "      <td>2.283</td>\n",
       "      <td>62</td>\n",
       "    </tr>\n",
       "    <tr>\n",
       "      <th>4</th>\n",
       "      <td>4.533</td>\n",
       "      <td>85</td>\n",
       "    </tr>\n",
       "    <tr>\n",
       "      <th>...</th>\n",
       "      <td>...</td>\n",
       "      <td>...</td>\n",
       "    </tr>\n",
       "    <tr>\n",
       "      <th>267</th>\n",
       "      <td>4.117</td>\n",
       "      <td>81</td>\n",
       "    </tr>\n",
       "    <tr>\n",
       "      <th>268</th>\n",
       "      <td>2.150</td>\n",
       "      <td>46</td>\n",
       "    </tr>\n",
       "    <tr>\n",
       "      <th>269</th>\n",
       "      <td>4.417</td>\n",
       "      <td>90</td>\n",
       "    </tr>\n",
       "    <tr>\n",
       "      <th>270</th>\n",
       "      <td>1.817</td>\n",
       "      <td>46</td>\n",
       "    </tr>\n",
       "    <tr>\n",
       "      <th>271</th>\n",
       "      <td>4.467</td>\n",
       "      <td>74</td>\n",
       "    </tr>\n",
       "  </tbody>\n",
       "</table>\n",
       "<p>272 rows × 2 columns</p>\n",
       "</div>"
      ],
      "text/plain": [
       "     duration  waiting\n",
       "0       3.600       79\n",
       "1       1.800       54\n",
       "2       3.333       74\n",
       "3       2.283       62\n",
       "4       4.533       85\n",
       "..        ...      ...\n",
       "267     4.117       81\n",
       "268     2.150       46\n",
       "269     4.417       90\n",
       "270     1.817       46\n",
       "271     4.467       74\n",
       "\n",
       "[272 rows x 2 columns]"
      ]
     },
     "execution_count": 339,
     "metadata": {},
     "output_type": "execute_result"
    }
   ],
   "source": [
    "geyser = pd.read_csv(\"geyser.csv\")\n",
    "geyser"
   ]
  },
  {
   "cell_type": "markdown",
   "metadata": {},
   "source": [
    "---\n",
    "\n",
    "### **Question 1.** \n",
    "\n",
    "Create a scatter plot to show the relationship between the duration of an eruption and how much time passes till the next eruption.  Place the Duration on the x axis."
   ]
  },
  {
   "cell_type": "code",
   "execution_count": null,
   "metadata": {},
   "outputs": [
    {
     "ename": "TypeError",
     "evalue": "'str' object is not callable",
     "output_type": "error",
     "traceback": [
      "\u001b[1;31m---------------------------------------------------------------------------\u001b[0m",
      "\u001b[1;31mTypeError\u001b[0m                                 Traceback (most recent call last)",
      "\u001b[1;32m~\\AppData\\Local\\Temp/ipykernel_23088/85612325.py\u001b[0m in \u001b[0;36m<module>\u001b[1;34m\u001b[0m\n\u001b[0;32m      1\u001b[0m \u001b[1;31m#Scatter Plot Code here\u001b[0m\u001b[1;33m\u001b[0m\u001b[1;33m\u001b[0m\u001b[0m\n\u001b[0;32m      2\u001b[0m \u001b[0mplt\u001b[0m\u001b[1;33m.\u001b[0m\u001b[0mscatter\u001b[0m\u001b[1;33m(\u001b[0m\u001b[0mgeyser\u001b[0m\u001b[1;33m[\u001b[0m\u001b[1;34m'duration'\u001b[0m\u001b[1;33m]\u001b[0m \u001b[1;33m,\u001b[0m \u001b[0mgeyser\u001b[0m\u001b[1;33m[\u001b[0m\u001b[1;34m'waiting'\u001b[0m\u001b[1;33m]\u001b[0m\u001b[1;33m)\u001b[0m\u001b[1;33m\u001b[0m\u001b[1;33m\u001b[0m\u001b[0m\n\u001b[1;32m----> 3\u001b[1;33m \u001b[0mplt\u001b[0m\u001b[1;33m.\u001b[0m\u001b[0mtitle\u001b[0m\u001b[1;33m(\u001b[0m\u001b[1;34m'Relationship between duration and time'\u001b[0m\u001b[1;33m)\u001b[0m\u001b[1;33m\u001b[0m\u001b[1;33m\u001b[0m\u001b[0m\n\u001b[0m\u001b[0;32m      4\u001b[0m \u001b[0mplt\u001b[0m\u001b[1;33m.\u001b[0m\u001b[0mxlabel\u001b[0m\u001b[1;33m(\u001b[0m\u001b[1;34m'duration'\u001b[0m\u001b[1;33m)\u001b[0m\u001b[1;33m\u001b[0m\u001b[1;33m\u001b[0m\u001b[0m\n\u001b[0;32m      5\u001b[0m \u001b[0mplt\u001b[0m\u001b[1;33m.\u001b[0m\u001b[0mylabel\u001b[0m\u001b[1;33m(\u001b[0m\u001b[1;34m'waiting'\u001b[0m\u001b[1;33m)\u001b[0m\u001b[1;33m\u001b[0m\u001b[1;33m\u001b[0m\u001b[0m\n",
      "\u001b[1;31mTypeError\u001b[0m: 'str' object is not callable"
     ]
    },
    {
     "data": {
      "image/png": "[encoded data removed]",
      "text/plain": [
       "<Figure size 432x288 with 1 Axes>"
      ]
     },
     "metadata": {
      "needs_background": "light"
     },
     "output_type": "display_data"
    }
   ],
   "source": [
    "#Scatter Plot Code here\n",
    "plt.scatter(geyser['duration'] , geyser['waiting'])\n",
    "plt.title('Relationship between duration and time')\n",
    "plt.xlabel('duration')\n",
    "plt.ylabel('waiting')"
   ]
  },
  {
   "cell_type": "markdown",
   "metadata": {},
   "source": [
    "---\n",
    "\n",
    "### **Question 2.** \n",
    "\n",
    "A)  Assign values to `shortest`, `longest`, and `average` so that the `print` statement is correct."
   ]
  },
  {
   "cell_type": "code",
   "execution_count": null,
   "metadata": {},
   "outputs": [],
   "source": [
    "geyser.sort_values('waiting' , ascending = False)"
   ]
  },
  {
   "cell_type": "code",
   "execution_count": null,
   "metadata": {},
   "outputs": [],
   "source": [
    "geyser['waiting'].mean()"
   ]
  },
  {
   "cell_type": "code",
   "execution_count": null,
   "metadata": {},
   "outputs": [],
   "source": [
    "geyser.sort_values('waiting' , ascending = True)"
   ]
  },
  {
   "cell_type": "code",
   "execution_count": null,
   "metadata": {},
   "outputs": [],
   "source": [
    "shortest = 43\n",
    "longest = 96\n",
    "average = 70.897\n",
    "\n",
    "print(\"Old Faithful erupts every\", shortest, \"to\", longest, \"minutes and every\", average, \"minutes on average.\")"
   ]
  },
  {
   "cell_type": "markdown",
   "metadata": {},
   "source": [
    "B) Compare the 20 year old data to today's data. (Remember: Wikipedia tells us currently the geyser erupts every 44 to 125 minutes.)  What appears to be different?"
   ]
  },
  {
   "cell_type": "markdown",
   "metadata": {},
   "source": [
    "<span style=\"color:red\">*The time between eruptions has gotten longer because the longest time increased from 96 minutes to 125 minutes .*</span>"
   ]
  },
  {
   "cell_type": "markdown",
   "metadata": {},
   "source": [
    "---\n",
    "\n",
    "### **Question 3.** \n",
    "\n",
    "A) Find the correlation coefficient between the 2 variables in our dataset."
   ]
  },
  {
   "cell_type": "code",
   "execution_count": null,
   "metadata": {},
   "outputs": [],
   "source": [
    "geyser.corr()"
   ]
  },
  {
   "cell_type": "markdown",
   "metadata": {},
   "source": [
    "B) Write a sentence interpreting what we learn from the correlation coefficient.  (Hint:  What do we now know about the relationship between these variablbles?) "
   ]
  },
  {
   "cell_type": "markdown",
   "metadata": {},
   "source": [
    "<span style=\"color:red\">*The correlation coefficient shows that there is a strong correlation between the waiting time between each eruption and the duration of the eruption.*</span>\n",
    "\n"
   ]
  },
  {
   "cell_type": "markdown",
   "metadata": {},
   "source": [
    "C) Why does the correlation coefficient make sense in the context of this data set?  (In other words, in terms of geyers, *why* would you expect to the correlation coefficient to be +/-, whatever you observed?)"
   ]
  },
  {
   "cell_type": "markdown",
   "metadata": {},
   "source": [
    "<span style=\"color:red\">*The correlation coefficient is expected to be strongly postive because the longer the wait between eruptions the more pressure and water is building which causes the duration of the eruption to last longer.*</span>"
   ]
  },
  {
   "cell_type": "markdown",
   "metadata": {},
   "source": [
    "---\n",
    "\n",
    "Look at that scatter plot again!  There are clearly 2 distinct groupings of points, one in the lower left (the ones where the euprtion time are short) and one in the upper right (the ones where the euprtion times are long).  \n",
    "\n",
    "Let's divide the points into the short eruptions (<= 3 minutes) and the long eruptions (above 3 minutes) and show our scatter plot as such.\n",
    "\n",
    "<img src=\"https://raw.githubusercontent.com/kathleen-ryan-DeSales/CS250/main/pictures/geyser_short_long.png\">"
   ]
  },
  {
   "cell_type": "markdown",
   "metadata": {},
   "source": [
    "---\n",
    "\n",
    "\n",
    "\n",
    "### **Question 4.**  \n",
    "\n",
    "A) Create 2 dataframes: one with all the rows for the short eruptions and one with the long eruptions."
   ]
  },
  {
   "cell_type": "code",
   "execution_count": null,
   "metadata": {},
   "outputs": [],
   "source": [
    "geyser[geyser['duration'] < 3]\n"
   ]
  },
  {
   "cell_type": "code",
   "execution_count": null,
   "metadata": {},
   "outputs": [],
   "source": [
    "\n",
    "short_eruptions = geyser[geyser['duration'] < 3]\n",
    "long_eruptions = geyser[geyser['duration'] > 3]\n",
    "\n",
    "\n",
    "#Sanity Check - First 2 should add to last\n",
    "len(short_eruptions), len(long_eruptions), len(geyser)"
   ]
  },
  {
   "cell_type": "markdown",
   "metadata": {},
   "source": [
    "B) Verify that the average duration of the short eruptions is about 2 min and the average of the long eruptions is about 4.3 min"
   ]
  },
  {
   "cell_type": "code",
   "execution_count": null,
   "metadata": {},
   "outputs": [],
   "source": [
    "short_mean_duration = short_eruptions.mean()\n",
    "long_mean_duration = long_eruptions.mean()\n",
    "\n",
    "short_mean_duration, long_mean_duration"
   ]
  },
  {
   "cell_type": "markdown",
   "metadata": {},
   "source": [
    "C) Create the scatter plot above where the short_eruptions are blue and the long_eruptions show in orange.\n",
    "\n",
    "To make the plot, you'll need this info.\n",
    "\n",
    " * A parameter of ```color = \"orange\"``` can be used with plt.scatter to change the color of the dots.\n",
    " * To place legends on a chart, we include a  ``label`` when calling ``plt.scatter`` (see example code below) and then we add ```plt.legend()``` to the end of the cell.\n",
    "     * ```plt.scatter(table['X_col'], table['Y_col'], label=\"Whatever I want the label to be\")```\n",
    " * To move the legend around the box, add the ``loc`` parameter to the ``plt.legend`` function with one of these values. <br/>For example, ```loc=`upper center` ``` or  ```loc=9``` could be used to position the legend in different locations on the plot.\n",
    " \n",
    " | Location String | Location Code |\n",
    "|:---------------:|:-------------:|\n",
    "|      'best'     |       0       |\n",
    "|  'upper right'  |       1       |\n",
    "|   'upper left'  |       2       |\n",
    "|   'lower left'  |       3       |\n",
    "|  'lower right'  |       4       |\n",
    "|     'right'     |       5       |\n",
    "|  'center left'  |       6       |\n",
    "|  'center right' |       7       |\n",
    "|  'lower center' |       8       |\n",
    "|  'upper center' |       9       |\n",
    "|     'center'    |       10      |"
   ]
  },
  {
   "cell_type": "code",
   "execution_count": null,
   "metadata": {},
   "outputs": [],
   "source": [
    "plt.scatter(short_eruptions['waiting'], short_eruptions['duration'], color = 'blue' , label = 'Short eruptions')\n",
    "plt.scatter(long_eruptions['waiting'], long_eruptions['duration'], color = 'orange' , label = 'Long eruptions')\n",
    "plt.legend(loc=4)\n",
    "plt.xlabel('time between eruptions')\n",
    "plt.ylabel('duration of eruption')\n",
    "plt.title('Duration of eruption vs time spent since last eruption')"
   ]
  },
  {
   "cell_type": "markdown",
   "metadata": {},
   "source": [
    "---\n",
    "\n",
    "### EMPIRICAL GUIDELINES - A REMINDER"
   ]
  },
  {
   "cell_type": "markdown",
   "metadata": {},
   "source": [
    "Below are 2 histograms that allows us to compare how much time passed before a short eruption and how much time passed before a long eruption.\n",
    "\n",
    "![C-3PO](https://raw.githubusercontent.com/kathleen-ryan-DeSales/CS250/main/pictures/DurationHist.png)"
   ]
  },
  {
   "cell_type": "markdown",
   "metadata": {},
   "source": [
    "\n",
    "Notice that for both distributions, the waiting times are relatively ``normal``, ie, bell-shaped and symmetric.\n",
    "\n",
    "Also, recall that you learned about standard deviation (SD) in class and how we can use SD to estimate typical/atypical values.\n",
    "\n",
    "Specifically, we discussed these guidelines (called the **Empirical Guidelines**) regarding approximately normal distributions.\n",
    "\n",
    "* Roughly 95\\% of data points fall within 2SDs of the mean, ie, within the interval below. We usually consider this interval to be the range ``typical values`` for the data set, and the 5% of remaining values are consider unusual/extreme.\n",
    "\n",
    "$$(mean - 2*SD, mean + 2*SD)$$, \n",
    "\n",
    "* Whereas the above interval are the typical values, almost ALL points (including both typical/atypical values) fall in this interval.\n",
    "\n",
    "$$(mean - 3*SD, mean + 3*SD)$$, \n",
    "\n",
    "We will use these facts in the next section.\n",
    "\n",
    "---\n",
    "\n",
    "### **Question 5.**  \n",
    "\n",
    "A)  Find the mean and standard deviation for the wait times of the short duration geyser eruptions using the ``describe`` function."
   ]
  },
  {
   "cell_type": "code",
   "execution_count": null,
   "metadata": {},
   "outputs": [],
   "source": [
    "#Put the code for the describe function here and store the returned table in short_eruptions_stats.\n",
    "short_eruption_stats = short_eruptions.describe()\n",
    "short_eruption_stats"
   ]
  },
  {
   "cell_type": "markdown",
   "metadata": {},
   "source": [
    "<br/><br/>\n",
    "\n",
    "B) Now find the lower and upper bounds of typical waiting times for a short geyser eruption, ie, the interval corresponding to 2SDs from the mean."
   ]
  },
  {
   "cell_type": "code",
   "execution_count": null,
   "metadata": {},
   "outputs": [],
   "source": [
    "*𝑚𝑒𝑎𝑛−2∗𝑆𝐷,𝑚𝑒𝑎𝑛+2∗𝑆𝐷)"
   ]
  },
  {
   "cell_type": "code",
   "execution_count": 348,
   "metadata": {},
   "outputs": [
    {
     "data": {
      "text/plain": [
       "(2.9168348270397573, 105.66690099896826)"
      ]
     },
     "execution_count": 348,
     "metadata": {},
     "output_type": "execute_result"
    }
   ],
   "source": [
    "\n",
    "lower = short_eruption_stats['waiting'].mean()-2 * short_eruption_stats['waiting'].std() \n",
    "\n",
    "upper = short_eruption_stats['waiting'].mean()+2 * short_eruption_stats['waiting'].std() \n",
    "\n",
    "lower , upper"
   ]
  },
  {
   "cell_type": "markdown",
   "metadata": {},
   "source": [
    "**INTEPRETATION/RIGHT ANSWER:**  \n",
    "\n",
    "Assuming our data is a nice representative data set for geyser eruptions, then your answer to this question can be interpreted as such:  \n",
    "\n",
    "Typically a person will wait 42.81 min to 66.18 minutes for an eruption, provided it is a short eruption."
   ]
  },
  {
   "cell_type": "markdown",
   "metadata": {},
   "source": [
    "<br/>\n",
    "\n",
    "<br/>\n",
    "\n",
    "C) Per the empirical guidelines, we'd expect about 5\\% of our short eruptions to require an atpyical wait time.  What percentage of our ``short_eruptions`` data are considered **ATYPICAL**, based on the interval above?\n",
    "\n",
    "Use the variables ``lower`` and ``upper`` to do this of course!"
   ]
  },
  {
   "cell_type": "code",
   "execution_count": null,
   "metadata": {},
   "outputs": [],
   "source": [
    "ggg = short_eruption_stats[short_eruption_stats['waiting'] < 2.9].count()\n",
    "ggw = short_eruption_stats[short_eruption_stats['waiting'] > 105].count()\n",
    "ggg + ggw"
   ]
  },
  {
   "cell_type": "markdown",
   "metadata": {},
   "source": [
    "Click here for the **answer**.\n",
    "\n",
    "<!--The answer is 2.06185567%, if you do this correctly.  -->"
   ]
  },
  {
   "cell_type": "markdown",
   "metadata": {},
   "source": [
    "<br/>\n",
    "\n",
    "<br/>\n",
    "\n",
    "### **Question 6.**  \n",
    "\n",
    "Now find how long someone will typicall be waiting for a long geyser eruption. So repeat the process above but for long geyser eruptions."
   ]
  },
  {
   "cell_type": "code",
   "execution_count": null,
   "metadata": {},
   "outputs": [],
   "source": [
    "#More code as needed here.\n",
    "long_eruption_stats = long_eruptions.describe()\n",
    "\n",
    "#Be sure to set the values below to the lower/upper values in the typical range by setting the values below.\n",
    "lower_long = long_eruption_stats['waiting'].mean()-2 * long_eruption_stats['waiting'].std() \n",
    "upper_long = long_eruption_stats['waiting'].mean()+2 * long_eruption_stats['waiting'].std() \n",
    "\n",
    "print(f\"For longer eruptions, someone will typically be waiting from {lower_long}-{upper_long} min.\")"
   ]
  },
  {
   "cell_type": "markdown",
   "metadata": {},
   "source": [
    "---\n",
    "\n",
    "<br/>\n",
    "<br/>\n",
    "<br/>\n",
    "\n",
    "### **Question 7.** \n",
    "\n",
    "Let's see how varied this data is from eruption to eruption.  We'll look at the increases and decreases between waiting times.\n",
    "\n",
    "Assign `biggest_decrease` and `biggest_increase`  to the biggest decrease/increase in waiting time between two consecutive eruptions. For example, the third eruption occurred after 74 minutes and the fourth occured after 62 minutes, so the decrease in waiting time was 74 - 62 = 12 minutes. \n",
    "\n",
    "*Hint*: You'll need to use ``np.diff`` to do this which is [mentioned in the textbook](https://www.inferentialthinking.com/chapters/05/1/arrays.html#Functions-on-Arrays).\n",
    "\n",
    "*Hint 2*: Neither answer should be given as a negative."
   ]
  },
  {
   "cell_type": "code",
   "execution_count": null,
   "metadata": {},
   "outputs": [],
   "source": []
  },
  {
   "cell_type": "code",
   "execution_count": null,
   "metadata": {},
   "outputs": [],
   "source": [
    "biggest_decrease = abs(np.diff(geyser['waiting']))\n",
    "biggest_decrease"
   ]
  },
  {
   "cell_type": "code",
   "execution_count": null,
   "metadata": {},
   "outputs": [],
   "source": [
    "biggest_decrease = abs(np.diff(geyser['waiting']).min())\n",
    "biggest_increase = abs(np.diff(geyser['waiting']).max())\n",
    "biggest_decrease, biggest_increase"
   ]
  },
  {
   "cell_type": "markdown",
   "metadata": {},
   "source": [
    "---\n",
    "<br/>\n",
    "<br/>\n",
    "<br/>\n",
    "\n",
    "### **Question 8.** \n",
    "\n",
    "If you expected Old Faithful to erupt every hour, you would expect to wait a total of `60 * k` minutes to see `k` eruptions. Set `difference_from_expected` to an array with 272 elements, where the element at index `i` is the absolute difference between the expected and actual total amount of waiting time to see the first `i+1` eruptions.  *Hint*: You'll need to compare a cumulative sum to a range.\n",
    "\n",
    "For example, since the first three waiting times are 79, 54, and 74, the total waiting time for 3 eruptions is 79 + 54 + 74 = 207. The expected waiting time for 3 eruptions is 60 * 3 = 180. Therefore, the value of `difference_from_expected` in the row with index 2 should be $|207 - 180| = 27$.\n",
    "\n",
    "* To get started, create a column called ```\"expected\"``` that is set to the expected time. as discussed above.  (Note:  Depending on how you do this, you may find it helpful to access the index of each row which can be done via ```geyser.index```.  This will help you with ```k```.  But there are many other ways to do it too.)\n",
    "\n",
    "* Then create a column called ```\"cumul waiting time\"``` using the cumulative sum function that was mentioned in class a few times and is [mentioned in the textbook at the bottom of this page](https://inferentialthinking.com/chapters/05/1/Arrays.html).  Look for the right  one!\n",
    "\n",
    "* Finally, create a column called ```difference from expected``` that calculates the difference. \n",
    "\n",
    "*HINT: The expected difference in the final row should be 2964 if you do this correctly.*\n",
    "\n",
    "|     | duration | waiting | expected | cumul waiting time | difference from expected |\n",
    "|----:|---------:|--------:|---------:|-------------------:|-------------------------:|\n",
    "|   0 |    3.600 |      79 |       60 |                 79 | 19                       |\n",
    "|   1 |    1.800 |      54 |      120 |                133 | 13                       |\n",
    "|   2 |    3.333 |      74 |      180 |                207 | 27                       |\n",
    "|   3 |    2.283 |      62 |      240 |                269 | 29                       |\n",
    "|   4 |    4.533 |      85 |      300 |                354 | 54                       |\n",
    "| ... |      ... |     ... |      ... |                ... | ...                      |\n",
    "| 267 |    4.117 |      81 |    16080 |              19028 | 2948                     |\n",
    "| 268 |    2.150 |      46 |    16140 |              19074 | 2934                     |\n",
    "| 269 |    4.417 |      90 |    16200 |              19164 | 2964                     |\n",
    "| 270 |    1.817 |      46 |    16260 |              19210 | 2950                     |\n",
    "| 271 |    4.467 |      74 |    16320 |              19284 | 2964                     |\n",
    "\n",
    "A) Follow the directions to build the table above."
   ]
  },
  {
   "cell_type": "code",
   "execution_count": 349,
   "metadata": {},
   "outputs": [
    {
     "data": {
      "text/html": [
       "<div>\n",
       "<style scoped>\n",
       "    .dataframe tbody tr th:only-of-type {\n",
       "        vertical-align: middle;\n",
       "    }\n",
       "\n",
       "    .dataframe tbody tr th {\n",
       "        vertical-align: top;\n",
       "    }\n",
       "\n",
       "    .dataframe thead th {\n",
       "        text-align: right;\n",
       "    }\n",
       "</style>\n",
       "<table border=\"1\" class=\"dataframe\">\n",
       "  <thead>\n",
       "    <tr style=\"text-align: right;\">\n",
       "      <th></th>\n",
       "      <th>duration</th>\n",
       "      <th>waiting</th>\n",
       "      <th>expected</th>\n",
       "      <th>cumul waiting time</th>\n",
       "      <th>difference_from_expected</th>\n",
       "    </tr>\n",
       "  </thead>\n",
       "  <tbody>\n",
       "    <tr>\n",
       "      <th>0</th>\n",
       "      <td>3.600</td>\n",
       "      <td>79</td>\n",
       "      <td>60</td>\n",
       "      <td>79</td>\n",
       "      <td>19</td>\n",
       "    </tr>\n",
       "    <tr>\n",
       "      <th>1</th>\n",
       "      <td>1.800</td>\n",
       "      <td>54</td>\n",
       "      <td>120</td>\n",
       "      <td>133</td>\n",
       "      <td>13</td>\n",
       "    </tr>\n",
       "    <tr>\n",
       "      <th>2</th>\n",
       "      <td>3.333</td>\n",
       "      <td>74</td>\n",
       "      <td>180</td>\n",
       "      <td>207</td>\n",
       "      <td>27</td>\n",
       "    </tr>\n",
       "    <tr>\n",
       "      <th>3</th>\n",
       "      <td>2.283</td>\n",
       "      <td>62</td>\n",
       "      <td>240</td>\n",
       "      <td>269</td>\n",
       "      <td>29</td>\n",
       "    </tr>\n",
       "    <tr>\n",
       "      <th>4</th>\n",
       "      <td>4.533</td>\n",
       "      <td>85</td>\n",
       "      <td>300</td>\n",
       "      <td>354</td>\n",
       "      <td>54</td>\n",
       "    </tr>\n",
       "    <tr>\n",
       "      <th>...</th>\n",
       "      <td>...</td>\n",
       "      <td>...</td>\n",
       "      <td>...</td>\n",
       "      <td>...</td>\n",
       "      <td>...</td>\n",
       "    </tr>\n",
       "    <tr>\n",
       "      <th>267</th>\n",
       "      <td>4.117</td>\n",
       "      <td>81</td>\n",
       "      <td>16080</td>\n",
       "      <td>19028</td>\n",
       "      <td>2948</td>\n",
       "    </tr>\n",
       "    <tr>\n",
       "      <th>268</th>\n",
       "      <td>2.150</td>\n",
       "      <td>46</td>\n",
       "      <td>16140</td>\n",
       "      <td>19074</td>\n",
       "      <td>2934</td>\n",
       "    </tr>\n",
       "    <tr>\n",
       "      <th>269</th>\n",
       "      <td>4.417</td>\n",
       "      <td>90</td>\n",
       "      <td>16200</td>\n",
       "      <td>19164</td>\n",
       "      <td>2964</td>\n",
       "    </tr>\n",
       "    <tr>\n",
       "      <th>270</th>\n",
       "      <td>1.817</td>\n",
       "      <td>46</td>\n",
       "      <td>16260</td>\n",
       "      <td>19210</td>\n",
       "      <td>2950</td>\n",
       "    </tr>\n",
       "    <tr>\n",
       "      <th>271</th>\n",
       "      <td>4.467</td>\n",
       "      <td>74</td>\n",
       "      <td>16320</td>\n",
       "      <td>19284</td>\n",
       "      <td>2964</td>\n",
       "    </tr>\n",
       "  </tbody>\n",
       "</table>\n",
       "<p>272 rows × 5 columns</p>\n",
       "</div>"
      ],
      "text/plain": [
       "     duration  waiting  expected  cumul waiting time  difference_from_expected\n",
       "0       3.600       79        60                  79                        19\n",
       "1       1.800       54       120                 133                        13\n",
       "2       3.333       74       180                 207                        27\n",
       "3       2.283       62       240                 269                        29\n",
       "4       4.533       85       300                 354                        54\n",
       "..        ...      ...       ...                 ...                       ...\n",
       "267     4.117       81     16080               19028                      2948\n",
       "268     2.150       46     16140               19074                      2934\n",
       "269     4.417       90     16200               19164                      2964\n",
       "270     1.817       46     16260               19210                      2950\n",
       "271     4.467       74     16320               19284                      2964\n",
       "\n",
       "[272 rows x 5 columns]"
      ]
     },
     "execution_count": 349,
     "metadata": {},
     "output_type": "execute_result"
    }
   ],
   "source": [
    "geyser['expected'] = geyser.index * 60 + 60 \n",
    "\n",
    "geyser['cumul waiting time'] = np.cumsum(geyser['waiting'])\n",
    "geyser['difference_from_expected'] = abs(geyser['expected'] - geyser['cumul waiting time'])\n",
    "geyser"
   ]
  },
  {
   "cell_type": "code",
   "execution_count": null,
   "metadata": {},
   "outputs": [],
   "source": []
  },
  {
   "cell_type": "code",
   "execution_count": null,
   "metadata": {},
   "outputs": [],
   "source": [
    "\n"
   ]
  },
  {
   "cell_type": "markdown",
   "metadata": {},
   "source": [
    "B)  By the final eruption, How \"off\" would we be in minutes if you estimated that it erupts about once an hour?"
   ]
  },
  {
   "cell_type": "markdown",
   "metadata": {},
   "source": [
    "<span style=\"color:red\">*You would be off by 2964 minutes if you estimated it erupts about once per hour.*</span>"
   ]
  },
  {
   "cell_type": "markdown",
   "metadata": {},
   "source": [
    "---\n",
    "\n",
    "### **Question 9.** \n",
    "\n",
    "If instead you guess that each waiting time will be the same as the previous waiting time, how many minutes would your guess differ from the actual time, averaging over every wait time except the first one?\n",
    "\n",
    "For example, since the first three waiting times are 79, 54, and 74, the average difference between your guess and the actual time for just the second and third eruption would be $\\frac{|79-54|+ |54-74|}{2} = 22.5$.\n",
    "\n",
    "* *Hint: Your final answer should round to 20.5203 if you do this right.*\n",
    "\n",
    "* *Hint: There is a function that takes the difference between consecutive rows, and we have mentioned it in class a few times.  In case you forgot, it is [mentioned in the textbook at the bottom of this page](https://inferentialthinking.com/chapters/05/1/Arrays.html).  Look for it!*"
   ]
  },
  {
   "cell_type": "code",
   "execution_count": null,
   "metadata": {},
   "outputs": [],
   "source": [
    "#Take the differences between the consecutive rows in the waiting column,\n",
    "#   find their absolute values, and then average them.\n",
    "\n",
    "#Make sure this var is set to your final answer:\n",
    "average_error = abs(np.diff(geyser['waiting'])).mean()\n",
    "\n",
    "average_error"
   ]
  },
  {
   "cell_type": "markdown",
   "metadata": {},
   "source": [
    "---\n",
    "\n",
    "### **Question 10.** \n",
    "\n",
    "Let's not forget about line graphs!  \n",
    "\n",
    "Download the last year's worth of apple and mircrosoft data at the website below.  The names of your files should be \"AAPL.csv\" and \"MSFT.csv\".  \n",
    "\n",
    "* https://finance.yahoo.com/\n",
    "* Here's a  video if you need help on how to do this: https://desales.hosted.panopto.com/Panopto/Pages/Viewer.aspx?id=cfcd461b-973c-4b2c-91ce-adbb0120ea12\n",
    "\n",
    "\n",
    "A) Load in the csv's.  Use ``parse_dates`` for the \"Date\" Column to signify that the \"Date\" column contains dates.\n"
   ]
  },
  {
   "cell_type": "code",
   "execution_count": 170,
   "metadata": {},
   "outputs": [],
   "source": [
    "apple = pd.read_csv('AAPL.csv' , parse_dates =['Date'])  \n",
    "apple"
   ]
  },
  {
   "cell_type": "code",
   "execution_count": 217,
   "metadata": {},
   "outputs": [],
   "source": [
    "micro = pd.read_csv('MSFT.csv', parse_dates =['Date'])\n",
    "micro"
   ]
  },
  {
   "cell_type": "markdown",
   "metadata": {},
   "source": [
    "B) Plot the apple and mcirosfot closing stock prices stock on the same line graph.\n",
    "\n",
    "Be sure to:\n",
    "    \n",
    "* Label your axes and give a title\n",
    "* Make the figure size wide\n",
    "* include a legend"
   ]
  },
  {
   "cell_type": "code",
   "execution_count": 188,
   "metadata": {},
   "outputs": [],
   "source": []
  },
  {
   "cell_type": "code",
   "execution_count": null,
   "metadata": {},
   "outputs": [],
   "source": []
  },
  {
   "cell_type": "code",
   "execution_count": 350,
   "metadata": {},
   "outputs": [
    {
     "ename": "TypeError",
     "evalue": "'str' object is not callable",
     "output_type": "error",
     "traceback": [
      "\u001b[1;31m---------------------------------------------------------------------------\u001b[0m",
      "\u001b[1;31mTypeError\u001b[0m                                 Traceback (most recent call last)",
      "\u001b[1;32m~\\AppData\\Local\\Temp/ipykernel_23088/932345973.py\u001b[0m in \u001b[0;36m<module>\u001b[1;34m\u001b[0m\n\u001b[0;32m      3\u001b[0m \u001b[0mplt\u001b[0m\u001b[1;33m.\u001b[0m\u001b[0mscatter\u001b[0m\u001b[1;33m(\u001b[0m\u001b[0mmicro\u001b[0m\u001b[1;33m[\u001b[0m\u001b[1;34m'Date'\u001b[0m\u001b[1;33m]\u001b[0m \u001b[1;33m,\u001b[0m \u001b[0mmicro\u001b[0m\u001b[1;33m[\u001b[0m\u001b[1;34m'Close'\u001b[0m\u001b[1;33m]\u001b[0m\u001b[1;33m,\u001b[0m \u001b[0mcolor\u001b[0m \u001b[1;33m=\u001b[0m \u001b[1;34m'yellow'\u001b[0m \u001b[1;33m,\u001b[0m \u001b[0mlabel\u001b[0m \u001b[1;33m=\u001b[0m \u001b[1;34m'Microsoft'\u001b[0m\u001b[1;33m)\u001b[0m\u001b[1;33m\u001b[0m\u001b[1;33m\u001b[0m\u001b[0m\n\u001b[0;32m      4\u001b[0m \u001b[0mplt\u001b[0m\u001b[1;33m.\u001b[0m\u001b[0mlegend\u001b[0m\u001b[1;33m(\u001b[0m\u001b[0mloc\u001b[0m \u001b[1;33m=\u001b[0m \u001b[1;36m4\u001b[0m\u001b[1;33m)\u001b[0m\u001b[1;33m\u001b[0m\u001b[1;33m\u001b[0m\u001b[0m\n\u001b[1;32m----> 5\u001b[1;33m \u001b[0mplt\u001b[0m\u001b[1;33m.\u001b[0m\u001b[0mxlabel\u001b[0m\u001b[1;33m(\u001b[0m\u001b[1;34m'Date'\u001b[0m\u001b[1;33m)\u001b[0m\u001b[1;33m\u001b[0m\u001b[1;33m\u001b[0m\u001b[0m\n\u001b[0m\u001b[0;32m      6\u001b[0m \u001b[0mplt\u001b[0m\u001b[1;33m.\u001b[0m\u001b[0mylabel\u001b[0m\u001b[1;33m(\u001b[0m\u001b[1;34m'Closing Price'\u001b[0m\u001b[1;33m)\u001b[0m\u001b[1;33m\u001b[0m\u001b[1;33m\u001b[0m\u001b[0m\n\u001b[0;32m      7\u001b[0m \u001b[0mplt\u001b[0m\u001b[1;33m.\u001b[0m\u001b[0mtitle\u001b[0m\u001b[1;33m(\u001b[0m\u001b[1;34m'Closing Prices of Apple and Microsoft'\u001b[0m\u001b[1;33m)\u001b[0m\u001b[1;33m\u001b[0m\u001b[1;33m\u001b[0m\u001b[0m\n",
      "\u001b[1;31mTypeError\u001b[0m: 'str' object is not callable"
     ]
    },
    {
     "data": {
      "image/png": "[encoded data removed]",
      "text/plain": [
       "<Figure size 1440x720 with 1 Axes>"
      ]
     },
     "metadata": {
      "needs_background": "light"
     },
     "output_type": "display_data"
    }
   ],
   "source": [
    "plt.figure(figsize = (20,10))\n",
    "plt.scatter(apple['Date'] , apple['Close'], color = 'blue' , label = 'Apple')\n",
    "plt.scatter(micro['Date'] , micro['Close'], color = 'yellow' , label = 'Microsoft')\n",
    "plt.legend(loc = 4)\n",
    "plt.xlabel('Date')\n",
    "plt.ylabel('Closing Price')\n",
    "plt.title('Closing Prices of Apple and Microsoft')\n",
    "plt.figure(figsize = (10,20))"
   ]
  },
  {
   "cell_type": "code",
   "execution_count": null,
   "metadata": {},
   "outputs": [],
   "source": []
  },
  {
   "cell_type": "markdown",
   "metadata": {},
   "source": [
    "C) Which company seems to be doing better?  Why?"
   ]
  },
  {
   "cell_type": "markdown",
   "metadata": {},
   "source": [
    "<span style=\"color:red\">*Microsoft seems to be doing better because they have a higher price of stock and greater growth the apple over the year.*</span>"
   ]
  },
  {
   "cell_type": "markdown",
   "metadata": {},
   "source": [
    "---\n",
    "\n",
    "### **Question 11.** \n",
    "\n",
    "Find the rolling averages of both company's closing stock values over the last year.  Create a line graph of these rolling averges.  Do not include the actual closing price of the stocks on your graph, but just the rolling average of the closing stock values.\n",
    "\n",
    "As before, be sure to:\n",
    "    \n",
    "* Label your axes and give a title\n",
    "* Make the figure size wide\n",
    "* include a legend"
   ]
  },
  {
   "cell_type": "code",
   "execution_count": 310,
   "metadata": {},
   "outputs": [],
   "source": [
    "apple['rolling'] = (apple['Close']).rolling(2).mean()\n",
    "micro['rolling'] = micro['Close'].rolling(2).mean()"
   ]
  },
  {
   "cell_type": "code",
   "execution_count": 342,
   "metadata": {},
   "outputs": [
    {
     "ename": "TypeError",
     "evalue": "'str' object is not callable",
     "output_type": "error",
     "traceback": [
      "\u001b[1;31m---------------------------------------------------------------------------\u001b[0m",
      "\u001b[1;31mTypeError\u001b[0m                                 Traceback (most recent call last)",
      "\u001b[1;32m~\\AppData\\Local\\Temp/ipykernel_23088/2377275561.py\u001b[0m in \u001b[0;36m<module>\u001b[1;34m\u001b[0m\n\u001b[0;32m      2\u001b[0m \u001b[0mplt\u001b[0m\u001b[1;33m.\u001b[0m\u001b[0mscatter\u001b[0m\u001b[1;33m(\u001b[0m\u001b[0mapple\u001b[0m\u001b[1;33m[\u001b[0m\u001b[1;34m'Date'\u001b[0m\u001b[1;33m]\u001b[0m \u001b[1;33m,\u001b[0m \u001b[0mapple\u001b[0m\u001b[1;33m[\u001b[0m\u001b[1;34m'rolling'\u001b[0m\u001b[1;33m]\u001b[0m\u001b[1;33m,\u001b[0m \u001b[0mlabel\u001b[0m \u001b[1;33m=\u001b[0m \u001b[1;34m'Apple'\u001b[0m\u001b[1;33m)\u001b[0m\u001b[1;33m\u001b[0m\u001b[1;33m\u001b[0m\u001b[0m\n\u001b[0;32m      3\u001b[0m \u001b[0mplt\u001b[0m\u001b[1;33m.\u001b[0m\u001b[0mscatter\u001b[0m\u001b[1;33m(\u001b[0m\u001b[0mmicro\u001b[0m\u001b[1;33m[\u001b[0m\u001b[1;34m'Date'\u001b[0m\u001b[1;33m]\u001b[0m \u001b[1;33m,\u001b[0m \u001b[0mmicro\u001b[0m\u001b[1;33m[\u001b[0m\u001b[1;34m'rolling'\u001b[0m\u001b[1;33m]\u001b[0m\u001b[1;33m,\u001b[0m \u001b[0mlabel\u001b[0m \u001b[1;33m=\u001b[0m \u001b[1;34m'Microsoft'\u001b[0m\u001b[1;33m)\u001b[0m\u001b[1;33m\u001b[0m\u001b[1;33m\u001b[0m\u001b[0m\n\u001b[1;32m----> 4\u001b[1;33m \u001b[0mplt\u001b[0m\u001b[1;33m.\u001b[0m\u001b[0mxlabel\u001b[0m\u001b[1;33m(\u001b[0m\u001b[1;34m'Date'\u001b[0m\u001b[1;33m)\u001b[0m\u001b[1;33m\u001b[0m\u001b[1;33m\u001b[0m\u001b[0m\n\u001b[0m\u001b[0;32m      5\u001b[0m \u001b[0mplt\u001b[0m\u001b[1;33m.\u001b[0m\u001b[0mylabel\u001b[0m\u001b[1;33m(\u001b[0m\u001b[1;34m'Rolling Avaerage'\u001b[0m\u001b[1;33m)\u001b[0m\u001b[1;33m\u001b[0m\u001b[1;33m\u001b[0m\u001b[0m\n\u001b[0;32m      6\u001b[0m \u001b[0mplt\u001b[0m\u001b[1;33m.\u001b[0m\u001b[0mtitle\u001b[0m\u001b[1;33m(\u001b[0m\u001b[1;34m'Apple and Microsoft Rolling Averages in the Part Year'\u001b[0m\u001b[1;33m)\u001b[0m\u001b[1;33m\u001b[0m\u001b[1;33m\u001b[0m\u001b[0m\n",
      "\u001b[1;31mTypeError\u001b[0m: 'str' object is not callable"
     ]
    },
    {
     "data": {
      "image/png": "[encoded data removed]",
      "text/plain": [
       "<Figure size 1440x720 with 1 Axes>"
      ]
     },
     "metadata": {
      "needs_background": "light"
     },
     "output_type": "display_data"
    }
   ],
   "source": [
    "plt.figure(figsize = (20,10))\n",
    "plt.scatter(apple['Date'] , apple['rolling'], label = 'Apple')\n",
    "plt.scatter(micro['Date'] , micro['rolling'], label = 'Microsoft')\n",
    "plt.xlabel('Date')\n",
    "plt.ylabel('Rolling Avaerage')\n",
    "plt.title('Apple and Microsoft Rolling Averages in the Part Year')\n",
    "plt.legend(loc = 4)\n"
   ]
  },
  {
   "cell_type": "markdown",
   "metadata": {},
   "source": [
    "---\n",
    "\n",
    "### Note: Crazy back and forth line graphs are not helpful."
   ]
  },
  {
   "cell_type": "markdown",
   "metadata": {},
   "source": [
    "Sometimes, students give me crazy lie graphs on their projects, so let's prevent that problem with this example.\n",
    "\n",
    "NOTE: \n",
    "\n",
    "* If you have 2 data points with the same x value, then a line graph would not be appropriate, unless you were drawing a different line through each.  \n",
    "\n",
    "Run the code below to see what I mean.  Notice the line plot is busy and the lines don't provide any trend information."
   ]
  },
  {
   "cell_type": "code",
   "execution_count": 222,
   "metadata": {},
   "outputs": [],
   "source": [
    "#Run to see an example\n",
    "\n",
    "#Making up data\n",
    "table = pd.DataFrame()\n",
    "table[\"X\"] = np.array([3, 8, 5, 7, 3, 9, 9, 2, 6, 6]) \n",
    "table[\"Y\"] = np.array([4, 7, 4, 7, 9, 4, 3, 3, 2, 1])\n",
    "table\n",
    "\n",
    "#Getting ready to plot two plots side by side\n",
    "fig, (ax1, ax2) = plt.subplots(1, 2, figsize=(10,5))\n",
    "fig.suptitle('Comparing Line vs Scatter')\n",
    "\n",
    "#Plotting left plot\n",
    "ax1.plot(table[\"X\"], table[\"Y\"], marker = 'o')\n",
    "ax1.set_title(\"How ugly and confusing - X values repeat\")\n",
    "\n",
    "#Plotting right plot\n",
    "ax2.scatter(table[\"X\"], table[\"Y\"])\n",
    "ax2.set_title(\"This scatterplot on the same dataset is okay though.\")"
   ]
  },
  {
   "cell_type": "markdown",
   "metadata": {},
   "source": [
    "Hopefully you agree that the left plot is just busy and not something we can learn from.\n",
    "\n",
    "\n",
    "## ASK GOOD QUESTIONS\n",
    "\n",
    "We can use scatterplots and line graphs to ask good questions:\n",
    "\n",
    "* Scatterplots are one good way to start assesing questions like **\"Is there a relationship between X and Y?\"**  \n",
    "\n",
    "* Related to the previous bullet point, correlation coefficients specifically help us determine: **\"Is there a correlation (so a linear relationship) between X and Y?\"**\n",
    "\n",
    "* On the other hand, **a line graph shows the nature of a relationship, not whether there is a relationship or not between two sets of data**. For example, they can be used to instantly see the ‘journey’ made by a variable over time or by a variable as the other is changing.\n",
    "\n",
    "Let's apply these ideas to the Employee data.\n",
    "\n",
    "## A blast from the past: EMPLOYEE DATA\n",
    "\n",
    "Recall the dataset you looked at in which the company that generated the dataset was trying to understand employee satisfcation and retention.  \n",
    "\n",
    "Import it by running the cell below.  Here 's an xplanation of variables/headers:\n",
    "\n",
    "* **employee_id**                  \n",
    "* **satisfaction_level**:                       A score rating how satisfied the employee was with the company (scale 0-1)        \n",
    "* **last_evaluation_score**:               A score from 0-1 rating the person's performance\n",
    "* **number_of_projects**:                 Number of projects the person was assigned to        \n",
    "* **average_monthly_hours**:          The average hours the person worked per month        \n",
    "* **years_spent_at_company**:        \n",
    "* **work_accident**:                           \n",
    "    * 0: No accident   \n",
    "    * 1: The person was in an accident\n",
    "* **left_company**                              \n",
    "    * 0: Did not leave company    \n",
    "    * 1: Did leave company        \n",
    "* **promotion_in_last_5years**       \n",
    "    * 0: Not promoted over last 5 years   \n",
    "    * 1: Was promoted\n",
    "* **department**       \n",
    "* **salary:**                                          high medium or low based on the groups in salary_range\n",
    "* **salary_range:**                              \n",
    "    * less than 45,000\n",
    "    * 45000-74999 \n",
    "    * 75000 or more"
   ]
  },
  {
   "cell_type": "code",
   "execution_count": 223,
   "metadata": {},
   "outputs": [],
   "source": [
    "emp_data = pd.read_csv(\"employee_satisfaction.csv\")\n",
    "emp_data"
   ]
  },
  {
   "cell_type": "markdown",
   "metadata": {},
   "source": [
    "---\n",
    "\n",
    "### **Question 12.** \n",
    "\n",
    "\n",
    "What are the different departments in this data set?  \n",
    "\n",
    "Answer this question by using a function you learned - you should get a list of each department where each department is included exactly once."
   ]
  },
  {
   "cell_type": "code",
   "execution_count": 225,
   "metadata": {},
   "outputs": [],
   "source": [
    "emp_data['department'].unique()"
   ]
  },
  {
   "cell_type": "markdown",
   "metadata": {},
   "source": [
    "---\n",
    "\n",
    "### **Question 13.** \n",
    "\n",
    "\n",
    "Pick a department that interests you.  Use a scatterplot/correlation coefficient or a line graph to help you answer one of the questions below for your department.  \n",
    "\n",
    "**BE SURE TO EXPLAIN WHAT YOU'VE FOUND.**\n",
    "\n",
    "**TAKE NOTE:**\n",
    "\n",
    "* Feel free to create another ipynb to do your exploration for this question and the future questions if you are really interested in the dataset and you want to explore it in depth, but please note that is not necessary for this HW question.\n",
    "\n",
    "* You can just show one graph/explanation to get full credit, but please don't show more than 3 here.\n",
    "\n",
    "* Having said that, if you do screw around and find lots of cool things, please let me know by aubmitting your second ipynb and emailing me to let me know you've submitted 2.  (Again, this is not necessary but I know some of you like doing this.)\n",
    "\n",
    "**QUESTIONS TO CHOSE FROM - NOTE:  NOT ALL OF THESE ARE GOOD OPTIONS FOR SCATTER PLOTS/LINE PLOTS.  I AM TESTING TO SEE IF YOU CAN DECIDE THAT ON YOUR OWN.**"
   ]
  },
  {
   "cell_type": "markdown",
   "metadata": {},
   "source": [
    " \n",
    "a) Is there a relationship between years spent at the company and the number of projects a person works on?\n",
    "\n",
    "b) Is there a relationship between years spent at the company and satisfaction level?"
   ]
  },
  {
   "cell_type": "markdown",
   "metadata": {},
   "source": [
    "c) Does a higher salary level indicate a higher employee satisfaction average?\n",
    "\n",
    "d) Do the number of weekly hours and departmenet of the employee have a relationship?\n",
    "\n",
    "e) Does the satisfication level of the employee correlate with their evaluation score?\n",
    "\n",
    "f) Is there a relation betweent the amount of years spent at the company and their evaluated preformance rating? \n",
    "\n",
    "g) Is a relationship between the number project an employee does and the number of monthly hours worked\n",
    "\n",
    "h) Is there a relationship between the number of years spent at the company and the employees who were promoted?\n",
    "\n",
    "i) When compared to those with lower salaries, do highly payed employees work more hours?\n",
    "\n",
    "j) Do the number of projects correlation with the evaluation score of the employee?\n",
    "\n",
    "k) Is there an even mix of employees from each department?"
   ]
  },
  {
   "cell_type": "code",
   "execution_count": 255,
   "metadata": {},
   "outputs": [],
   "source": [
    "sales = emp_data[(emp_data['department'] == 'sales')]\n",
    "sales.corr()"
   ]
  },
  {
   "cell_type": "code",
   "execution_count": null,
   "metadata": {},
   "outputs": [],
   "source": [
    "\n"
   ]
  },
  {
   "cell_type": "code",
   "execution_count": 240,
   "metadata": {},
   "outputs": [],
   "source": [
    "'j'\n",
    "corr = 0.349332"
   ]
  },
  {
   "cell_type": "markdown",
   "metadata": {},
   "source": [
    "<span style=\"color:red\">*Solving question J has shown there is a weak correlation between number of projects and employee worked and their last evaluation score.*</span>"
   ]
  },
  {
   "cell_type": "markdown",
   "metadata": {},
   "source": [
    "---\n",
    "\n",
    "### **Question 14.** \n",
    "\n",
    "\n",
    "Pick a second department that interests you.  Use a scatterplot/correlation coefficient or a line graph to answer the same question for that department.\n",
    "\n",
    "**BE SURE TO EXPLAIN WHAT YOU'VE FOUND.**"
   ]
  },
  {
   "cell_type": "code",
   "execution_count": 256,
   "metadata": {},
   "outputs": [],
   "source": [
    "man = emp_data[(emp_data['department'] == 'management')]\n",
    "man.corr()"
   ]
  },
  {
   "cell_type": "markdown",
   "metadata": {},
   "source": [
    "<span style=\"color:red\">*The correlation coefficient shows that there is a very weak correlation between number of project and evaluation score.*</span>"
   ]
  },
  {
   "cell_type": "markdown",
   "metadata": {},
   "source": [
    "---\n",
    "\n",
    "### **Question 15.** \n",
    "\n",
    "\n",
    "A) Here's one relationship I found.  Check out the graphs below.  Explain what we learn from these graphs.\n",
    "\n",
    "![image](https://raw.githubusercontent.com/kathleen-ryan-DeSales/CS250/main/pictures/Hw4_EmpSatisfaction.PNG)"
   ]
  },
  {
   "cell_type": "markdown",
   "metadata": {},
   "source": [
    "<span style=\"color:red\">*From these graph it can be seen that employees with a low satifaction level that have not worked many hours tend to leave and employees with a higher satifaction level then 5 with over 125 hours wroked tend to stay.*</span>"
   ]
  },
  {
   "cell_type": "markdown",
   "metadata": {},
   "source": [
    "B) Write code to generate the above graphs from the `emp_data` table.  You can do this by making side-by-side graphs if you want to experiment, or feel free to create each graph in its own code cell."
   ]
  },
  {
   "cell_type": "code",
   "execution_count": 257,
   "metadata": {},
   "outputs": [],
   "source": [
    "emp_data"
   ]
  },
  {
   "cell_type": "code",
   "execution_count": 267,
   "metadata": {},
   "outputs": [],
   "source": [
    "left = emp_data[emp_data['left_company'] == 1]\n",
    "stayed = emp_data[emp_data['left_company'] == 0]"
   ]
  },
  {
   "cell_type": "code",
   "execution_count": 269,
   "metadata": {},
   "outputs": [],
   "source": [
    "plt.scatter(stayed['average_monthly_hours'],stayed['satisfaction_level'])\n",
    "plt.xlabel('Avaerage Monthly Hours')\n",
    "plt.ylabel('Satifaction Level')\n",
    "plt.title('Employees who Stayed')"
   ]
  },
  {
   "cell_type": "code",
   "execution_count": 270,
   "metadata": {},
   "outputs": [],
   "source": [
    "plt.scatter(left['average_monthly_hours'],left['satisfaction_level'])\n",
    "plt.xlabel('Avaerage Monthly Hours')\n",
    "plt.ylabel('Satifaction Level')\n",
    "plt.title('Employees who Left')"
   ]
  },
  {
   "cell_type": "markdown",
   "metadata": {},
   "source": [
    "C) Find the correlation coefficient of the satisfaction levels versus the average monthly hours worked for EACH of the 2 groups above and verify they are both close to 0.  Based on the plots above, does this suggest there is no relationship between the variables?  Explain. "
   ]
  },
  {
   "cell_type": "code",
   "execution_count": 294,
   "metadata": {},
   "outputs": [],
   "source": []
  },
  {
   "cell_type": "code",
   "execution_count": 346,
   "metadata": {},
   "outputs": [],
   "source": [
    "stayed_2 = stayed.corr()\n",
    "left_2 = left.corr()"
   ]
  },
  {
   "cell_type": "code",
   "execution_count": 347,
   "metadata": {},
   "outputs": [
    {
     "data": {
      "text/plain": [
       "(0.055353902255517506, -0.08413496143093593)"
      ]
     },
     "execution_count": 347,
     "metadata": {},
     "output_type": "execute_result"
    }
   ],
   "source": [
    "#You may need more code above here\n",
    "\n",
    "#But set these variables at the end\n",
    "emp_data_stayed_corr = stayed_2['average_monthly_hours']['satisfaction_level']\n",
    "emp_data_left_corr = left_2['average_monthly_hours']['satisfaction_level']\n",
    "emp_data_stayed_corr, emp_data_left_corr  #Should print out the correlations! "
   ]
  },
  {
   "cell_type": "markdown",
   "metadata": {},
   "source": [
    "<span style=\"color:red\">*There is very weak to no correlation between average monthly hours and satifaction level when determining whether a employee stayed or left .*</span>"
   ]
  },
  {
   "cell_type": "markdown",
   "metadata": {},
   "source": [
    "---\n",
    "\n",
    "You're done!  Submit!"
   ]
  }
 ],
 "metadata": {
  "kernelspec": {
   "display_name": "Python 3 (ipykernel)",
   "language": "python",
   "name": "python3"
  },
  "language_info": {
   "codemirror_mode": {
    "name": "ipython",
    "version": 3
   },
   "file_extension": ".py",
   "mimetype": "text/x-python",
   "name": "python",
   "nbconvert_exporter": "python",
   "pygments_lexer": "ipython3",
   "version": "3.9.7"
  },
  "toc-autonumbering": false
 },
 "nbformat": 4,
 "nbformat_minor": 4
}
