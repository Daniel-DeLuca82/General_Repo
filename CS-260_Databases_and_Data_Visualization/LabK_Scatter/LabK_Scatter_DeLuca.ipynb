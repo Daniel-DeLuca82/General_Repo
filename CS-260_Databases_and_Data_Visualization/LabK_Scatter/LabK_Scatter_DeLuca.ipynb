{
 "cells": [
  {
   "cell_type": "markdown",
   "metadata": {},
   "source": [
    "### *“Nothing in life that’s worth anything is easy.”* -Barack Obama"
   ]
  },
  {
   "cell_type": "markdown",
   "metadata": {},
   "source": [
    "----\n",
    "\n",
    "YOUR NAME HERE: Daniel DeLuca\n",
    "\n",
    "----"
   ]
  },
  {
   "cell_type": "markdown",
   "metadata": {},
   "source": [
    "# Lab K: Scatter Plots!\n",
    "\n",
    "### Use the cheat sheet posted in Blackboard to help guide you if you forget syntax!!!\n",
    "\n",
    "---"
   ]
  },
  {
   "cell_type": "code",
   "execution_count": 2,
   "metadata": {
    "tags": [
     "remove_input"
    ]
   },
   "outputs": [],
   "source": [
    "#What 2 packages do you need to import here?\n",
    "import numpy as np\n",
    "import pandas as pd\n",
    "...\n",
    "import matplotlib.pyplot as plt  #A new package for plotting!\n",
    "plt.style.use('fivethirtyeight') #A helpful style package"
   ]
  },
  {
   "cell_type": "markdown",
   "metadata": {},
   "source": [
    "### Setting up our data ###"
   ]
  },
  {
   "cell_type": "markdown",
   "metadata": {},
   "source": [
    "You saw this data on the last lab, though briefly.\n",
    "\n",
    "To remind you - The table `actors` contains data on Hollywood actors, both male and female. The columns are:\n",
    "\n",
    "| ** Column **        | Contents |\n",
    "|---------------------|----------|\n",
    "|`Actor`              | Name of actor |\n",
    "|`Total Gross`        | Total gross domestic box office receipt, in millions of dollars, of all of the actor's movies |\n",
    "| `Number of Movies`  | The number of movies the actor has been in |\n",
    "| `Average per Movie` | Total gross divided by number of movies |\n",
    "| `#1 Movie`          | The highest grossing movie the actor has been in |\n",
    "| `Gross`             | Gross domestic box office receipt, in millions of dollars, of the actor's `#1 Movie` |\n",
    "\n",
    "In the calculation of the gross receipt, the data tabulators did not include movies where an actor had a cameo role or a speaking role that did not involve much screen time.\n",
    "\n",
    "The table has 50 rows, corresponding to the 50 top grossing actors. The table is already sorted by `Total Gross`, so it is easy to see that Harrison Ford is the highest grossing actor. In total, his movies have brought in more money at domestic box office than the movies of any other actor."
   ]
  },
  {
   "cell_type": "code",
   "execution_count": 3,
   "metadata": {
    "collapsed": false,
    "jupyter": {
     "outputs_hidden": false
    }
   },
   "outputs": [
    {
     "data": {
      "text/html": [
       "<div>\n",
       "<style scoped>\n",
       "    .dataframe tbody tr th:only-of-type {\n",
       "        vertical-align: middle;\n",
       "    }\n",
       "\n",
       "    .dataframe tbody tr th {\n",
       "        vertical-align: top;\n",
       "    }\n",
       "\n",
       "    .dataframe thead th {\n",
       "        text-align: right;\n",
       "    }\n",
       "</style>\n",
       "<table border=\"1\" class=\"dataframe\">\n",
       "  <thead>\n",
       "    <tr style=\"text-align: right;\">\n",
       "      <th></th>\n",
       "      <th>Actor</th>\n",
       "      <th>Total Gross</th>\n",
       "      <th>Number of Movies</th>\n",
       "      <th>Average per Movie</th>\n",
       "      <th>#1 Movie</th>\n",
       "      <th>Gross</th>\n",
       "    </tr>\n",
       "  </thead>\n",
       "  <tbody>\n",
       "    <tr>\n",
       "      <th>0</th>\n",
       "      <td>Harrison Ford</td>\n",
       "      <td>4871.7</td>\n",
       "      <td>41</td>\n",
       "      <td>118.8</td>\n",
       "      <td>Star Wars: The Force Awakens</td>\n",
       "      <td>936.7</td>\n",
       "    </tr>\n",
       "    <tr>\n",
       "      <th>1</th>\n",
       "      <td>Samuel L. Jackson</td>\n",
       "      <td>4772.8</td>\n",
       "      <td>69</td>\n",
       "      <td>69.2</td>\n",
       "      <td>The Avengers</td>\n",
       "      <td>623.4</td>\n",
       "    </tr>\n",
       "    <tr>\n",
       "      <th>2</th>\n",
       "      <td>Morgan Freeman</td>\n",
       "      <td>4468.3</td>\n",
       "      <td>61</td>\n",
       "      <td>73.3</td>\n",
       "      <td>The Dark Knight</td>\n",
       "      <td>534.9</td>\n",
       "    </tr>\n",
       "    <tr>\n",
       "      <th>3</th>\n",
       "      <td>Tom Hanks</td>\n",
       "      <td>4340.8</td>\n",
       "      <td>44</td>\n",
       "      <td>98.7</td>\n",
       "      <td>Toy Story 3</td>\n",
       "      <td>415.0</td>\n",
       "    </tr>\n",
       "    <tr>\n",
       "      <th>4</th>\n",
       "      <td>Robert Downey, Jr.</td>\n",
       "      <td>3947.3</td>\n",
       "      <td>53</td>\n",
       "      <td>74.5</td>\n",
       "      <td>The Avengers</td>\n",
       "      <td>623.4</td>\n",
       "    </tr>\n",
       "    <tr>\n",
       "      <th>5</th>\n",
       "      <td>Eddie Murphy</td>\n",
       "      <td>3810.4</td>\n",
       "      <td>38</td>\n",
       "      <td>100.3</td>\n",
       "      <td>Shrek 2</td>\n",
       "      <td>441.2</td>\n",
       "    </tr>\n",
       "    <tr>\n",
       "      <th>6</th>\n",
       "      <td>Tom Cruise</td>\n",
       "      <td>3587.2</td>\n",
       "      <td>36</td>\n",
       "      <td>99.6</td>\n",
       "      <td>War of the Worlds</td>\n",
       "      <td>234.3</td>\n",
       "    </tr>\n",
       "    <tr>\n",
       "      <th>7</th>\n",
       "      <td>Johnny Depp</td>\n",
       "      <td>3368.6</td>\n",
       "      <td>45</td>\n",
       "      <td>74.9</td>\n",
       "      <td>Dead Man's Chest</td>\n",
       "      <td>423.3</td>\n",
       "    </tr>\n",
       "    <tr>\n",
       "      <th>8</th>\n",
       "      <td>Michael Caine</td>\n",
       "      <td>3351.5</td>\n",
       "      <td>58</td>\n",
       "      <td>57.8</td>\n",
       "      <td>The Dark Knight</td>\n",
       "      <td>534.9</td>\n",
       "    </tr>\n",
       "    <tr>\n",
       "      <th>9</th>\n",
       "      <td>Scarlett Johansson</td>\n",
       "      <td>3341.2</td>\n",
       "      <td>37</td>\n",
       "      <td>90.3</td>\n",
       "      <td>The Avengers</td>\n",
       "      <td>623.4</td>\n",
       "    </tr>\n",
       "    <tr>\n",
       "      <th>10</th>\n",
       "      <td>Gary Oldman</td>\n",
       "      <td>3294.0</td>\n",
       "      <td>38</td>\n",
       "      <td>86.7</td>\n",
       "      <td>The Dark Knight</td>\n",
       "      <td>534.9</td>\n",
       "    </tr>\n",
       "    <tr>\n",
       "      <th>11</th>\n",
       "      <td>Robin Williams</td>\n",
       "      <td>3279.3</td>\n",
       "      <td>49</td>\n",
       "      <td>66.9</td>\n",
       "      <td>Night at the Museum</td>\n",
       "      <td>250.9</td>\n",
       "    </tr>\n",
       "    <tr>\n",
       "      <th>12</th>\n",
       "      <td>Bruce Willis</td>\n",
       "      <td>3189.4</td>\n",
       "      <td>60</td>\n",
       "      <td>53.2</td>\n",
       "      <td>Sixth Sense</td>\n",
       "      <td>293.5</td>\n",
       "    </tr>\n",
       "    <tr>\n",
       "      <th>13</th>\n",
       "      <td>Stellan Skarsgard</td>\n",
       "      <td>3175.0</td>\n",
       "      <td>43</td>\n",
       "      <td>73.8</td>\n",
       "      <td>The Avengers</td>\n",
       "      <td>623.4</td>\n",
       "    </tr>\n",
       "    <tr>\n",
       "      <th>14</th>\n",
       "      <td>Anthony Daniels</td>\n",
       "      <td>3162.9</td>\n",
       "      <td>7</td>\n",
       "      <td>451.8</td>\n",
       "      <td>Star Wars: The Force Awakens</td>\n",
       "      <td>936.7</td>\n",
       "    </tr>\n",
       "    <tr>\n",
       "      <th>15</th>\n",
       "      <td>Ian McKellen</td>\n",
       "      <td>3150.4</td>\n",
       "      <td>31</td>\n",
       "      <td>101.6</td>\n",
       "      <td>Return of the King</td>\n",
       "      <td>377.8</td>\n",
       "    </tr>\n",
       "    <tr>\n",
       "      <th>16</th>\n",
       "      <td>Will Smith</td>\n",
       "      <td>3149.1</td>\n",
       "      <td>24</td>\n",
       "      <td>131.2</td>\n",
       "      <td>Independence Day</td>\n",
       "      <td>306.2</td>\n",
       "    </tr>\n",
       "    <tr>\n",
       "      <th>17</th>\n",
       "      <td>Stanley Tucci</td>\n",
       "      <td>3123.9</td>\n",
       "      <td>50</td>\n",
       "      <td>62.5</td>\n",
       "      <td>Catching Fire</td>\n",
       "      <td>424.7</td>\n",
       "    </tr>\n",
       "    <tr>\n",
       "      <th>18</th>\n",
       "      <td>Matt Damon</td>\n",
       "      <td>3107.3</td>\n",
       "      <td>39</td>\n",
       "      <td>79.7</td>\n",
       "      <td>The Martian</td>\n",
       "      <td>228.4</td>\n",
       "    </tr>\n",
       "    <tr>\n",
       "      <th>19</th>\n",
       "      <td>Robert DeNiro</td>\n",
       "      <td>3081.3</td>\n",
       "      <td>79</td>\n",
       "      <td>39.0</td>\n",
       "      <td>Meet the Fockers</td>\n",
       "      <td>279.3</td>\n",
       "    </tr>\n",
       "    <tr>\n",
       "      <th>20</th>\n",
       "      <td>Cameron Diaz</td>\n",
       "      <td>3031.7</td>\n",
       "      <td>34</td>\n",
       "      <td>89.2</td>\n",
       "      <td>Shrek 2</td>\n",
       "      <td>441.2</td>\n",
       "    </tr>\n",
       "    <tr>\n",
       "      <th>21</th>\n",
       "      <td>Liam Neeson</td>\n",
       "      <td>2942.7</td>\n",
       "      <td>63</td>\n",
       "      <td>46.7</td>\n",
       "      <td>The Phantom Menace</td>\n",
       "      <td>474.5</td>\n",
       "    </tr>\n",
       "    <tr>\n",
       "      <th>22</th>\n",
       "      <td>Andy Serkis</td>\n",
       "      <td>2890.6</td>\n",
       "      <td>23</td>\n",
       "      <td>125.7</td>\n",
       "      <td>Star Wars: The Force Awakens</td>\n",
       "      <td>936.7</td>\n",
       "    </tr>\n",
       "    <tr>\n",
       "      <th>23</th>\n",
       "      <td>Don Cheadle</td>\n",
       "      <td>2885.4</td>\n",
       "      <td>34</td>\n",
       "      <td>84.9</td>\n",
       "      <td>Avengers: Age of Ultron</td>\n",
       "      <td>459.0</td>\n",
       "    </tr>\n",
       "    <tr>\n",
       "      <th>24</th>\n",
       "      <td>Ben Stiller</td>\n",
       "      <td>2827.0</td>\n",
       "      <td>37</td>\n",
       "      <td>76.4</td>\n",
       "      <td>Meet the Fockers</td>\n",
       "      <td>279.3</td>\n",
       "    </tr>\n",
       "    <tr>\n",
       "      <th>25</th>\n",
       "      <td>Helena Bonham Carter</td>\n",
       "      <td>2822.0</td>\n",
       "      <td>36</td>\n",
       "      <td>78.4</td>\n",
       "      <td>Harry Potter / Deathly Hallows (P2)</td>\n",
       "      <td>381.0</td>\n",
       "    </tr>\n",
       "    <tr>\n",
       "      <th>26</th>\n",
       "      <td>Orlando Bloom</td>\n",
       "      <td>2815.8</td>\n",
       "      <td>17</td>\n",
       "      <td>165.6</td>\n",
       "      <td>Dead Man's Chest</td>\n",
       "      <td>423.3</td>\n",
       "    </tr>\n",
       "    <tr>\n",
       "      <th>27</th>\n",
       "      <td>Woody Harrelson</td>\n",
       "      <td>2815.8</td>\n",
       "      <td>50</td>\n",
       "      <td>56.3</td>\n",
       "      <td>Catching Fire</td>\n",
       "      <td>424.7</td>\n",
       "    </tr>\n",
       "    <tr>\n",
       "      <th>28</th>\n",
       "      <td>Cate Blanchett</td>\n",
       "      <td>2802.6</td>\n",
       "      <td>39</td>\n",
       "      <td>71.9</td>\n",
       "      <td>Return of the King</td>\n",
       "      <td>377.8</td>\n",
       "    </tr>\n",
       "    <tr>\n",
       "      <th>29</th>\n",
       "      <td>Julia Roberts</td>\n",
       "      <td>2735.3</td>\n",
       "      <td>42</td>\n",
       "      <td>65.1</td>\n",
       "      <td>Ocean's Eleven</td>\n",
       "      <td>183.4</td>\n",
       "    </tr>\n",
       "    <tr>\n",
       "      <th>30</th>\n",
       "      <td>Elizabeth Banks</td>\n",
       "      <td>2726.3</td>\n",
       "      <td>35</td>\n",
       "      <td>77.9</td>\n",
       "      <td>Catching Fire</td>\n",
       "      <td>424.7</td>\n",
       "    </tr>\n",
       "    <tr>\n",
       "      <th>31</th>\n",
       "      <td>Ralph Fiennes</td>\n",
       "      <td>2715.3</td>\n",
       "      <td>36</td>\n",
       "      <td>75.4</td>\n",
       "      <td>Harry Potter / Deathly Hallows (P2)</td>\n",
       "      <td>381.0</td>\n",
       "    </tr>\n",
       "    <tr>\n",
       "      <th>32</th>\n",
       "      <td>Emma Watson</td>\n",
       "      <td>2681.9</td>\n",
       "      <td>17</td>\n",
       "      <td>157.8</td>\n",
       "      <td>Harry Potter / Deathly Hallows (P2)</td>\n",
       "      <td>381.0</td>\n",
       "    </tr>\n",
       "    <tr>\n",
       "      <th>33</th>\n",
       "      <td>Tommy Lee Jones</td>\n",
       "      <td>2681.3</td>\n",
       "      <td>46</td>\n",
       "      <td>58.3</td>\n",
       "      <td>Men in Black</td>\n",
       "      <td>250.7</td>\n",
       "    </tr>\n",
       "    <tr>\n",
       "      <th>34</th>\n",
       "      <td>Brad Pitt</td>\n",
       "      <td>2680.9</td>\n",
       "      <td>40</td>\n",
       "      <td>67.0</td>\n",
       "      <td>World War Z</td>\n",
       "      <td>202.4</td>\n",
       "    </tr>\n",
       "    <tr>\n",
       "      <th>35</th>\n",
       "      <td>Adam Sandler</td>\n",
       "      <td>2661.0</td>\n",
       "      <td>32</td>\n",
       "      <td>83.2</td>\n",
       "      <td>Hotel Transylvania 2</td>\n",
       "      <td>169.7</td>\n",
       "    </tr>\n",
       "    <tr>\n",
       "      <th>36</th>\n",
       "      <td>Daniel Radcliffe</td>\n",
       "      <td>2634.4</td>\n",
       "      <td>17</td>\n",
       "      <td>155.0</td>\n",
       "      <td>Harry Potter / Deathly Hallows (P2)</td>\n",
       "      <td>381.0</td>\n",
       "    </tr>\n",
       "    <tr>\n",
       "      <th>37</th>\n",
       "      <td>Jonah Hill</td>\n",
       "      <td>2605.1</td>\n",
       "      <td>29</td>\n",
       "      <td>89.8</td>\n",
       "      <td>The LEGO Movie</td>\n",
       "      <td>257.8</td>\n",
       "    </tr>\n",
       "    <tr>\n",
       "      <th>38</th>\n",
       "      <td>Owen Wilson</td>\n",
       "      <td>2602.3</td>\n",
       "      <td>39</td>\n",
       "      <td>66.7</td>\n",
       "      <td>Night at the Museum</td>\n",
       "      <td>250.9</td>\n",
       "    </tr>\n",
       "    <tr>\n",
       "      <th>39</th>\n",
       "      <td>Idris Elba</td>\n",
       "      <td>2580.6</td>\n",
       "      <td>26</td>\n",
       "      <td>99.3</td>\n",
       "      <td>Avengers: Age of Ultron</td>\n",
       "      <td>459.0</td>\n",
       "    </tr>\n",
       "    <tr>\n",
       "      <th>40</th>\n",
       "      <td>Bradley Cooper</td>\n",
       "      <td>2557.7</td>\n",
       "      <td>25</td>\n",
       "      <td>102.3</td>\n",
       "      <td>American Sniper</td>\n",
       "      <td>350.1</td>\n",
       "    </tr>\n",
       "    <tr>\n",
       "      <th>41</th>\n",
       "      <td>Mark Wahlberg</td>\n",
       "      <td>2549.8</td>\n",
       "      <td>36</td>\n",
       "      <td>70.8</td>\n",
       "      <td>Transformers 4</td>\n",
       "      <td>245.4</td>\n",
       "    </tr>\n",
       "    <tr>\n",
       "      <th>42</th>\n",
       "      <td>Jim Carrey</td>\n",
       "      <td>2545.2</td>\n",
       "      <td>27</td>\n",
       "      <td>94.3</td>\n",
       "      <td>The Grinch</td>\n",
       "      <td>260.0</td>\n",
       "    </tr>\n",
       "    <tr>\n",
       "      <th>43</th>\n",
       "      <td>Dustin Hoffman</td>\n",
       "      <td>2522.1</td>\n",
       "      <td>43</td>\n",
       "      <td>58.7</td>\n",
       "      <td>Meet the Fockers</td>\n",
       "      <td>279.3</td>\n",
       "    </tr>\n",
       "    <tr>\n",
       "      <th>44</th>\n",
       "      <td>Leonardo DiCaprio</td>\n",
       "      <td>2518.3</td>\n",
       "      <td>25</td>\n",
       "      <td>100.7</td>\n",
       "      <td>Titanic</td>\n",
       "      <td>658.7</td>\n",
       "    </tr>\n",
       "    <tr>\n",
       "      <th>45</th>\n",
       "      <td>Jeremy Renner</td>\n",
       "      <td>2500.3</td>\n",
       "      <td>21</td>\n",
       "      <td>119.1</td>\n",
       "      <td>The Avengers</td>\n",
       "      <td>623.4</td>\n",
       "    </tr>\n",
       "    <tr>\n",
       "      <th>46</th>\n",
       "      <td>Philip Seymour Hoffman</td>\n",
       "      <td>2463.7</td>\n",
       "      <td>40</td>\n",
       "      <td>61.6</td>\n",
       "      <td>Catching Fire</td>\n",
       "      <td>424.7</td>\n",
       "    </tr>\n",
       "    <tr>\n",
       "      <th>47</th>\n",
       "      <td>Sandra Bullock</td>\n",
       "      <td>2462.6</td>\n",
       "      <td>35</td>\n",
       "      <td>70.4</td>\n",
       "      <td>Minions</td>\n",
       "      <td>336.0</td>\n",
       "    </tr>\n",
       "    <tr>\n",
       "      <th>48</th>\n",
       "      <td>Chris Evans</td>\n",
       "      <td>2457.8</td>\n",
       "      <td>23</td>\n",
       "      <td>106.9</td>\n",
       "      <td>The Avengers</td>\n",
       "      <td>623.4</td>\n",
       "    </tr>\n",
       "    <tr>\n",
       "      <th>49</th>\n",
       "      <td>Anne Hathaway</td>\n",
       "      <td>2416.5</td>\n",
       "      <td>25</td>\n",
       "      <td>96.7</td>\n",
       "      <td>The Dark Knight Rises</td>\n",
       "      <td>448.1</td>\n",
       "    </tr>\n",
       "  </tbody>\n",
       "</table>\n",
       "</div>"
      ],
      "text/plain": [
       "                     Actor  Total Gross  Number of Movies  Average per Movie  \\\n",
       "0            Harrison Ford       4871.7                41              118.8   \n",
       "1        Samuel L. Jackson       4772.8                69               69.2   \n",
       "2           Morgan Freeman       4468.3                61               73.3   \n",
       "3                Tom Hanks       4340.8                44               98.7   \n",
       "4       Robert Downey, Jr.       3947.3                53               74.5   \n",
       "5             Eddie Murphy       3810.4                38              100.3   \n",
       "6               Tom Cruise       3587.2                36               99.6   \n",
       "7              Johnny Depp       3368.6                45               74.9   \n",
       "8            Michael Caine       3351.5                58               57.8   \n",
       "9       Scarlett Johansson       3341.2                37               90.3   \n",
       "10             Gary Oldman       3294.0                38               86.7   \n",
       "11          Robin Williams       3279.3                49               66.9   \n",
       "12            Bruce Willis       3189.4                60               53.2   \n",
       "13       Stellan Skarsgard       3175.0                43               73.8   \n",
       "14         Anthony Daniels       3162.9                 7              451.8   \n",
       "15            Ian McKellen       3150.4                31              101.6   \n",
       "16              Will Smith       3149.1                24              131.2   \n",
       "17           Stanley Tucci       3123.9                50               62.5   \n",
       "18              Matt Damon       3107.3                39               79.7   \n",
       "19           Robert DeNiro       3081.3                79               39.0   \n",
       "20            Cameron Diaz       3031.7                34               89.2   \n",
       "21             Liam Neeson       2942.7                63               46.7   \n",
       "22             Andy Serkis       2890.6                23              125.7   \n",
       "23             Don Cheadle       2885.4                34               84.9   \n",
       "24             Ben Stiller       2827.0                37               76.4   \n",
       "25    Helena Bonham Carter       2822.0                36               78.4   \n",
       "26           Orlando Bloom       2815.8                17              165.6   \n",
       "27         Woody Harrelson       2815.8                50               56.3   \n",
       "28          Cate Blanchett       2802.6                39               71.9   \n",
       "29           Julia Roberts       2735.3                42               65.1   \n",
       "30         Elizabeth Banks       2726.3                35               77.9   \n",
       "31           Ralph Fiennes       2715.3                36               75.4   \n",
       "32             Emma Watson       2681.9                17              157.8   \n",
       "33         Tommy Lee Jones       2681.3                46               58.3   \n",
       "34               Brad Pitt       2680.9                40               67.0   \n",
       "35            Adam Sandler       2661.0                32               83.2   \n",
       "36        Daniel Radcliffe       2634.4                17              155.0   \n",
       "37              Jonah Hill       2605.1                29               89.8   \n",
       "38             Owen Wilson       2602.3                39               66.7   \n",
       "39              Idris Elba       2580.6                26               99.3   \n",
       "40          Bradley Cooper       2557.7                25              102.3   \n",
       "41           Mark Wahlberg       2549.8                36               70.8   \n",
       "42              Jim Carrey       2545.2                27               94.3   \n",
       "43          Dustin Hoffman       2522.1                43               58.7   \n",
       "44       Leonardo DiCaprio       2518.3                25              100.7   \n",
       "45           Jeremy Renner       2500.3                21              119.1   \n",
       "46  Philip Seymour Hoffman       2463.7                40               61.6   \n",
       "47          Sandra Bullock       2462.6                35               70.4   \n",
       "48             Chris Evans       2457.8                23              106.9   \n",
       "49           Anne Hathaway       2416.5                25               96.7   \n",
       "\n",
       "                               #1 Movie  Gross  \n",
       "0          Star Wars: The Force Awakens  936.7  \n",
       "1                          The Avengers  623.4  \n",
       "2                       The Dark Knight  534.9  \n",
       "3                           Toy Story 3  415.0  \n",
       "4                          The Avengers  623.4  \n",
       "5                               Shrek 2  441.2  \n",
       "6                     War of the Worlds  234.3  \n",
       "7                      Dead Man's Chest  423.3  \n",
       "8                       The Dark Knight  534.9  \n",
       "9                          The Avengers  623.4  \n",
       "10                      The Dark Knight  534.9  \n",
       "11                  Night at the Museum  250.9  \n",
       "12                          Sixth Sense  293.5  \n",
       "13                         The Avengers  623.4  \n",
       "14         Star Wars: The Force Awakens  936.7  \n",
       "15                   Return of the King  377.8  \n",
       "16                     Independence Day  306.2  \n",
       "17                        Catching Fire  424.7  \n",
       "18                          The Martian  228.4  \n",
       "19                     Meet the Fockers  279.3  \n",
       "20                              Shrek 2  441.2  \n",
       "21                   The Phantom Menace  474.5  \n",
       "22         Star Wars: The Force Awakens  936.7  \n",
       "23              Avengers: Age of Ultron  459.0  \n",
       "24                     Meet the Fockers  279.3  \n",
       "25  Harry Potter / Deathly Hallows (P2)  381.0  \n",
       "26                     Dead Man's Chest  423.3  \n",
       "27                        Catching Fire  424.7  \n",
       "28                   Return of the King  377.8  \n",
       "29                       Ocean's Eleven  183.4  \n",
       "30                        Catching Fire  424.7  \n",
       "31  Harry Potter / Deathly Hallows (P2)  381.0  \n",
       "32  Harry Potter / Deathly Hallows (P2)  381.0  \n",
       "33                         Men in Black  250.7  \n",
       "34                          World War Z  202.4  \n",
       "35                 Hotel Transylvania 2  169.7  \n",
       "36  Harry Potter / Deathly Hallows (P2)  381.0  \n",
       "37                       The LEGO Movie  257.8  \n",
       "38                  Night at the Museum  250.9  \n",
       "39              Avengers: Age of Ultron  459.0  \n",
       "40                      American Sniper  350.1  \n",
       "41                       Transformers 4  245.4  \n",
       "42                           The Grinch  260.0  \n",
       "43                     Meet the Fockers  279.3  \n",
       "44                              Titanic  658.7  \n",
       "45                         The Avengers  623.4  \n",
       "46                        Catching Fire  424.7  \n",
       "47                              Minions  336.0  \n",
       "48                         The Avengers  623.4  \n",
       "49                The Dark Knight Rises  448.1  "
      ]
     },
     "execution_count": 3,
     "metadata": {},
     "output_type": "execute_result"
    }
   ],
   "source": [
    "actors = pd.read_csv(\"actors.csv\") #read in the 'actors.csv' here\n",
    "actors"
   ]
  },
  {
   "cell_type": "markdown",
   "metadata": {},
   "source": [
    "### Scatter Plots ###\n",
    "A *scatter plot* displays the relation between two numerical variables. You saw an example of a scatter plot in an early section where we looked at the number of periods and number of characters in two classic novels.\n",
    "\n",
    "Recall that we have imported the matplotlib plotting library as ```plt```.  We rely on ```plt``` to make the visualizations.  The method ```scatter``` from the ```plt``` package draws a scatter plot consisting of one point for each row of the table. Its first argument is column to be plotted on the horizontal axis, and its second argument is the column on the vertical. "
   ]
  },
  {
   "cell_type": "code",
   "execution_count": 4,
   "metadata": {
    "collapsed": false,
    "jupyter": {
     "outputs_hidden": false
    }
   },
   "outputs": [
    {
     "data": {
      "text/plain": [
       "Text(0, 0.5, 'Total Gross')"
      ]
     },
     "execution_count": 4,
     "metadata": {},
     "output_type": "execute_result"
    },
    {
     "data": {
      "image/png": "[encoded data removed]",
      "text/plain": [
       "<Figure size 432x288 with 1 Axes>"
      ]
     },
     "metadata": {},
     "output_type": "display_data"
    }
   ],
   "source": [
    "#Example of making a scatter plot\n",
    "plt.scatter(actors['Number of Movies'], actors['Total Gross'])\n",
    "plt.title(\"Actors' Number of Movies vs.\\nTotal Gross of these Movies\")\n",
    "plt.xlabel('Number of Movies')\n",
    "plt.ylabel('Total Gross')"
   ]
  },
  {
   "cell_type": "markdown",
   "metadata": {},
   "source": [
    "The plot contains 50 points, one point for each actor in the table. You can see that it slopes upwards, in general. The more movies an actor has been in, the more the total gross of all of those movies – in general.\n",
    "\n",
    "Formally, we say that the plot shows an *association* between the variables, and that the association is *positive*: high values of one variable tend to be associated with high values of the other, and low values of one with low values of the other, in general. \n",
    "\n",
    "Of course there is some variability. Some actors have high numbers of movies but middling total gross receipts. Others have middling numbers of movies but high receipts. **That the association is positive is simply a statement about the broad general trend.**\n",
    "\n",
    "### The Correlation Coefficient (r) ###\n",
    "\n",
    "One way to quantify association is to use (Pearson's) correlation coefficient.  To calculate the coefficient by hand, you'd have to plug all the (x,y) points from the scatter plot above into a formula.  This forumula always generates a number between -1 and +1.\n",
    "\n",
    "We'll never calculate the correlation coefficient by hand, but instead we'll just have Python calculate it for us, as shown in the below cell.  Notice that we again pass in the 2 columns we're interested in comparing."
   ]
  },
  {
   "cell_type": "code",
   "execution_count": 5,
   "metadata": {},
   "outputs": [
    {
     "data": {
      "text/html": [
       "<div>\n",
       "<style scoped>\n",
       "    .dataframe tbody tr th:only-of-type {\n",
       "        vertical-align: middle;\n",
       "    }\n",
       "\n",
       "    .dataframe tbody tr th {\n",
       "        vertical-align: top;\n",
       "    }\n",
       "\n",
       "    .dataframe thead th {\n",
       "        text-align: right;\n",
       "    }\n",
       "</style>\n",
       "<table border=\"1\" class=\"dataframe\">\n",
       "  <thead>\n",
       "    <tr style=\"text-align: right;\">\n",
       "      <th></th>\n",
       "      <th>Total Gross</th>\n",
       "      <th>Number of Movies</th>\n",
       "      <th>Average per Movie</th>\n",
       "      <th>Gross</th>\n",
       "    </tr>\n",
       "  </thead>\n",
       "  <tbody>\n",
       "    <tr>\n",
       "      <th>Total Gross</th>\n",
       "      <td>1.000000</td>\n",
       "      <td>0.474609</td>\n",
       "      <td>0.014250</td>\n",
       "      <td>0.385570</td>\n",
       "    </tr>\n",
       "    <tr>\n",
       "      <th>Number of Movies</th>\n",
       "      <td>0.474609</td>\n",
       "      <td>1.000000</td>\n",
       "      <td>-0.627345</td>\n",
       "      <td>-0.158148</td>\n",
       "    </tr>\n",
       "    <tr>\n",
       "      <th>Average per Movie</th>\n",
       "      <td>0.014250</td>\n",
       "      <td>-0.627345</td>\n",
       "      <td>1.000000</td>\n",
       "      <td>0.474866</td>\n",
       "    </tr>\n",
       "    <tr>\n",
       "      <th>Gross</th>\n",
       "      <td>0.385570</td>\n",
       "      <td>-0.158148</td>\n",
       "      <td>0.474866</td>\n",
       "      <td>1.000000</td>\n",
       "    </tr>\n",
       "  </tbody>\n",
       "</table>\n",
       "</div>"
      ],
      "text/plain": [
       "                   Total Gross  Number of Movies  Average per Movie     Gross\n",
       "Total Gross           1.000000          0.474609           0.014250  0.385570\n",
       "Number of Movies      0.474609          1.000000          -0.627345 -0.158148\n",
       "Average per Movie     0.014250         -0.627345           1.000000  0.474866\n",
       "Gross                 0.385570         -0.158148           0.474866  1.000000"
      ]
     },
     "execution_count": 5,
     "metadata": {},
     "output_type": "execute_result"
    }
   ],
   "source": [
    "corr_df = actors.corr()\n",
    "corr_df"
   ]
  },
  {
   "cell_type": "markdown",
   "metadata": {},
   "source": [
    "As you can see, the ``corr()`` method returns a dataframe where all entries are in the interval \\[-1, 1\\].  The returned number is the correlation coefficient between 2 variables in the data.  "
   ]
  },
  {
   "cell_type": "markdown",
   "metadata": {},
   "source": [
    "The table shows us that the correlation coefficient between the `Total Gross` and `Number of Movies` is 0.474609. \n",
    "\n",
    "As another example, the correlation coefficient between the `Total Gross` and `Average Per Movie` is 0.014250.   \n",
    "\n",
    "The diagonals contain a value of 1.00000 because any variable is deeply correlated with itself, ie, always matches itself. \n",
    "\n",
    "Notice that 0.474609 and 0.014250 both appear twice.  This is because whether you find the association between `Total Gross` and the `Number of Movies` or instead between the `Number of Movies` and `Total Gross`, you should get the same value.  Because of this commutativity, the correlation matrix is always *symmetric* down the diagonal, ie, corresponding entries are the same when you fold the matrix diagonally.\n",
    "\n",
    "If you wanted to get the correlation coefficient from the table without hardcoding, you could do the following."
   ]
  },
  {
   "cell_type": "code",
   "execution_count": 6,
   "metadata": {},
   "outputs": [
    {
     "data": {
      "text/plain": [
       "0.47460879537420464"
      ]
     },
     "execution_count": 6,
     "metadata": {},
     "output_type": "execute_result"
    }
   ],
   "source": [
    "r = corr_df[\"Total Gross\"][\"Number of Movies\"]  #We are choosing the column \"Total Gross\"\n",
    "                                                #and then the row with label \"Number of movies\"\n",
    "r"
   ]
  },
  {
   "cell_type": "markdown",
   "metadata": {},
   "source": [
    "And thanks to the symmetry of the correlation table, you could have swapped the order, like blow."
   ]
  },
  {
   "cell_type": "code",
   "execution_count": 7,
   "metadata": {},
   "outputs": [
    {
     "data": {
      "text/plain": [
       "0.47460879537420464"
      ]
     },
     "execution_count": 7,
     "metadata": {},
     "output_type": "execute_result"
    }
   ],
   "source": [
    "r = corr_df[\"Number of Movies\"][\"Total Gross\"]  #Now we are choosing the column \"Number of movies\"\n",
    "                                                #and then the row with label \"Total Gross\"\n",
    "r"
   ]
  },
  {
   "cell_type": "markdown",
   "metadata": {},
   "source": [
    "How do you interpret 0.474609?  Well, this number indicates that the `Total Gross` and the `Number of Movies` have a positive linear association of *moderate* strength.  Why \"moderate\"?  Because  0.474609 is somewhere in the middle of 0 and 1, so not super weak and not super strong. Here are some guidelines for how to interpret the correlation coefficient values. (This chart is pretty typical in an intro stats class and more can be read about the correlation coefficient [here](https://www.dummies.com/education/math/statistics/how-to-interpret-a-correlation-coefficient-r/).)\n",
    "\n",
    "* Exactly –1: A perfect downhill (negative) linear relationship\n",
    "* –0.70: A strong downhill (negative) linear relationship\n",
    "* –0.50: A moderate downhill (negative) relationship\n",
    "* –0.30: A weak downhill (negative) linear relationship\n",
    "* 0: No linear relationship (But remember the parabola example - \"r=0\" might not mean \"no relationship at all\"!)\n",
    "* +0.30: A weak uphill (positive) linear relationship\n",
    "* +0.50: A moderate uphill (positive) relationship\n",
    "* +0.70: A strong uphill (positive) linear relationship\n",
    "* Exactly +1: A perfect uphill (positive) linear relationship"
   ]
  },
  {
   "cell_type": "markdown",
   "metadata": {},
   "source": [
    "Now that we have explored how the number of movies is related to the *total* gross receipt, let's turn our attention to how it is related to the *average* gross receipt per movie."
   ]
  },
  {
   "cell_type": "markdown",
   "metadata": {},
   "source": [
    "# **- - - - - - - - - - - - - - - - - - - - - - - - - - -**\n",
    "# **Question 1**\n",
    "\n",
    "A) Below, create a scatter plot of the 'Number of Movies' for each actor vs. 'Average per Movie' (average gross per movie).  Label each axis and call the graph \"Actors' Number of Movies vs.\\nAverage Gross Per Movie\".  Notice that the `\\n` in the middle just splits the title into two lines."
   ]
  },
  {
   "cell_type": "code",
   "execution_count": 17,
   "metadata": {
    "collapsed": false,
    "jupyter": {
     "outputs_hidden": false
    }
   },
   "outputs": [
    {
     "data": {
      "text/plain": [
       "Text(0.5, 1.0, 'Actors Number of Movies vs. \\nAverage Gross Per Movie')"
      ]
     },
     "execution_count": 17,
     "metadata": {},
     "output_type": "execute_result"
    },
    {
     "data": {
      "image/png": "[encoded data removed]",
      "text/plain": [
       "<Figure size 432x288 with 1 Axes>"
      ]
     },
     "metadata": {},
     "output_type": "display_data"
    }
   ],
   "source": [
    "#Make your scatter plot here, per the specifications.\n",
    "plt.scatter(actors[\"Number of Movies\"] , actors[\"Average per Movie\"])\n",
    "plt.xlabel(\"Number of Movies\")\n",
    "plt.ylabel(\"Average per Movie\")\n",
    "plt.title('Actors Number of Movies vs. \\nAverage Gross Per Movie')\n",
    "                   "
   ]
  },
  {
   "cell_type": "markdown",
   "metadata": {},
   "source": [
    "B)  This is a markedly different picture than before and shows a *negative* association. In general, the more movies an actor has been in, the *less* the average receipt per movie.\n",
    "\n",
    "The correlation is stored in the corr_df table generated above.  Set the variable equal to the correct correlation *without hardcoding*."
   ]
  },
  {
   "cell_type": "code",
   "execution_count": 19,
   "metadata": {},
   "outputs": [
    {
     "data": {
      "text/plain": [
       "-0.62734549496351"
      ]
     },
     "execution_count": 19,
     "metadata": {},
     "output_type": "execute_result"
    }
   ],
   "source": [
    "r = corr_df[\"Number of Movies\"][\"Average per Movie\"]\n",
    "r"
   ]
  },
  {
   "cell_type": "markdown",
   "metadata": {},
   "source": [
    "C) Using our guidelines above, does this show a weak/strong/moderate relationship between the variables?  Explain."
   ]
  },
  {
   "cell_type": "markdown",
   "metadata": {},
   "source": [
    "This shows a moderate negative relationship between the variables because at -.62 it is higher then a weak relationship but not a strong relationship which would be -.75"
   ]
  },
  {
   "cell_type": "markdown",
   "metadata": {},
   "source": [
    "# **- - - - - - - - - - - - - - - - - - - - - - - - - - -**"
   ]
  },
  {
   "cell_type": "markdown",
   "metadata": {},
   "source": [
    "In Question 1, notice that one of the points is quite high and off to the left of the plot. It corresponds to one actor who has a low number of movies and high average per movie. This point is an *outlier*. It lies outside the general range of the data. Indeed, it is quite far from all the other points in the plot."
   ]
  },
  {
   "cell_type": "markdown",
   "metadata": {},
   "source": [
    "We now will examine the negative association further by looking at points on the right/left ends of the plot. \n",
    "\n",
    "Let's zoom in on the main body of the plot by just looking at the portion that doesn't have that left outlier on the left."
   ]
  },
  {
   "cell_type": "code",
   "execution_count": 20,
   "metadata": {
    "collapsed": false,
    "jupyter": {
     "outputs_hidden": false
    }
   },
   "outputs": [
    {
     "data": {
      "image/png": "[encoded data removed]",
      "text/plain": [
       "<Figure size 432x288 with 1 Axes>"
      ]
     },
     "metadata": {},
     "output_type": "display_data"
    }
   ],
   "source": [
    "where_no_outlier = (actors['Number of Movies'] > 10) #Get all rows of our table where the number of movies is above 10\n",
    "actors_no_outlier = actors[where_no_outlier]\n",
    "plt.scatter(actors_no_outlier['Number of Movies'], actors_no_outlier['Average per Movie'])\n",
    "plt.title(\"Actors' Number of Movies vs.\\nAverage Gross Per Movie\")\n",
    "plt.xlabel('Number of Movies')\n",
    "plt.ylabel('Average Gross per Movie');"
   ]
  },
  {
   "cell_type": "markdown",
   "metadata": {},
   "source": [
    "The negative association is still clearly visible.  Let's check out the correlation coefficient now that this one outlier has been removed."
   ]
  },
  {
   "cell_type": "code",
   "execution_count": 21,
   "metadata": {},
   "outputs": [
    {
     "data": {
      "text/html": [
       "<div>\n",
       "<style scoped>\n",
       "    .dataframe tbody tr th:only-of-type {\n",
       "        vertical-align: middle;\n",
       "    }\n",
       "\n",
       "    .dataframe tbody tr th {\n",
       "        vertical-align: top;\n",
       "    }\n",
       "\n",
       "    .dataframe thead th {\n",
       "        text-align: right;\n",
       "    }\n",
       "</style>\n",
       "<table border=\"1\" class=\"dataframe\">\n",
       "  <thead>\n",
       "    <tr style=\"text-align: right;\">\n",
       "      <th></th>\n",
       "      <th>Total Gross</th>\n",
       "      <th>Number of Movies</th>\n",
       "      <th>Average per Movie</th>\n",
       "      <th>Gross</th>\n",
       "    </tr>\n",
       "  </thead>\n",
       "  <tbody>\n",
       "    <tr>\n",
       "      <th>Total Gross</th>\n",
       "      <td>1.000000</td>\n",
       "      <td>0.510861</td>\n",
       "      <td>-0.028893</td>\n",
       "      <td>0.406809</td>\n",
       "    </tr>\n",
       "    <tr>\n",
       "      <th>Number of Movies</th>\n",
       "      <td>0.510861</td>\n",
       "      <td>1.000000</td>\n",
       "      <td>-0.784604</td>\n",
       "      <td>-0.037520</td>\n",
       "    </tr>\n",
       "    <tr>\n",
       "      <th>Average per Movie</th>\n",
       "      <td>-0.028893</td>\n",
       "      <td>-0.784604</td>\n",
       "      <td>1.000000</td>\n",
       "      <td>0.287426</td>\n",
       "    </tr>\n",
       "    <tr>\n",
       "      <th>Gross</th>\n",
       "      <td>0.406809</td>\n",
       "      <td>-0.037520</td>\n",
       "      <td>0.287426</td>\n",
       "      <td>1.000000</td>\n",
       "    </tr>\n",
       "  </tbody>\n",
       "</table>\n",
       "</div>"
      ],
      "text/plain": [
       "                   Total Gross  Number of Movies  Average per Movie     Gross\n",
       "Total Gross           1.000000          0.510861          -0.028893  0.406809\n",
       "Number of Movies      0.510861          1.000000          -0.784604 -0.037520\n",
       "Average per Movie    -0.028893         -0.784604           1.000000  0.287426\n",
       "Gross                 0.406809         -0.037520           0.287426  1.000000"
      ]
     },
     "execution_count": 21,
     "metadata": {},
     "output_type": "execute_result"
    }
   ],
   "source": [
    "corr_matrix = actors_no_outlier.corr()\n",
    "corr_matrix"
   ]
  },
  {
   "cell_type": "markdown",
   "metadata": {},
   "source": [
    "So r went from about -0.6273 to about -0.7846.  \n",
    "\n",
    "From this, you should learn that **outliers can deeply affect the correlation coefficient**!  Without that outlier, we have a strong negative linear relationship amongst the points."
   ]
  },
  {
   "cell_type": "markdown",
   "metadata": {},
   "source": [
    "# **- - - - - - - - - - - - - - - - - - - - - - - - - - -**\n",
    "# **Question 2**\n",
    "\n",
    "Let's identify the actors corresponding to the points that lie on the right hand side of the plot where the number of movies is large  Generate a table with all actors who made more than 60 movies."
   ]
  },
  {
   "cell_type": "code",
   "execution_count": 23,
   "metadata": {
    "collapsed": false,
    "jupyter": {
     "outputs_hidden": false
    }
   },
   "outputs": [
    {
     "data": {
      "text/html": [
       "<div>\n",
       "<style scoped>\n",
       "    .dataframe tbody tr th:only-of-type {\n",
       "        vertical-align: middle;\n",
       "    }\n",
       "\n",
       "    .dataframe tbody tr th {\n",
       "        vertical-align: top;\n",
       "    }\n",
       "\n",
       "    .dataframe thead th {\n",
       "        text-align: right;\n",
       "    }\n",
       "</style>\n",
       "<table border=\"1\" class=\"dataframe\">\n",
       "  <thead>\n",
       "    <tr style=\"text-align: right;\">\n",
       "      <th></th>\n",
       "      <th>Actor</th>\n",
       "      <th>Total Gross</th>\n",
       "      <th>Number of Movies</th>\n",
       "      <th>Average per Movie</th>\n",
       "      <th>#1 Movie</th>\n",
       "      <th>Gross</th>\n",
       "    </tr>\n",
       "  </thead>\n",
       "  <tbody>\n",
       "    <tr>\n",
       "      <th>1</th>\n",
       "      <td>Samuel L. Jackson</td>\n",
       "      <td>4772.8</td>\n",
       "      <td>69</td>\n",
       "      <td>69.2</td>\n",
       "      <td>The Avengers</td>\n",
       "      <td>623.4</td>\n",
       "    </tr>\n",
       "    <tr>\n",
       "      <th>2</th>\n",
       "      <td>Morgan Freeman</td>\n",
       "      <td>4468.3</td>\n",
       "      <td>61</td>\n",
       "      <td>73.3</td>\n",
       "      <td>The Dark Knight</td>\n",
       "      <td>534.9</td>\n",
       "    </tr>\n",
       "    <tr>\n",
       "      <th>12</th>\n",
       "      <td>Bruce Willis</td>\n",
       "      <td>3189.4</td>\n",
       "      <td>60</td>\n",
       "      <td>53.2</td>\n",
       "      <td>Sixth Sense</td>\n",
       "      <td>293.5</td>\n",
       "    </tr>\n",
       "    <tr>\n",
       "      <th>19</th>\n",
       "      <td>Robert DeNiro</td>\n",
       "      <td>3081.3</td>\n",
       "      <td>79</td>\n",
       "      <td>39.0</td>\n",
       "      <td>Meet the Fockers</td>\n",
       "      <td>279.3</td>\n",
       "    </tr>\n",
       "    <tr>\n",
       "      <th>21</th>\n",
       "      <td>Liam Neeson</td>\n",
       "      <td>2942.7</td>\n",
       "      <td>63</td>\n",
       "      <td>46.7</td>\n",
       "      <td>The Phantom Menace</td>\n",
       "      <td>474.5</td>\n",
       "    </tr>\n",
       "  </tbody>\n",
       "</table>\n",
       "</div>"
      ],
      "text/plain": [
       "                Actor  Total Gross  Number of Movies  Average per Movie  \\\n",
       "1   Samuel L. Jackson       4772.8                69               69.2   \n",
       "2      Morgan Freeman       4468.3                61               73.3   \n",
       "12       Bruce Willis       3189.4                60               53.2   \n",
       "19      Robert DeNiro       3081.3                79               39.0   \n",
       "21        Liam Neeson       2942.7                63               46.7   \n",
       "\n",
       "              #1 Movie  Gross  \n",
       "1         The Avengers  623.4  \n",
       "2      The Dark Knight  534.9  \n",
       "12         Sixth Sense  293.5  \n",
       "19    Meet the Fockers  279.3  \n",
       "21  The Phantom Menace  474.5  "
      ]
     },
     "execution_count": 23,
     "metadata": {},
     "output_type": "execute_result"
    }
   ],
   "source": [
    "#Might need more code here - depends on your style\n",
    "actors_more_than_60_movies = actors[actors[\"Number of Movies\"] > 59]\n",
    "actors_more_than_60_movies"
   ]
  },
  {
   "cell_type": "markdown",
   "metadata": {},
   "source": [
    "Who had the highest number of movies? Write your answer below (Hard coding for this one is fine)."
   ]
  },
  {
   "cell_type": "markdown",
   "metadata": {},
   "source": [
    "Robert DeNiro"
   ]
  },
  {
   "cell_type": "markdown",
   "metadata": {},
   "source": [
    "# **- - - - - - - - - - - - - - - - - - - - - - - - - - -**"
   ]
  },
  {
   "cell_type": "markdown",
   "metadata": {},
   "source": [
    "From the scatter plot, you should have seen that the great actor Robert DeNiro has the highest number of movies and the lowest average receipt per movie. Other fine actors are at points that are not very far away, but DeNiro's is at the extreme right end.\n",
    "\n",
    "To understand the negative association, note that the more movies an actor is in, the more variable those movies might be, in terms of style, genre, and box office draw. For example, an actor might be in some high-grossing action movies or comedies (such as Meet the Fockers), and also in a large number of smaller films that may be excellent but don't draw large crowds. Thus the actor's value of average receipts per movie might be relatively low."
   ]
  },
  {
   "cell_type": "markdown",
   "metadata": {},
   "source": [
    "# **- - - - - - - - - - - - - - - - - - - - - - - - - - -**\n",
    "# **Question 3**\n",
    "\n",
    "To approach this argument from a different direction, let us now take a look at the outlier.  Generate a table that only has those actors who made less than 10 movies."
   ]
  },
  {
   "cell_type": "code",
   "execution_count": 26,
   "metadata": {
    "collapsed": false,
    "jupyter": {
     "outputs_hidden": false
    }
   },
   "outputs": [
    {
     "data": {
      "text/html": [
       "<div>\n",
       "<style scoped>\n",
       "    .dataframe tbody tr th:only-of-type {\n",
       "        vertical-align: middle;\n",
       "    }\n",
       "\n",
       "    .dataframe tbody tr th {\n",
       "        vertical-align: top;\n",
       "    }\n",
       "\n",
       "    .dataframe thead th {\n",
       "        text-align: right;\n",
       "    }\n",
       "</style>\n",
       "<table border=\"1\" class=\"dataframe\">\n",
       "  <thead>\n",
       "    <tr style=\"text-align: right;\">\n",
       "      <th></th>\n",
       "      <th>Actor</th>\n",
       "      <th>Total Gross</th>\n",
       "      <th>Number of Movies</th>\n",
       "      <th>Average per Movie</th>\n",
       "      <th>#1 Movie</th>\n",
       "      <th>Gross</th>\n",
       "    </tr>\n",
       "  </thead>\n",
       "  <tbody>\n",
       "    <tr>\n",
       "      <th>14</th>\n",
       "      <td>Anthony Daniels</td>\n",
       "      <td>3162.9</td>\n",
       "      <td>7</td>\n",
       "      <td>451.8</td>\n",
       "      <td>Star Wars: The Force Awakens</td>\n",
       "      <td>936.7</td>\n",
       "    </tr>\n",
       "  </tbody>\n",
       "</table>\n",
       "</div>"
      ],
      "text/plain": [
       "              Actor  Total Gross  Number of Movies  Average per Movie  \\\n",
       "14  Anthony Daniels       3162.9                 7              451.8   \n",
       "\n",
       "                        #1 Movie  Gross  \n",
       "14  Star Wars: The Force Awakens  936.7  "
      ]
     },
     "execution_count": 26,
     "metadata": {},
     "output_type": "execute_result"
    }
   ],
   "source": [
    "#Might need more code here - depends on your style\n",
    "actors_less_than_10_movies = actors[actors[\"Number of Movies\"] < 11]\n",
    "actors_less_than_10_movies"
   ]
  },
  {
   "cell_type": "markdown",
   "metadata": {},
   "source": [
    "Who had the highest number of movies? Write your answer below (Hard coding is fine)."
   ]
  },
  {
   "cell_type": "markdown",
   "metadata": {},
   "source": [
    "Anthony Daniels"
   ]
  },
  {
   "cell_type": "markdown",
   "metadata": {},
   "source": [
    "# **- - - - - - - - - - - - - - - - - - - - - - - - - - -**"
   ]
  },
  {
   "cell_type": "markdown",
   "metadata": {},
   "source": [
    "Your answer should have been Anthony Daniels.  Anthony Daniels might not have the stature of Robert DeNiro, but his 7 movies had an astonishingly high average receipt of nearly $452$ million dollars per movie.\n",
    "\n",
    "What were these movies? You might know about the droid C-3PO in Star Wars:\n",
    "\n",
    "![C-3PO](https://raw.githubusercontent.com/kathleen-ryan-DeSales/CS250/main/pictures/C-3PO_droid.png)\n",
    "\n",
    "That's [Anthony Daniels](https://en.wikipedia.org/wiki/Anthony_Daniels) inside the metallic suit. He plays C-3PO.\n",
    "\n",
    "Mr. Daniels' entire filmography (apart from cameos) consists of movies in the high-grossing Star Wars franchise. That explains both his high average receipt and his low number of movies.\n",
    "\n",
    "Variables such as genre and production budget have an effect on the association between the number of movies and the average receipt per movie. This example is a reminder that studying the association between two variables often involves understanding other related variables as well. "
   ]
  },
  {
   "cell_type": "markdown",
   "metadata": {},
   "source": [
    "# **- - - - - - - - - - - - - - - - - - - - - - - - - - -**"
   ]
  },
  {
   "cell_type": "markdown",
   "metadata": {},
   "source": [
    "###  Time to stop the games...\n",
    "\n",
    "Recall the GameStop example from last lab.  Let's read in the data again."
   ]
  },
  {
   "cell_type": "code",
   "execution_count": 27,
   "metadata": {},
   "outputs": [
    {
     "data": {
      "text/html": [
       "<div>\n",
       "<style scoped>\n",
       "    .dataframe tbody tr th:only-of-type {\n",
       "        vertical-align: middle;\n",
       "    }\n",
       "\n",
       "    .dataframe tbody tr th {\n",
       "        vertical-align: top;\n",
       "    }\n",
       "\n",
       "    .dataframe thead th {\n",
       "        text-align: right;\n",
       "    }\n",
       "</style>\n",
       "<table border=\"1\" class=\"dataframe\">\n",
       "  <thead>\n",
       "    <tr style=\"text-align: right;\">\n",
       "      <th></th>\n",
       "      <th>Date</th>\n",
       "      <th>Open</th>\n",
       "      <th>High</th>\n",
       "      <th>Low</th>\n",
       "      <th>Close</th>\n",
       "      <th>Adj Close</th>\n",
       "      <th>Volume</th>\n",
       "    </tr>\n",
       "  </thead>\n",
       "  <tbody>\n",
       "    <tr>\n",
       "      <th>0</th>\n",
       "      <td>2020-09-29</td>\n",
       "      <td>10.000000</td>\n",
       "      <td>10.650000</td>\n",
       "      <td>9.930000</td>\n",
       "      <td>10.350000</td>\n",
       "      <td>10.350000</td>\n",
       "      <td>5237600</td>\n",
       "    </tr>\n",
       "    <tr>\n",
       "      <th>1</th>\n",
       "      <td>2020-09-30</td>\n",
       "      <td>10.250000</td>\n",
       "      <td>10.760000</td>\n",
       "      <td>10.060000</td>\n",
       "      <td>10.200000</td>\n",
       "      <td>10.200000</td>\n",
       "      <td>6079000</td>\n",
       "    </tr>\n",
       "    <tr>\n",
       "      <th>2</th>\n",
       "      <td>2020-10-01</td>\n",
       "      <td>10.090000</td>\n",
       "      <td>10.250000</td>\n",
       "      <td>9.690000</td>\n",
       "      <td>9.770000</td>\n",
       "      <td>9.770000</td>\n",
       "      <td>4554100</td>\n",
       "    </tr>\n",
       "    <tr>\n",
       "      <th>3</th>\n",
       "      <td>2020-10-02</td>\n",
       "      <td>9.380000</td>\n",
       "      <td>9.780000</td>\n",
       "      <td>9.300000</td>\n",
       "      <td>9.390000</td>\n",
       "      <td>9.390000</td>\n",
       "      <td>4340500</td>\n",
       "    </tr>\n",
       "    <tr>\n",
       "      <th>4</th>\n",
       "      <td>2020-10-05</td>\n",
       "      <td>9.440000</td>\n",
       "      <td>9.590000</td>\n",
       "      <td>9.250000</td>\n",
       "      <td>9.460000</td>\n",
       "      <td>9.460000</td>\n",
       "      <td>2805000</td>\n",
       "    </tr>\n",
       "    <tr>\n",
       "      <th>...</th>\n",
       "      <td>...</td>\n",
       "      <td>...</td>\n",
       "      <td>...</td>\n",
       "      <td>...</td>\n",
       "      <td>...</td>\n",
       "      <td>...</td>\n",
       "      <td>...</td>\n",
       "    </tr>\n",
       "    <tr>\n",
       "      <th>248</th>\n",
       "      <td>2021-09-23</td>\n",
       "      <td>192.330002</td>\n",
       "      <td>195.750000</td>\n",
       "      <td>190.600006</td>\n",
       "      <td>191.240005</td>\n",
       "      <td>191.240005</td>\n",
       "      <td>1682300</td>\n",
       "    </tr>\n",
       "    <tr>\n",
       "      <th>249</th>\n",
       "      <td>2021-09-24</td>\n",
       "      <td>191.000000</td>\n",
       "      <td>191.720001</td>\n",
       "      <td>184.110001</td>\n",
       "      <td>185.160004</td>\n",
       "      <td>185.160004</td>\n",
       "      <td>1679900</td>\n",
       "    </tr>\n",
       "    <tr>\n",
       "      <th>250</th>\n",
       "      <td>2021-09-27</td>\n",
       "      <td>185.919998</td>\n",
       "      <td>192.050003</td>\n",
       "      <td>185.869995</td>\n",
       "      <td>189.479996</td>\n",
       "      <td>189.479996</td>\n",
       "      <td>1470100</td>\n",
       "    </tr>\n",
       "    <tr>\n",
       "      <th>251</th>\n",
       "      <td>2021-09-28</td>\n",
       "      <td>188.000000</td>\n",
       "      <td>190.809998</td>\n",
       "      <td>178.000000</td>\n",
       "      <td>178.600006</td>\n",
       "      <td>178.600006</td>\n",
       "      <td>1770500</td>\n",
       "    </tr>\n",
       "    <tr>\n",
       "      <th>252</th>\n",
       "      <td>2021-09-29</td>\n",
       "      <td>180.089996</td>\n",
       "      <td>184.479996</td>\n",
       "      <td>174.610001</td>\n",
       "      <td>175.919998</td>\n",
       "      <td>175.919998</td>\n",
       "      <td>1875468</td>\n",
       "    </tr>\n",
       "  </tbody>\n",
       "</table>\n",
       "<p>253 rows × 7 columns</p>\n",
       "</div>"
      ],
      "text/plain": [
       "          Date        Open        High         Low       Close   Adj Close  \\\n",
       "0   2020-09-29   10.000000   10.650000    9.930000   10.350000   10.350000   \n",
       "1   2020-09-30   10.250000   10.760000   10.060000   10.200000   10.200000   \n",
       "2   2020-10-01   10.090000   10.250000    9.690000    9.770000    9.770000   \n",
       "3   2020-10-02    9.380000    9.780000    9.300000    9.390000    9.390000   \n",
       "4   2020-10-05    9.440000    9.590000    9.250000    9.460000    9.460000   \n",
       "..         ...         ...         ...         ...         ...         ...   \n",
       "248 2021-09-23  192.330002  195.750000  190.600006  191.240005  191.240005   \n",
       "249 2021-09-24  191.000000  191.720001  184.110001  185.160004  185.160004   \n",
       "250 2021-09-27  185.919998  192.050003  185.869995  189.479996  189.479996   \n",
       "251 2021-09-28  188.000000  190.809998  178.000000  178.600006  178.600006   \n",
       "252 2021-09-29  180.089996  184.479996  174.610001  175.919998  175.919998   \n",
       "\n",
       "      Volume  \n",
       "0    5237600  \n",
       "1    6079000  \n",
       "2    4554100  \n",
       "3    4340500  \n",
       "4    2805000  \n",
       "..       ...  \n",
       "248  1682300  \n",
       "249  1679900  \n",
       "250  1470100  \n",
       "251  1770500  \n",
       "252  1875468  \n",
       "\n",
       "[253 rows x 7 columns]"
      ]
     },
     "execution_count": 27,
     "metadata": {},
     "output_type": "execute_result"
    }
   ],
   "source": [
    "game_stop = pd.read_csv(\"game_stop.txt\", parse_dates=[\"Date\"]) #Thanks to parse_Dates, the Date column \n",
    "                                                               #is recognized as time and not just a string.\n",
    "    \n",
    "game_stop"
   ]
  },
  {
   "cell_type": "markdown",
   "metadata": {},
   "source": [
    "# **- - - - - - - - - - - - - - - - - - - - - - - - - - -**\n",
    "# **Question 4**\n",
    "\n",
    "A) Create a scatter plot for the Closing Values vs. Opening Values of each day in our data set.  \n",
    "\n",
    "Be sure, as always, to ive a tile and label your x axis and y axis."
   ]
  },
  {
   "cell_type": "code",
   "execution_count": 33,
   "metadata": {},
   "outputs": [
    {
     "data": {
      "text/plain": [
       "Text(0.5, 1.0, 'GameStop Opening and Closing Values')"
      ]
     },
     "execution_count": 33,
     "metadata": {},
     "output_type": "execute_result"
    },
    {
     "data": {
      "image/png": "[encoded data removed]",
      "text/plain": [
       "<Figure size 432x288 with 1 Axes>"
      ]
     },
     "metadata": {},
     "output_type": "display_data"
    }
   ],
   "source": [
    "plt.scatter(game_stop[\"Date\"] , game_stop[\"Close\"])\n",
    "plt.scatter(game_stop[\"Date\"] , game_stop[\"Open\"])\n",
    "plt.xlabel('Date')\n",
    "plt.ylabel(\"Value\")\n",
    "plt.title(\"GameStop Opening and Closing Values\")"
   ]
  },
  {
   "cell_type": "markdown",
   "metadata": {},
   "source": [
    "B) Now without hardcoding. find the correlation coefficient of the closing versus opening prices."
   ]
  },
  {
   "cell_type": "code",
   "execution_count": 39,
   "metadata": {},
   "outputs": [
    {
     "data": {
      "text/html": [
       "<div>\n",
       "<style scoped>\n",
       "    .dataframe tbody tr th:only-of-type {\n",
       "        vertical-align: middle;\n",
       "    }\n",
       "\n",
       "    .dataframe tbody tr th {\n",
       "        vertical-align: top;\n",
       "    }\n",
       "\n",
       "    .dataframe thead th {\n",
       "        text-align: right;\n",
       "    }\n",
       "</style>\n",
       "<table border=\"1\" class=\"dataframe\">\n",
       "  <thead>\n",
       "    <tr style=\"text-align: right;\">\n",
       "      <th></th>\n",
       "      <th>Open</th>\n",
       "      <th>High</th>\n",
       "      <th>Low</th>\n",
       "      <th>Close</th>\n",
       "      <th>Adj Close</th>\n",
       "      <th>Volume</th>\n",
       "    </tr>\n",
       "  </thead>\n",
       "  <tbody>\n",
       "    <tr>\n",
       "      <th>Open</th>\n",
       "      <td>1.000000</td>\n",
       "      <td>0.983216</td>\n",
       "      <td>0.978490</td>\n",
       "      <td>0.984208</td>\n",
       "      <td>0.984208</td>\n",
       "      <td>-0.082950</td>\n",
       "    </tr>\n",
       "    <tr>\n",
       "      <th>High</th>\n",
       "      <td>0.983216</td>\n",
       "      <td>1.000000</td>\n",
       "      <td>0.946109</td>\n",
       "      <td>0.972841</td>\n",
       "      <td>0.972841</td>\n",
       "      <td>0.006841</td>\n",
       "    </tr>\n",
       "    <tr>\n",
       "      <th>Low</th>\n",
       "      <td>0.978490</td>\n",
       "      <td>0.946109</td>\n",
       "      <td>1.000000</td>\n",
       "      <td>0.987950</td>\n",
       "      <td>0.987950</td>\n",
       "      <td>-0.170965</td>\n",
       "    </tr>\n",
       "    <tr>\n",
       "      <th>Close</th>\n",
       "      <td>0.984208</td>\n",
       "      <td>0.972841</td>\n",
       "      <td>0.987950</td>\n",
       "      <td>1.000000</td>\n",
       "      <td>1.000000</td>\n",
       "      <td>-0.085769</td>\n",
       "    </tr>\n",
       "    <tr>\n",
       "      <th>Adj Close</th>\n",
       "      <td>0.984208</td>\n",
       "      <td>0.972841</td>\n",
       "      <td>0.987950</td>\n",
       "      <td>1.000000</td>\n",
       "      <td>1.000000</td>\n",
       "      <td>-0.085769</td>\n",
       "    </tr>\n",
       "    <tr>\n",
       "      <th>Volume</th>\n",
       "      <td>-0.082950</td>\n",
       "      <td>0.006841</td>\n",
       "      <td>-0.170965</td>\n",
       "      <td>-0.085769</td>\n",
       "      <td>-0.085769</td>\n",
       "      <td>1.000000</td>\n",
       "    </tr>\n",
       "  </tbody>\n",
       "</table>\n",
       "</div>"
      ],
      "text/plain": [
       "               Open      High       Low     Close  Adj Close    Volume\n",
       "Open       1.000000  0.983216  0.978490  0.984208   0.984208 -0.082950\n",
       "High       0.983216  1.000000  0.946109  0.972841   0.972841  0.006841\n",
       "Low        0.978490  0.946109  1.000000  0.987950   0.987950 -0.170965\n",
       "Close      0.984208  0.972841  0.987950  1.000000   1.000000 -0.085769\n",
       "Adj Close  0.984208  0.972841  0.987950  1.000000   1.000000 -0.085769\n",
       "Volume    -0.082950  0.006841 -0.170965 -0.085769  -0.085769  1.000000"
      ]
     },
     "execution_count": 39,
     "metadata": {},
     "output_type": "execute_result"
    }
   ],
   "source": [
    "#may need code here\n",
    "\n",
    "corr_close_vs_open = game_stop.corr()\n",
    "corr_close_vs_open"
   ]
  },
  {
   "cell_type": "markdown",
   "metadata": {},
   "source": [
    "C)  The scatter plot and correlation coefficient suggest a very strong correlation.  Why does that make sense, given the context of this data?"
   ]
  },
  {
   "cell_type": "markdown",
   "metadata": {},
   "source": [
    "This makes sense because the opening price and closing price of stock tends to not chage dratically over 1 day"
   ]
  },
  {
   "cell_type": "markdown",
   "metadata": {},
   "source": [
    "---\n",
    "\n"
   ]
  },
  {
   "cell_type": "markdown",
   "metadata": {},
   "source": [
    "###  Transforming logarithmic or exponential data\n",
    "\n",
    "In 2007, a university study was published investigating the crash risk of alcohol impaired driving. Data from 2,871 crashes were used to measure the association of a person’s blood alcohol level (BAC) with the risk of being in an accident. The alcohol data frame below shows results from the [study](https://opentextbc.ca/algebratrigonometryopenstax/chapter/fitting-exponential-models-to-data/#return-footnote-74-1). \n",
    "\n",
    "The relative risk is a measure of how many times more likely a person is to crash. So, for example, a person with a BAC of 0.09 is 3.54 times as likely to crash as a person who has not been drinking alcohol.\n"
   ]
  },
  {
   "cell_type": "code",
   "execution_count": 40,
   "metadata": {},
   "outputs": [
    {
     "data": {
      "text/html": [
       "<div>\n",
       "<style scoped>\n",
       "    .dataframe tbody tr th:only-of-type {\n",
       "        vertical-align: middle;\n",
       "    }\n",
       "\n",
       "    .dataframe tbody tr th {\n",
       "        vertical-align: top;\n",
       "    }\n",
       "\n",
       "    .dataframe thead th {\n",
       "        text-align: right;\n",
       "    }\n",
       "</style>\n",
       "<table border=\"1\" class=\"dataframe\">\n",
       "  <thead>\n",
       "    <tr style=\"text-align: right;\">\n",
       "      <th></th>\n",
       "      <th>BAC</th>\n",
       "      <th>Risk</th>\n",
       "    </tr>\n",
       "  </thead>\n",
       "  <tbody>\n",
       "    <tr>\n",
       "      <th>0</th>\n",
       "      <td>0.00</td>\n",
       "      <td>1.00</td>\n",
       "    </tr>\n",
       "    <tr>\n",
       "      <th>1</th>\n",
       "      <td>0.01</td>\n",
       "      <td>1.03</td>\n",
       "    </tr>\n",
       "    <tr>\n",
       "      <th>2</th>\n",
       "      <td>0.03</td>\n",
       "      <td>1.06</td>\n",
       "    </tr>\n",
       "    <tr>\n",
       "      <th>3</th>\n",
       "      <td>0.05</td>\n",
       "      <td>1.38</td>\n",
       "    </tr>\n",
       "    <tr>\n",
       "      <th>4</th>\n",
       "      <td>0.07</td>\n",
       "      <td>2.09</td>\n",
       "    </tr>\n",
       "    <tr>\n",
       "      <th>5</th>\n",
       "      <td>0.09</td>\n",
       "      <td>3.54</td>\n",
       "    </tr>\n",
       "    <tr>\n",
       "      <th>6</th>\n",
       "      <td>0.11</td>\n",
       "      <td>6.41</td>\n",
       "    </tr>\n",
       "    <tr>\n",
       "      <th>7</th>\n",
       "      <td>0.13</td>\n",
       "      <td>12.60</td>\n",
       "    </tr>\n",
       "    <tr>\n",
       "      <th>8</th>\n",
       "      <td>0.15</td>\n",
       "      <td>22.10</td>\n",
       "    </tr>\n",
       "    <tr>\n",
       "      <th>9</th>\n",
       "      <td>0.17</td>\n",
       "      <td>39.05</td>\n",
       "    </tr>\n",
       "    <tr>\n",
       "      <th>10</th>\n",
       "      <td>0.19</td>\n",
       "      <td>65.32</td>\n",
       "    </tr>\n",
       "    <tr>\n",
       "      <th>11</th>\n",
       "      <td>0.21</td>\n",
       "      <td>99.78</td>\n",
       "    </tr>\n",
       "  </tbody>\n",
       "</table>\n",
       "</div>"
      ],
      "text/plain": [
       "     BAC   Risk\n",
       "0   0.00   1.00\n",
       "1   0.01   1.03\n",
       "2   0.03   1.06\n",
       "3   0.05   1.38\n",
       "4   0.07   2.09\n",
       "5   0.09   3.54\n",
       "6   0.11   6.41\n",
       "7   0.13  12.60\n",
       "8   0.15  22.10\n",
       "9   0.17  39.05\n",
       "10  0.19  65.32\n",
       "11  0.21  99.78"
      ]
     },
     "execution_count": 40,
     "metadata": {},
     "output_type": "execute_result"
    }
   ],
   "source": [
    "alcohol = pd.DataFrame({\"BAC\" : [0,0.01,0.03,0.05,0.07,0.09,0.11,0.13,0.15,0.17,0.19,0.21],\n",
    "\"Risk\": [1,1.03,1.06,1.38,2.09,3.54,6.41,12.6,22.1,39.05,65.32,99.78]})\n",
    "\n",
    "alcohol"
   ]
  },
  {
   "cell_type": "markdown",
   "metadata": {},
   "source": [
    "# **- - - - - - - - - - - - - - - - - - - - - - - - - - -**\n",
    "# **Question 5**\n",
    "\n",
    "Create a scatter plot of this data with the BAC on the x axis and the relative risk on the y axis.\n",
    "\n",
    "Of course, give an appropriate title and include labels."
   ]
  },
  {
   "cell_type": "code",
   "execution_count": 44,
   "metadata": {},
   "outputs": [
    {
     "data": {
      "text/plain": [
       "Text(0.5, 1.0, 'Risk of Getting into a Car Accident Based on BAC')"
      ]
     },
     "execution_count": 44,
     "metadata": {},
     "output_type": "execute_result"
    },
    {
     "data": {
      "image/png": "[encoded data removed]",
      "text/plain": [
       "<Figure size 432x288 with 1 Axes>"
      ]
     },
     "metadata": {},
     "output_type": "display_data"
    }
   ],
   "source": [
    "plt.scatter(alcohol[\"BAC\"] , alcohol[\"Risk\"])\n",
    "plt.xlabel('Blood Alcohol Conetent')\n",
    "plt.ylabel('Risk')\n",
    "plt.title('Risk of Getting into a Car Accident Based on BAC')"
   ]
  },
  {
   "cell_type": "markdown",
   "metadata": {},
   "source": [
    "---\n",
    "\n",
    "You should should notice that the Risk is rising exponentially, ie, Risk appears to be rising like $$e ^ {BAC}$$.\n",
    "\n",
    "If you remember your logarithmic/exponential rules, another way to denote this same relationship is: \n",
    "\n",
    "$$ Risk \\approx e ^ {BAC}  \\,\\,\\,\\, \\implies \\,\\,\\,\\, BAC \\approx \\log Risk $$\n",
    "\n",
    "# **- - - - - - - - - - - - - - - - - - - - - - - - - - -**\n",
    "# **Question 6**\n",
    "\n",
    "A) We can use ``np.log(array)`` to take the log of each value in an array in an elementwise fashion.  \n",
    "\n",
    "Use this method to craete a column \"Log Risk\" in the ``alchohol`` dataframe that contains the log of each Risk value."
   ]
  },
  {
   "cell_type": "code",
   "execution_count": 50,
   "metadata": {},
   "outputs": [
    {
     "data": {
      "text/html": [
       "<div>\n",
       "<style scoped>\n",
       "    .dataframe tbody tr th:only-of-type {\n",
       "        vertical-align: middle;\n",
       "    }\n",
       "\n",
       "    .dataframe tbody tr th {\n",
       "        vertical-align: top;\n",
       "    }\n",
       "\n",
       "    .dataframe thead th {\n",
       "        text-align: right;\n",
       "    }\n",
       "</style>\n",
       "<table border=\"1\" class=\"dataframe\">\n",
       "  <thead>\n",
       "    <tr style=\"text-align: right;\">\n",
       "      <th></th>\n",
       "      <th>BAC</th>\n",
       "      <th>Risk</th>\n",
       "      <th>Log Risk</th>\n",
       "    </tr>\n",
       "  </thead>\n",
       "  <tbody>\n",
       "    <tr>\n",
       "      <th>0</th>\n",
       "      <td>0.00</td>\n",
       "      <td>1.00</td>\n",
       "      <td>0.000000</td>\n",
       "    </tr>\n",
       "    <tr>\n",
       "      <th>1</th>\n",
       "      <td>0.01</td>\n",
       "      <td>1.03</td>\n",
       "      <td>0.029559</td>\n",
       "    </tr>\n",
       "    <tr>\n",
       "      <th>2</th>\n",
       "      <td>0.03</td>\n",
       "      <td>1.06</td>\n",
       "      <td>0.058269</td>\n",
       "    </tr>\n",
       "    <tr>\n",
       "      <th>3</th>\n",
       "      <td>0.05</td>\n",
       "      <td>1.38</td>\n",
       "      <td>0.322083</td>\n",
       "    </tr>\n",
       "    <tr>\n",
       "      <th>4</th>\n",
       "      <td>0.07</td>\n",
       "      <td>2.09</td>\n",
       "      <td>0.737164</td>\n",
       "    </tr>\n",
       "    <tr>\n",
       "      <th>5</th>\n",
       "      <td>0.09</td>\n",
       "      <td>3.54</td>\n",
       "      <td>1.264127</td>\n",
       "    </tr>\n",
       "    <tr>\n",
       "      <th>6</th>\n",
       "      <td>0.11</td>\n",
       "      <td>6.41</td>\n",
       "      <td>1.857859</td>\n",
       "    </tr>\n",
       "    <tr>\n",
       "      <th>7</th>\n",
       "      <td>0.13</td>\n",
       "      <td>12.60</td>\n",
       "      <td>2.533697</td>\n",
       "    </tr>\n",
       "    <tr>\n",
       "      <th>8</th>\n",
       "      <td>0.15</td>\n",
       "      <td>22.10</td>\n",
       "      <td>3.095578</td>\n",
       "    </tr>\n",
       "    <tr>\n",
       "      <th>9</th>\n",
       "      <td>0.17</td>\n",
       "      <td>39.05</td>\n",
       "      <td>3.664843</td>\n",
       "    </tr>\n",
       "    <tr>\n",
       "      <th>10</th>\n",
       "      <td>0.19</td>\n",
       "      <td>65.32</td>\n",
       "      <td>4.179298</td>\n",
       "    </tr>\n",
       "    <tr>\n",
       "      <th>11</th>\n",
       "      <td>0.21</td>\n",
       "      <td>99.78</td>\n",
       "      <td>4.602968</td>\n",
       "    </tr>\n",
       "  </tbody>\n",
       "</table>\n",
       "</div>"
      ],
      "text/plain": [
       "     BAC   Risk  Log Risk\n",
       "0   0.00   1.00  0.000000\n",
       "1   0.01   1.03  0.029559\n",
       "2   0.03   1.06  0.058269\n",
       "3   0.05   1.38  0.322083\n",
       "4   0.07   2.09  0.737164\n",
       "5   0.09   3.54  1.264127\n",
       "6   0.11   6.41  1.857859\n",
       "7   0.13  12.60  2.533697\n",
       "8   0.15  22.10  3.095578\n",
       "9   0.17  39.05  3.664843\n",
       "10  0.19  65.32  4.179298\n",
       "11  0.21  99.78  4.602968"
      ]
     },
     "execution_count": 50,
     "metadata": {},
     "output_type": "execute_result"
    }
   ],
   "source": [
    "alcohol[\"Log Risk\"] = np.log(alcohol[\"Risk\"])\n",
    "alcohol"
   ]
  },
  {
   "cell_type": "markdown",
   "metadata": {},
   "source": [
    "B) Now create a scatter plot of the BAC versus \"Log Risk\" data. \n",
    "\n",
    "Make the title \"Risk from Blood Alchohol (BAC)\" with an x label of \"BAC\" and a y label of \"Risk (log)\" "
   ]
  },
  {
   "cell_type": "code",
   "execution_count": 52,
   "metadata": {},
   "outputs": [
    {
     "data": {
      "text/plain": [
       "Text(0.5, 1.0, 'Risk from Blood Alcohol (BAC)')"
      ]
     },
     "execution_count": 52,
     "metadata": {},
     "output_type": "execute_result"
    },
    {
     "data": {
      "image/png": "[encoded data removed]",
      "text/plain": [
       "<Figure size 432x288 with 1 Axes>"
      ]
     },
     "metadata": {},
     "output_type": "display_data"
    }
   ],
   "source": [
    "plt.scatter(alcohol[\"BAC\"] , alcohol[\"Log Risk\"])\n",
    "plt.xlabel('BAC')\n",
    "plt.ylabel('Risk(log)')\n",
    "plt.title('Risk from Blood Alcohol (BAC)')"
   ]
  },
  {
   "cell_type": "markdown",
   "metadata": {},
   "source": [
    "Since we deduced that $BAC \\approx \\log Risk$, the plot points should look more linear than the plot from Question 5.\n",
    "\n",
    "C) Find the table of correlation coefficients for the ``alchohol`` dataframe."
   ]
  },
  {
   "cell_type": "code",
   "execution_count": 53,
   "metadata": {},
   "outputs": [
    {
     "data": {
      "text/html": [
       "<div>\n",
       "<style scoped>\n",
       "    .dataframe tbody tr th:only-of-type {\n",
       "        vertical-align: middle;\n",
       "    }\n",
       "\n",
       "    .dataframe tbody tr th {\n",
       "        vertical-align: top;\n",
       "    }\n",
       "\n",
       "    .dataframe thead th {\n",
       "        text-align: right;\n",
       "    }\n",
       "</style>\n",
       "<table border=\"1\" class=\"dataframe\">\n",
       "  <thead>\n",
       "    <tr style=\"text-align: right;\">\n",
       "      <th></th>\n",
       "      <th>BAC</th>\n",
       "      <th>Risk</th>\n",
       "      <th>Log Risk</th>\n",
       "    </tr>\n",
       "  </thead>\n",
       "  <tbody>\n",
       "    <tr>\n",
       "      <th>BAC</th>\n",
       "      <td>1.000000</td>\n",
       "      <td>0.831378</td>\n",
       "      <td>0.985505</td>\n",
       "    </tr>\n",
       "    <tr>\n",
       "      <th>Risk</th>\n",
       "      <td>0.831378</td>\n",
       "      <td>1.000000</td>\n",
       "      <td>0.870858</td>\n",
       "    </tr>\n",
       "    <tr>\n",
       "      <th>Log Risk</th>\n",
       "      <td>0.985505</td>\n",
       "      <td>0.870858</td>\n",
       "      <td>1.000000</td>\n",
       "    </tr>\n",
       "  </tbody>\n",
       "</table>\n",
       "</div>"
      ],
      "text/plain": [
       "               BAC      Risk  Log Risk\n",
       "BAC       1.000000  0.831378  0.985505\n",
       "Risk      0.831378  1.000000  0.870858\n",
       "Log Risk  0.985505  0.870858  1.000000"
      ]
     },
     "execution_count": 53,
     "metadata": {},
     "output_type": "execute_result"
    }
   ],
   "source": [
    "alcohol.corr()"
   ]
  },
  {
   "cell_type": "markdown",
   "metadata": {},
   "source": [
    "Take note of the correlation between BAC vs. Risk  (0.831378) and also Bac vs. Log Risk (0.985505).  Sinnce the latter is closer to 1, it does appear that the log of the risk has a high linear relationship with the BAC."
   ]
  },
  {
   "cell_type": "markdown",
   "metadata": {},
   "source": [
    "---\n",
    "\n",
    "### Using scatter plots to plot special points."
   ]
  },
  {
   "cell_type": "markdown",
   "metadata": {},
   "source": [
    "We can use ``plt.scatter(x, y, color = \"red\")`` to highlight points on other graphs.  In specific, this code would draw an orange dot at the point $(x,y)$.  Let's get practice with this now. \n",
    "\n",
    "Recall our plot of the GameStop data. Run the cell below."
   ]
  },
  {
   "cell_type": "code",
   "execution_count": 54,
   "metadata": {},
   "outputs": [
    {
     "data": {
      "image/png": "[encoded data removed]",
      "text/plain": [
       "<Figure size 432x288 with 1 Axes>"
      ]
     },
     "metadata": {},
     "output_type": "display_data"
    }
   ],
   "source": [
    "plt.plot(game_stop[\"Date\"], game_stop['Close'])\n",
    "plt.title('Number of Movies Created 2000-2020')\n",
    "plt.xlabel(\"Date\")\n",
    "plt.ylabel(\"Closing Price\")\n",
    "plt.title(\"Game Stop Closing Prices\")\n",
    "plt.xticks(rotation=45);"
   ]
  },
  {
   "cell_type": "markdown",
   "metadata": {},
   "source": [
    "# **- - - - - - - - - - - - - - - - - - - - - - - - - - -**\n",
    "# **Question 7**\n",
    "\n",
    "At its peak, the closing price of the GameStop stock was on \"2021-01-27\" with a  value of $347.510010.\n",
    "\n",
    "FIRST:  \n",
    "\n",
    "* In the cell below, use the ``peak_date``, ``peak_close``, and ``plt.scatter(..., ..., color = \"red\")`` function, plot a red point for this peak.\n",
    "\n",
    "THEN:\n",
    "\n",
    "* add a parameter ``zorder=1`` to the ``plt.plot(...)`` line of code \n",
    "* and a parameter ``zorder=2`` to the ``plt.scatter(...)`` line of code \n",
    "\n",
    "SO THAT the red dot is drawn 2nd and thus appears on top of the blue line graph."
   ]
  },
  {
   "cell_type": "code",
   "execution_count": 85,
   "metadata": {},
   "outputs": [
    {
     "data": {
      "image/png": "[encoded data removed]",
      "text/plain": [
       "<Figure size 432x288 with 1 Axes>"
      ]
     },
     "metadata": {},
     "output_type": "display_data"
    }
   ],
   "source": [
    "game_stop[\"peak_date\"] = game_stop.sort_values(by=\"Close\", ascending=False)[\"Date\"].iloc[0]\n",
    "game_stop[\"peak_close\"] = game_stop.sort_values(by=\"Close\", ascending=False)[\"Close\"].iloc[0]\n",
    "plt.scatter(game_stop[\"peak_date\"] , game_stop[\"peak_close\"],color = 'red' , zorder=2)\n",
    "\n",
    "plt.plot(game_stop[\"Date\"], game_stop['Close'],zorder=1)\n",
    "plt.title('Number of Movies Created 2000-2020')\n",
    "plt.xlabel(\"Date\")\n",
    "plt.ylabel(\"Closing Price\")\n",
    "plt.title(\"Game Stop Closing Prices\")\n",
    "plt.xticks(rotation=45);"
   ]
  },
  {
   "cell_type": "code",
   "execution_count": null,
   "metadata": {},
   "outputs": [],
   "source": []
  },
  {
   "cell_type": "code",
   "execution_count": null,
   "metadata": {},
   "outputs": [],
   "source": []
  },
  {
   "cell_type": "code",
   "execution_count": null,
   "metadata": {},
   "outputs": [],
   "source": []
  }
 ],
 "metadata": {
  "anaconda-cloud": {},
  "kernelspec": {
   "display_name": "Python 3 (ipykernel)",
   "language": "python",
   "name": "python3"
  },
  "language_info": {
   "codemirror_mode": {
    "name": "ipython",
    "version": 3
   },
   "file_extension": ".py",
   "mimetype": "text/x-python",
   "name": "python",
   "nbconvert_exporter": "python",
   "pygments_lexer": "ipython3",
   "version": "3.9.7"
  }
 },
 "nbformat": 4,
 "nbformat_minor": 4
}
